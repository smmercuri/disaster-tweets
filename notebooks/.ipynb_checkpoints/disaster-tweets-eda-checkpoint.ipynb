{
 "cells": [
  {
   "cell_type": "markdown",
   "id": "51479911",
   "metadata": {},
   "source": [
    "# Disaster Tweets EDA"
   ]
  },
  {
   "cell_type": "code",
   "execution_count": 1,
   "id": "b281193c",
   "metadata": {},
   "outputs": [],
   "source": [
    "%load_ext autoreload\n",
    "%autoreload 2"
   ]
  },
  {
   "cell_type": "code",
   "execution_count": 2,
   "id": "997af90f",
   "metadata": {},
   "outputs": [
    {
     "name": "stderr",
     "output_type": "stream",
     "text": [
      "2023-01-17 16:22:01.508559: I tensorflow/core/platform/cpu_feature_guard.cc:193] This TensorFlow binary is optimized with oneAPI Deep Neural Network Library (oneDNN) to use the following CPU instructions in performance-critical operations:  AVX2 FMA\n",
      "To enable them in other operations, rebuild TensorFlow with the appropriate compiler flags.\n"
     ]
    }
   ],
   "source": [
    "import sys\n",
    "sys.path.append(\"..\")\n",
    "\n",
    "import numpy as np\n",
    "import pandas as pd\n",
    "import re\n",
    "import random\n",
    "import lxml\n",
    "from wordcloud import WordCloud\n",
    "import seaborn as sns\n",
    "import matplotlib.pyplot as plt\n",
    "from bs4 import BeautifulSoup\n",
    "from nltk.tokenize import word_tokenize\n",
    "from nltk.corpus import stopwords\n",
    "from nltk.stem import PorterStemmer\n",
    "from sklearn.preprocessing import OrdinalEncoder\n",
    "from sklearn.linear_model import LogisticRegression\n",
    "from sklearn.feature_extraction.text import CountVectorizer\n",
    "from sklearn.naive_bayes import MultinomialNB\n",
    "from sklearn.metrics import accuracy_score\n",
    "from sklearn.model_selection import train_test_split\n",
    "from collections import Counter\n",
    "from keras.models import load_model\n",
    "from geopy import Nominatim\n",
    "from geopy.extra.rate_limiter import RateLimiter\n",
    "%matplotlib inline\n",
    "\n",
    "from disaster_tweets.config import DIR_PATH, TRAIN_PATH, TEST_PATH, MODEL_PATH, PREDS_PATH, TEXT_COL\n",
    "from disaster_tweets.preprocessing import preprocess_tweet, RNNPreprocessor"
   ]
  },
  {
   "cell_type": "markdown",
   "id": "6c956960",
   "metadata": {},
   "source": [
    "## Data"
   ]
  },
  {
   "cell_type": "code",
   "execution_count": 45,
   "id": "1a14b761",
   "metadata": {},
   "outputs": [],
   "source": [
    "df = pd.read_csv(DIR_PATH + TRAIN_PATH)"
   ]
  },
  {
   "cell_type": "code",
   "execution_count": 46,
   "id": "a293b367",
   "metadata": {},
   "outputs": [
    {
     "data": {
      "text/plain": [
       "(7613, 5)"
      ]
     },
     "execution_count": 46,
     "metadata": {},
     "output_type": "execute_result"
    }
   ],
   "source": [
    "df.shape"
   ]
  },
  {
   "cell_type": "code",
   "execution_count": 47,
   "id": "9879d19e",
   "metadata": {
    "scrolled": true
   },
   "outputs": [
    {
     "data": {
      "text/plain": [
       "id             0\n",
       "keyword       61\n",
       "location    2533\n",
       "text           0\n",
       "target         0\n",
       "dtype: int64"
      ]
     },
     "execution_count": 47,
     "metadata": {},
     "output_type": "execute_result"
    }
   ],
   "source": [
    "df.isna().sum()"
   ]
  },
  {
   "cell_type": "code",
   "execution_count": 48,
   "id": "7a1cf3b3",
   "metadata": {
    "scrolled": false
   },
   "outputs": [
    {
     "data": {
      "text/plain": [
       "0    4342\n",
       "1    3271\n",
       "Name: target, dtype: int64"
      ]
     },
     "execution_count": 48,
     "metadata": {},
     "output_type": "execute_result"
    }
   ],
   "source": [
    "df.target.value_counts()"
   ]
  },
  {
   "cell_type": "markdown",
   "id": "e4c8f717",
   "metadata": {},
   "source": [
    "### Text data"
   ]
  },
  {
   "cell_type": "code",
   "execution_count": 40,
   "id": "72dfd275",
   "metadata": {},
   "outputs": [
    {
     "name": "stdout",
     "output_type": "stream",
     "text": [
      "Sentence 3596: Deputies: Dog dispute leads to fatal shooting in Person County http://t.co/OazgHoZGYa #gunfail #nra\n",
      "Sentence 1814: My son didn't sleep all night! ?? so finally at 4am I laid him with me on my bed and he crashed out ????\n",
      "Sentence 2816: #Myanmar  Displaced #Rohingya at #Sittwe point of no return http://t.co/cgf61fPmR0  #Prison like conditions #genocide IHHen MSF Refugees\n",
      "Sentence 1259: Three-alarm fire destroys two residential buildings a car in Manchester N.H. on Sunday afternoon http://t.co/rVkyj3YUVK\n",
      "Sentence 5776: New doco tonight at 9pm Setanta Sports Ireland freeview. The largest police presence at a soccer game in Ireland stop prevent the rioting\n",
      "Sentence 837: @LoneWolffur control yourself tora\n",
      "Sentence 3031: Put the RIGHT person up on the block #Shelli??? The sense of entitlement is ridiculous. #BB17.\n",
      "Sentence 1361: @kshllcenterpri1 @Progress4Ohio burning down buildings what you mean like when you burnt down those black churches?\n",
      "Sentence 536: Paul Rudd Emile Hirsch David Gordon Green 'Prince Avalanche' Q&amp;A | Filmmakers at Google http://t.co/e4QonKzndZ  #entretenimento #Video\n",
      "Sentence 1453: Conning Builds Strong Case for Portfolio #Diversification for Property-Casualty Insurers http://t.co/33FbR25t1O\n"
     ]
    }
   ],
   "source": [
    "for _ in range(10):\n",
    "    random_idx = random.randint(0, len(df) - 1)\n",
    "    print(f\"Sentence {random_idx}: {df.text[random_idx]}\")"
   ]
  },
  {
   "cell_type": "markdown",
   "id": "4e808dc4",
   "metadata": {},
   "source": [
    "Text considerations:\n",
    "- resolve character encoding e.g. &amp; (remove)"
   ]
  },
  {
   "cell_type": "code",
   "execution_count": 12,
   "id": "2eceb8a8",
   "metadata": {},
   "outputs": [],
   "source": [
    "# TODO: check duplicates"
   ]
  },
  {
   "cell_type": "code",
   "execution_count": 7,
   "id": "801de707",
   "metadata": {},
   "outputs": [
    {
     "data": {
      "text/plain": [
       "0       Our Deeds are the Reason of this #earthquake M...\n",
       "1                  Forest fire near La Ronge Sask. Canada\n",
       "2       All residents asked to 'shelter in place' are ...\n",
       "3       13,000 people receive #wildfires evacuation or...\n",
       "4       Just got sent this photo from Ruby #Alaska as ...\n",
       "                              ...                        \n",
       "7608    Two giant cranes holding a bridge collapse int...\n",
       "7609    @aria_ahrary @TheTawniest The out of control w...\n",
       "7610    M1.94 [01:04 UTC]?5km S of Volcano Hawaii. htt...\n",
       "7611    Police investigating after an e-bike collided ...\n",
       "7612    The Latest: More Homes Razed by Northern Calif...\n",
       "Name: text, Length: 7613, dtype: object"
      ]
     },
     "execution_count": 7,
     "metadata": {},
     "output_type": "execute_result"
    }
   ],
   "source": [
    "df.text"
   ]
  },
  {
   "cell_type": "code",
   "execution_count": 8,
   "id": "7219d9aa",
   "metadata": {},
   "outputs": [],
   "source": [
    "df.drop_duplicates(subset=['text'], keep=False, inplace=True)"
   ]
  },
  {
   "cell_type": "markdown",
   "id": "3dc54f90",
   "metadata": {},
   "source": [
    "There are 179 rows that are duplicates, we need to do a manual check through these, because other fields may differ across duplicates. Most crucial is that the target may differ across duplicates. EASIER: only 179 out of 7400 are duplicated, can just drop them all to avoid ambiguity."
   ]
  },
  {
   "cell_type": "markdown",
   "id": "ac2f5e99",
   "metadata": {},
   "source": [
    "### Location data"
   ]
  },
  {
   "cell_type": "code",
   "execution_count": 32,
   "id": "0c222993",
   "metadata": {},
   "outputs": [
    {
     "name": "stdout",
     "output_type": "stream",
     "text": [
      "Sentence 3842: nan\n",
      "Sentence 6971: nan\n",
      "Sentence 5461: Houston \n",
      "Sentence 2992: Beirut, Lebanon\n",
      "Sentence 2153: london town..\n",
      "Sentence 5443: Republic of Texas\n",
      "Sentence 2059: nan\n",
      "Sentence 5462: Indonesia\n",
      "Sentence 3645: San Francisco\n",
      "Sentence 6200: nan\n",
      "Sentence 541: Philippines\n",
      "Sentence 3424: Cleveland, TN\n",
      "Sentence 3170: nan\n",
      "Sentence 7113: ÌÏT: 1.50225,103.742992\n",
      "Sentence 2637: nan\n",
      "Sentence 260: Republic of Texas\n",
      "Sentence 5705: Cape Town\n",
      "Sentence 3864: Some where\n",
      "Sentence 1874: nan\n",
      "Sentence 5475: ÌÏT: 40.707762,-74.014213\n"
     ]
    }
   ],
   "source": [
    "for _ in range(20):\n",
    "    random_idx = random.randint(0, len(df) - 1)\n",
    "    print(f\"Sentence {random_idx}: {df.location[random_idx]}\")"
   ]
  },
  {
   "cell_type": "code",
   "execution_count": 32,
   "id": "70a472f7",
   "metadata": {},
   "outputs": [
    {
     "data": {
      "text/plain": [
       "Point(46.3144754, 11.0480288, 0.0)"
      ]
     },
     "execution_count": 32,
     "metadata": {},
     "output_type": "execute_result"
    }
   ],
   "source": [
    "location.point"
   ]
  },
  {
   "cell_type": "code",
   "execution_count": 33,
   "id": "df717143",
   "metadata": {},
   "outputs": [
    {
     "name": "stderr",
     "output_type": "stream",
     "text": [
      "RateLimiter caught an error, retrying (0/2 tries). Called with (*('South 37',), **{}).\n",
      "Traceback (most recent call last):\n",
      "  File \"/Users/salvatoremercuri/opt/anaconda3/envs/disaster-tweets/lib/python3.7/site-packages/urllib3/connectionpool.py\", line 449, in _make_request\n",
      "    six.raise_from(e, None)\n",
      "  File \"<string>\", line 3, in raise_from\n",
      "  File \"/Users/salvatoremercuri/opt/anaconda3/envs/disaster-tweets/lib/python3.7/site-packages/urllib3/connectionpool.py\", line 444, in _make_request\n",
      "    httplib_response = conn.getresponse()\n",
      "  File \"/Users/salvatoremercuri/opt/anaconda3/envs/disaster-tweets/lib/python3.7/http/client.py\", line 1321, in getresponse\n",
      "    response.begin()\n",
      "  File \"/Users/salvatoremercuri/opt/anaconda3/envs/disaster-tweets/lib/python3.7/http/client.py\", line 296, in begin\n",
      "    version, status, reason = self._read_status()\n",
      "  File \"/Users/salvatoremercuri/opt/anaconda3/envs/disaster-tweets/lib/python3.7/http/client.py\", line 257, in _read_status\n",
      "    line = str(self.fp.readline(_MAXLINE + 1), \"iso-8859-1\")\n",
      "  File \"/Users/salvatoremercuri/opt/anaconda3/envs/disaster-tweets/lib/python3.7/socket.py\", line 589, in readinto\n",
      "    return self._sock.recv_into(b)\n",
      "  File \"/Users/salvatoremercuri/opt/anaconda3/envs/disaster-tweets/lib/python3.7/ssl.py\", line 1052, in recv_into\n",
      "    return self.read(nbytes, buffer)\n",
      "  File \"/Users/salvatoremercuri/opt/anaconda3/envs/disaster-tweets/lib/python3.7/ssl.py\", line 911, in read\n",
      "    return self._sslobj.read(len, buffer)\n",
      "socket.timeout: The read operation timed out\n",
      "\n",
      "During handling of the above exception, another exception occurred:\n",
      "\n",
      "Traceback (most recent call last):\n",
      "  File \"/Users/salvatoremercuri/opt/anaconda3/envs/disaster-tweets/lib/python3.7/site-packages/urllib3/connectionpool.py\", line 710, in urlopen\n",
      "    chunked=chunked,\n",
      "  File \"/Users/salvatoremercuri/opt/anaconda3/envs/disaster-tweets/lib/python3.7/site-packages/urllib3/connectionpool.py\", line 451, in _make_request\n",
      "    self._raise_timeout(err=e, url=url, timeout_value=read_timeout)\n",
      "  File \"/Users/salvatoremercuri/opt/anaconda3/envs/disaster-tweets/lib/python3.7/site-packages/urllib3/connectionpool.py\", line 341, in _raise_timeout\n",
      "    self, url, \"Read timed out. (read timeout=%s)\" % timeout_value\n",
      "urllib3.exceptions.ReadTimeoutError: HTTPSConnectionPool(host='nominatim.openstreetmap.org', port=443): Read timed out. (read timeout=1)\n",
      "\n",
      "During handling of the above exception, another exception occurred:\n",
      "\n",
      "Traceback (most recent call last):\n",
      "  File \"/Users/salvatoremercuri/opt/anaconda3/envs/disaster-tweets/lib/python3.7/site-packages/requests/adapters.py\", line 499, in send\n",
      "    timeout=timeout,\n",
      "  File \"/Users/salvatoremercuri/opt/anaconda3/envs/disaster-tweets/lib/python3.7/site-packages/urllib3/connectionpool.py\", line 828, in urlopen\n",
      "    **response_kw\n",
      "  File \"/Users/salvatoremercuri/opt/anaconda3/envs/disaster-tweets/lib/python3.7/site-packages/urllib3/connectionpool.py\", line 828, in urlopen\n",
      "    **response_kw\n",
      "  File \"/Users/salvatoremercuri/opt/anaconda3/envs/disaster-tweets/lib/python3.7/site-packages/urllib3/connectionpool.py\", line 788, in urlopen\n",
      "    method, url, error=e, _pool=self, _stacktrace=sys.exc_info()[2]\n",
      "  File \"/Users/salvatoremercuri/opt/anaconda3/envs/disaster-tweets/lib/python3.7/site-packages/urllib3/util/retry.py\", line 592, in increment\n",
      "    raise MaxRetryError(_pool, url, error or ResponseError(cause))\n",
      "urllib3.exceptions.MaxRetryError: HTTPSConnectionPool(host='nominatim.openstreetmap.org', port=443): Max retries exceeded with url: /search?q=South+37&format=json&limit=1 (Caused by ReadTimeoutError(\"HTTPSConnectionPool(host='nominatim.openstreetmap.org', port=443): Read timed out. (read timeout=1)\"))\n",
      "\n",
      "During handling of the above exception, another exception occurred:\n",
      "\n",
      "Traceback (most recent call last):\n",
      "  File \"/Users/salvatoremercuri/opt/anaconda3/envs/disaster-tweets/lib/python3.7/site-packages/geopy/adapters.py\", line 457, in _request\n",
      "    resp = self.session.get(url, timeout=timeout, headers=headers)\n",
      "  File \"/Users/salvatoremercuri/opt/anaconda3/envs/disaster-tweets/lib/python3.7/site-packages/requests/sessions.py\", line 600, in get\n",
      "    return self.request(\"GET\", url, **kwargs)\n",
      "  File \"/Users/salvatoremercuri/opt/anaconda3/envs/disaster-tweets/lib/python3.7/site-packages/requests/sessions.py\", line 587, in request\n",
      "    resp = self.send(prep, **send_kwargs)\n",
      "  File \"/Users/salvatoremercuri/opt/anaconda3/envs/disaster-tweets/lib/python3.7/site-packages/requests/sessions.py\", line 701, in send\n",
      "    r = adapter.send(request, **kwargs)\n",
      "  File \"/Users/salvatoremercuri/opt/anaconda3/envs/disaster-tweets/lib/python3.7/site-packages/requests/adapters.py\", line 565, in send\n",
      "    raise ConnectionError(e, request=request)\n",
      "requests.exceptions.ConnectionError: HTTPSConnectionPool(host='nominatim.openstreetmap.org', port=443): Max retries exceeded with url: /search?q=South+37&format=json&limit=1 (Caused by ReadTimeoutError(\"HTTPSConnectionPool(host='nominatim.openstreetmap.org', port=443): Read timed out. (read timeout=1)\"))\n",
      "\n",
      "During handling of the above exception, another exception occurred:\n",
      "\n",
      "Traceback (most recent call last):\n",
      "  File \"/Users/salvatoremercuri/opt/anaconda3/envs/disaster-tweets/lib/python3.7/site-packages/geopy/extra/rate_limiter.py\", line 136, in _retries_gen\n",
      "    yield i  # Run the function.\n",
      "  File \"/Users/salvatoremercuri/opt/anaconda3/envs/disaster-tweets/lib/python3.7/site-packages/geopy/extra/rate_limiter.py\", line 274, in __call__\n",
      "    res = self.func(*args, **kwargs)\n",
      "  File \"/Users/salvatoremercuri/opt/anaconda3/envs/disaster-tweets/lib/python3.7/site-packages/geopy/geocoders/nominatim.py\", line 297, in geocode\n",
      "    return self._call_geocoder(url, callback, timeout=timeout)\n",
      "  File \"/Users/salvatoremercuri/opt/anaconda3/envs/disaster-tweets/lib/python3.7/site-packages/geopy/geocoders/base.py\", line 368, in _call_geocoder\n",
      "    result = self.adapter.get_json(url, timeout=timeout, headers=req_headers)\n",
      "  File \"/Users/salvatoremercuri/opt/anaconda3/envs/disaster-tweets/lib/python3.7/site-packages/geopy/adapters.py\", line 447, in get_json\n",
      "    resp = self._request(url, timeout=timeout, headers=headers)\n",
      "  File \"/Users/salvatoremercuri/opt/anaconda3/envs/disaster-tweets/lib/python3.7/site-packages/geopy/adapters.py\", line 469, in _request\n",
      "    raise GeocoderUnavailable(message)\n",
      "geopy.exc.GeocoderUnavailable: HTTPSConnectionPool(host='nominatim.openstreetmap.org', port=443): Max retries exceeded with url: /search?q=South+37&format=json&limit=1 (Caused by ReadTimeoutError(\"HTTPSConnectionPool(host='nominatim.openstreetmap.org', port=443): Read timed out. (read timeout=1)\"))\n",
      "RateLimiter caught an error, retrying (1/2 tries). Called with (*('South 37',), **{}).\n",
      "Traceback (most recent call last):\n",
      "  File \"/Users/salvatoremercuri/opt/anaconda3/envs/disaster-tweets/lib/python3.7/site-packages/urllib3/connectionpool.py\", line 449, in _make_request\n",
      "    six.raise_from(e, None)\n",
      "  File \"<string>\", line 3, in raise_from\n",
      "  File \"/Users/salvatoremercuri/opt/anaconda3/envs/disaster-tweets/lib/python3.7/site-packages/urllib3/connectionpool.py\", line 444, in _make_request\n",
      "    httplib_response = conn.getresponse()\n",
      "  File \"/Users/salvatoremercuri/opt/anaconda3/envs/disaster-tweets/lib/python3.7/http/client.py\", line 1321, in getresponse\n",
      "    response.begin()\n",
      "  File \"/Users/salvatoremercuri/opt/anaconda3/envs/disaster-tweets/lib/python3.7/http/client.py\", line 296, in begin\n",
      "    version, status, reason = self._read_status()\n",
      "  File \"/Users/salvatoremercuri/opt/anaconda3/envs/disaster-tweets/lib/python3.7/http/client.py\", line 257, in _read_status\n",
      "    line = str(self.fp.readline(_MAXLINE + 1), \"iso-8859-1\")\n",
      "  File \"/Users/salvatoremercuri/opt/anaconda3/envs/disaster-tweets/lib/python3.7/socket.py\", line 589, in readinto\n",
      "    return self._sock.recv_into(b)\n",
      "  File \"/Users/salvatoremercuri/opt/anaconda3/envs/disaster-tweets/lib/python3.7/ssl.py\", line 1052, in recv_into\n",
      "    return self.read(nbytes, buffer)\n",
      "  File \"/Users/salvatoremercuri/opt/anaconda3/envs/disaster-tweets/lib/python3.7/ssl.py\", line 911, in read\n",
      "    return self._sslobj.read(len, buffer)\n",
      "socket.timeout: The read operation timed out\n",
      "\n",
      "During handling of the above exception, another exception occurred:\n",
      "\n",
      "Traceback (most recent call last):\n",
      "  File \"/Users/salvatoremercuri/opt/anaconda3/envs/disaster-tweets/lib/python3.7/site-packages/urllib3/connectionpool.py\", line 710, in urlopen\n",
      "    chunked=chunked,\n",
      "  File \"/Users/salvatoremercuri/opt/anaconda3/envs/disaster-tweets/lib/python3.7/site-packages/urllib3/connectionpool.py\", line 451, in _make_request\n",
      "    self._raise_timeout(err=e, url=url, timeout_value=read_timeout)\n",
      "  File \"/Users/salvatoremercuri/opt/anaconda3/envs/disaster-tweets/lib/python3.7/site-packages/urllib3/connectionpool.py\", line 341, in _raise_timeout\n",
      "    self, url, \"Read timed out. (read timeout=%s)\" % timeout_value\n",
      "urllib3.exceptions.ReadTimeoutError: HTTPSConnectionPool(host='nominatim.openstreetmap.org', port=443): Read timed out. (read timeout=1)\n",
      "\n",
      "During handling of the above exception, another exception occurred:\n",
      "\n",
      "Traceback (most recent call last):\n",
      "  File \"/Users/salvatoremercuri/opt/anaconda3/envs/disaster-tweets/lib/python3.7/site-packages/requests/adapters.py\", line 499, in send\n",
      "    timeout=timeout,\n",
      "  File \"/Users/salvatoremercuri/opt/anaconda3/envs/disaster-tweets/lib/python3.7/site-packages/urllib3/connectionpool.py\", line 828, in urlopen\n",
      "    **response_kw\n",
      "  File \"/Users/salvatoremercuri/opt/anaconda3/envs/disaster-tweets/lib/python3.7/site-packages/urllib3/connectionpool.py\", line 828, in urlopen\n",
      "    **response_kw\n",
      "  File \"/Users/salvatoremercuri/opt/anaconda3/envs/disaster-tweets/lib/python3.7/site-packages/urllib3/connectionpool.py\", line 788, in urlopen\n",
      "    method, url, error=e, _pool=self, _stacktrace=sys.exc_info()[2]\n",
      "  File \"/Users/salvatoremercuri/opt/anaconda3/envs/disaster-tweets/lib/python3.7/site-packages/urllib3/util/retry.py\", line 592, in increment\n",
      "    raise MaxRetryError(_pool, url, error or ResponseError(cause))\n",
      "urllib3.exceptions.MaxRetryError: HTTPSConnectionPool(host='nominatim.openstreetmap.org', port=443): Max retries exceeded with url: /search?q=South+37&format=json&limit=1 (Caused by ReadTimeoutError(\"HTTPSConnectionPool(host='nominatim.openstreetmap.org', port=443): Read timed out. (read timeout=1)\"))\n",
      "\n",
      "During handling of the above exception, another exception occurred:\n",
      "\n",
      "Traceback (most recent call last):\n",
      "  File \"/Users/salvatoremercuri/opt/anaconda3/envs/disaster-tweets/lib/python3.7/site-packages/geopy/adapters.py\", line 457, in _request\n",
      "    resp = self.session.get(url, timeout=timeout, headers=headers)\n",
      "  File \"/Users/salvatoremercuri/opt/anaconda3/envs/disaster-tweets/lib/python3.7/site-packages/requests/sessions.py\", line 600, in get\n",
      "    return self.request(\"GET\", url, **kwargs)\n",
      "  File \"/Users/salvatoremercuri/opt/anaconda3/envs/disaster-tweets/lib/python3.7/site-packages/requests/sessions.py\", line 587, in request\n",
      "    resp = self.send(prep, **send_kwargs)\n",
      "  File \"/Users/salvatoremercuri/opt/anaconda3/envs/disaster-tweets/lib/python3.7/site-packages/requests/sessions.py\", line 701, in send\n",
      "    r = adapter.send(request, **kwargs)\n",
      "  File \"/Users/salvatoremercuri/opt/anaconda3/envs/disaster-tweets/lib/python3.7/site-packages/requests/adapters.py\", line 565, in send\n",
      "    raise ConnectionError(e, request=request)\n",
      "requests.exceptions.ConnectionError: HTTPSConnectionPool(host='nominatim.openstreetmap.org', port=443): Max retries exceeded with url: /search?q=South+37&format=json&limit=1 (Caused by ReadTimeoutError(\"HTTPSConnectionPool(host='nominatim.openstreetmap.org', port=443): Read timed out. (read timeout=1)\"))\n",
      "\n",
      "During handling of the above exception, another exception occurred:\n",
      "\n",
      "Traceback (most recent call last):\n",
      "  File \"/Users/salvatoremercuri/opt/anaconda3/envs/disaster-tweets/lib/python3.7/site-packages/geopy/extra/rate_limiter.py\", line 136, in _retries_gen\n",
      "    yield i  # Run the function.\n",
      "  File \"/Users/salvatoremercuri/opt/anaconda3/envs/disaster-tweets/lib/python3.7/site-packages/geopy/extra/rate_limiter.py\", line 274, in __call__\n",
      "    res = self.func(*args, **kwargs)\n",
      "  File \"/Users/salvatoremercuri/opt/anaconda3/envs/disaster-tweets/lib/python3.7/site-packages/geopy/geocoders/nominatim.py\", line 297, in geocode\n",
      "    return self._call_geocoder(url, callback, timeout=timeout)\n",
      "  File \"/Users/salvatoremercuri/opt/anaconda3/envs/disaster-tweets/lib/python3.7/site-packages/geopy/geocoders/base.py\", line 368, in _call_geocoder\n",
      "    result = self.adapter.get_json(url, timeout=timeout, headers=req_headers)\n",
      "  File \"/Users/salvatoremercuri/opt/anaconda3/envs/disaster-tweets/lib/python3.7/site-packages/geopy/adapters.py\", line 447, in get_json\n",
      "    resp = self._request(url, timeout=timeout, headers=headers)\n",
      "  File \"/Users/salvatoremercuri/opt/anaconda3/envs/disaster-tweets/lib/python3.7/site-packages/geopy/adapters.py\", line 469, in _request\n",
      "    raise GeocoderUnavailable(message)\n",
      "geopy.exc.GeocoderUnavailable: HTTPSConnectionPool(host='nominatim.openstreetmap.org', port=443): Max retries exceeded with url: /search?q=South+37&format=json&limit=1 (Caused by ReadTimeoutError(\"HTTPSConnectionPool(host='nominatim.openstreetmap.org', port=443): Read timed out. (read timeout=1)\"))\n"
     ]
    },
    {
     "name": "stderr",
     "output_type": "stream",
     "text": [
      "RateLimiter caught an error, retrying (0/2 tries). Called with (*('North-East Region, Singapore',), **{}).\n",
      "Traceback (most recent call last):\n",
      "  File \"/Users/salvatoremercuri/opt/anaconda3/envs/disaster-tweets/lib/python3.7/site-packages/urllib3/connectionpool.py\", line 449, in _make_request\n",
      "    six.raise_from(e, None)\n",
      "  File \"<string>\", line 3, in raise_from\n",
      "  File \"/Users/salvatoremercuri/opt/anaconda3/envs/disaster-tweets/lib/python3.7/site-packages/urllib3/connectionpool.py\", line 444, in _make_request\n",
      "    httplib_response = conn.getresponse()\n",
      "  File \"/Users/salvatoremercuri/opt/anaconda3/envs/disaster-tweets/lib/python3.7/http/client.py\", line 1321, in getresponse\n",
      "    response.begin()\n",
      "  File \"/Users/salvatoremercuri/opt/anaconda3/envs/disaster-tweets/lib/python3.7/http/client.py\", line 296, in begin\n",
      "    version, status, reason = self._read_status()\n",
      "  File \"/Users/salvatoremercuri/opt/anaconda3/envs/disaster-tweets/lib/python3.7/http/client.py\", line 257, in _read_status\n",
      "    line = str(self.fp.readline(_MAXLINE + 1), \"iso-8859-1\")\n",
      "  File \"/Users/salvatoremercuri/opt/anaconda3/envs/disaster-tweets/lib/python3.7/socket.py\", line 589, in readinto\n",
      "    return self._sock.recv_into(b)\n",
      "  File \"/Users/salvatoremercuri/opt/anaconda3/envs/disaster-tweets/lib/python3.7/ssl.py\", line 1052, in recv_into\n",
      "    return self.read(nbytes, buffer)\n",
      "  File \"/Users/salvatoremercuri/opt/anaconda3/envs/disaster-tweets/lib/python3.7/ssl.py\", line 911, in read\n",
      "    return self._sslobj.read(len, buffer)\n",
      "socket.timeout: The read operation timed out\n",
      "\n",
      "During handling of the above exception, another exception occurred:\n",
      "\n",
      "Traceback (most recent call last):\n",
      "  File \"/Users/salvatoremercuri/opt/anaconda3/envs/disaster-tweets/lib/python3.7/site-packages/urllib3/connectionpool.py\", line 710, in urlopen\n",
      "    chunked=chunked,\n",
      "  File \"/Users/salvatoremercuri/opt/anaconda3/envs/disaster-tweets/lib/python3.7/site-packages/urllib3/connectionpool.py\", line 451, in _make_request\n",
      "    self._raise_timeout(err=e, url=url, timeout_value=read_timeout)\n",
      "  File \"/Users/salvatoremercuri/opt/anaconda3/envs/disaster-tweets/lib/python3.7/site-packages/urllib3/connectionpool.py\", line 341, in _raise_timeout\n",
      "    self, url, \"Read timed out. (read timeout=%s)\" % timeout_value\n",
      "urllib3.exceptions.ReadTimeoutError: HTTPSConnectionPool(host='nominatim.openstreetmap.org', port=443): Read timed out. (read timeout=1)\n",
      "\n",
      "During handling of the above exception, another exception occurred:\n",
      "\n",
      "Traceback (most recent call last):\n",
      "  File \"/Users/salvatoremercuri/opt/anaconda3/envs/disaster-tweets/lib/python3.7/site-packages/requests/adapters.py\", line 499, in send\n",
      "    timeout=timeout,\n",
      "  File \"/Users/salvatoremercuri/opt/anaconda3/envs/disaster-tweets/lib/python3.7/site-packages/urllib3/connectionpool.py\", line 828, in urlopen\n",
      "    **response_kw\n",
      "  File \"/Users/salvatoremercuri/opt/anaconda3/envs/disaster-tweets/lib/python3.7/site-packages/urllib3/connectionpool.py\", line 828, in urlopen\n",
      "    **response_kw\n",
      "  File \"/Users/salvatoremercuri/opt/anaconda3/envs/disaster-tweets/lib/python3.7/site-packages/urllib3/connectionpool.py\", line 788, in urlopen\n",
      "    method, url, error=e, _pool=self, _stacktrace=sys.exc_info()[2]\n",
      "  File \"/Users/salvatoremercuri/opt/anaconda3/envs/disaster-tweets/lib/python3.7/site-packages/urllib3/util/retry.py\", line 592, in increment\n",
      "    raise MaxRetryError(_pool, url, error or ResponseError(cause))\n",
      "urllib3.exceptions.MaxRetryError: HTTPSConnectionPool(host='nominatim.openstreetmap.org', port=443): Max retries exceeded with url: /search?q=North-East+Region%2C+Singapore&format=json&limit=1 (Caused by ReadTimeoutError(\"HTTPSConnectionPool(host='nominatim.openstreetmap.org', port=443): Read timed out. (read timeout=1)\"))\n",
      "\n",
      "During handling of the above exception, another exception occurred:\n",
      "\n",
      "Traceback (most recent call last):\n",
      "  File \"/Users/salvatoremercuri/opt/anaconda3/envs/disaster-tweets/lib/python3.7/site-packages/geopy/adapters.py\", line 457, in _request\n",
      "    resp = self.session.get(url, timeout=timeout, headers=headers)\n",
      "  File \"/Users/salvatoremercuri/opt/anaconda3/envs/disaster-tweets/lib/python3.7/site-packages/requests/sessions.py\", line 600, in get\n",
      "    return self.request(\"GET\", url, **kwargs)\n",
      "  File \"/Users/salvatoremercuri/opt/anaconda3/envs/disaster-tweets/lib/python3.7/site-packages/requests/sessions.py\", line 587, in request\n",
      "    resp = self.send(prep, **send_kwargs)\n",
      "  File \"/Users/salvatoremercuri/opt/anaconda3/envs/disaster-tweets/lib/python3.7/site-packages/requests/sessions.py\", line 701, in send\n",
      "    r = adapter.send(request, **kwargs)\n",
      "  File \"/Users/salvatoremercuri/opt/anaconda3/envs/disaster-tweets/lib/python3.7/site-packages/requests/adapters.py\", line 565, in send\n",
      "    raise ConnectionError(e, request=request)\n",
      "requests.exceptions.ConnectionError: HTTPSConnectionPool(host='nominatim.openstreetmap.org', port=443): Max retries exceeded with url: /search?q=North-East+Region%2C+Singapore&format=json&limit=1 (Caused by ReadTimeoutError(\"HTTPSConnectionPool(host='nominatim.openstreetmap.org', port=443): Read timed out. (read timeout=1)\"))\n",
      "\n",
      "During handling of the above exception, another exception occurred:\n",
      "\n",
      "Traceback (most recent call last):\n",
      "  File \"/Users/salvatoremercuri/opt/anaconda3/envs/disaster-tweets/lib/python3.7/site-packages/geopy/extra/rate_limiter.py\", line 136, in _retries_gen\n",
      "    yield i  # Run the function.\n",
      "  File \"/Users/salvatoremercuri/opt/anaconda3/envs/disaster-tweets/lib/python3.7/site-packages/geopy/extra/rate_limiter.py\", line 274, in __call__\n",
      "    res = self.func(*args, **kwargs)\n",
      "  File \"/Users/salvatoremercuri/opt/anaconda3/envs/disaster-tweets/lib/python3.7/site-packages/geopy/geocoders/nominatim.py\", line 297, in geocode\n",
      "    return self._call_geocoder(url, callback, timeout=timeout)\n",
      "  File \"/Users/salvatoremercuri/opt/anaconda3/envs/disaster-tweets/lib/python3.7/site-packages/geopy/geocoders/base.py\", line 368, in _call_geocoder\n",
      "    result = self.adapter.get_json(url, timeout=timeout, headers=req_headers)\n",
      "  File \"/Users/salvatoremercuri/opt/anaconda3/envs/disaster-tweets/lib/python3.7/site-packages/geopy/adapters.py\", line 447, in get_json\n",
      "    resp = self._request(url, timeout=timeout, headers=headers)\n",
      "  File \"/Users/salvatoremercuri/opt/anaconda3/envs/disaster-tweets/lib/python3.7/site-packages/geopy/adapters.py\", line 469, in _request\n",
      "    raise GeocoderUnavailable(message)\n",
      "geopy.exc.GeocoderUnavailable: HTTPSConnectionPool(host='nominatim.openstreetmap.org', port=443): Max retries exceeded with url: /search?q=North-East+Region%2C+Singapore&format=json&limit=1 (Caused by ReadTimeoutError(\"HTTPSConnectionPool(host='nominatim.openstreetmap.org', port=443): Read timed out. (read timeout=1)\"))\n",
      "RateLimiter caught an error, retrying (1/2 tries). Called with (*('North-East Region, Singapore',), **{}).\n",
      "Traceback (most recent call last):\n",
      "  File \"/Users/salvatoremercuri/opt/anaconda3/envs/disaster-tweets/lib/python3.7/site-packages/urllib3/connectionpool.py\", line 449, in _make_request\n",
      "    six.raise_from(e, None)\n",
      "  File \"<string>\", line 3, in raise_from\n",
      "  File \"/Users/salvatoremercuri/opt/anaconda3/envs/disaster-tweets/lib/python3.7/site-packages/urllib3/connectionpool.py\", line 444, in _make_request\n",
      "    httplib_response = conn.getresponse()\n",
      "  File \"/Users/salvatoremercuri/opt/anaconda3/envs/disaster-tweets/lib/python3.7/http/client.py\", line 1321, in getresponse\n",
      "    response.begin()\n",
      "  File \"/Users/salvatoremercuri/opt/anaconda3/envs/disaster-tweets/lib/python3.7/http/client.py\", line 296, in begin\n",
      "    version, status, reason = self._read_status()\n",
      "  File \"/Users/salvatoremercuri/opt/anaconda3/envs/disaster-tweets/lib/python3.7/http/client.py\", line 257, in _read_status\n",
      "    line = str(self.fp.readline(_MAXLINE + 1), \"iso-8859-1\")\n",
      "  File \"/Users/salvatoremercuri/opt/anaconda3/envs/disaster-tweets/lib/python3.7/socket.py\", line 589, in readinto\n",
      "    return self._sock.recv_into(b)\n",
      "  File \"/Users/salvatoremercuri/opt/anaconda3/envs/disaster-tweets/lib/python3.7/ssl.py\", line 1052, in recv_into\n",
      "    return self.read(nbytes, buffer)\n",
      "  File \"/Users/salvatoremercuri/opt/anaconda3/envs/disaster-tweets/lib/python3.7/ssl.py\", line 911, in read\n",
      "    return self._sslobj.read(len, buffer)\n",
      "socket.timeout: The read operation timed out\n",
      "\n",
      "During handling of the above exception, another exception occurred:\n",
      "\n",
      "Traceback (most recent call last):\n",
      "  File \"/Users/salvatoremercuri/opt/anaconda3/envs/disaster-tweets/lib/python3.7/site-packages/urllib3/connectionpool.py\", line 710, in urlopen\n",
      "    chunked=chunked,\n",
      "  File \"/Users/salvatoremercuri/opt/anaconda3/envs/disaster-tweets/lib/python3.7/site-packages/urllib3/connectionpool.py\", line 451, in _make_request\n",
      "    self._raise_timeout(err=e, url=url, timeout_value=read_timeout)\n",
      "  File \"/Users/salvatoremercuri/opt/anaconda3/envs/disaster-tweets/lib/python3.7/site-packages/urllib3/connectionpool.py\", line 341, in _raise_timeout\n",
      "    self, url, \"Read timed out. (read timeout=%s)\" % timeout_value\n",
      "urllib3.exceptions.ReadTimeoutError: HTTPSConnectionPool(host='nominatim.openstreetmap.org', port=443): Read timed out. (read timeout=1)\n",
      "\n",
      "During handling of the above exception, another exception occurred:\n",
      "\n",
      "Traceback (most recent call last):\n",
      "  File \"/Users/salvatoremercuri/opt/anaconda3/envs/disaster-tweets/lib/python3.7/site-packages/requests/adapters.py\", line 499, in send\n",
      "    timeout=timeout,\n",
      "  File \"/Users/salvatoremercuri/opt/anaconda3/envs/disaster-tweets/lib/python3.7/site-packages/urllib3/connectionpool.py\", line 828, in urlopen\n",
      "    **response_kw\n",
      "  File \"/Users/salvatoremercuri/opt/anaconda3/envs/disaster-tweets/lib/python3.7/site-packages/urllib3/connectionpool.py\", line 828, in urlopen\n",
      "    **response_kw\n",
      "  File \"/Users/salvatoremercuri/opt/anaconda3/envs/disaster-tweets/lib/python3.7/site-packages/urllib3/connectionpool.py\", line 788, in urlopen\n",
      "    method, url, error=e, _pool=self, _stacktrace=sys.exc_info()[2]\n",
      "  File \"/Users/salvatoremercuri/opt/anaconda3/envs/disaster-tweets/lib/python3.7/site-packages/urllib3/util/retry.py\", line 592, in increment\n",
      "    raise MaxRetryError(_pool, url, error or ResponseError(cause))\n",
      "urllib3.exceptions.MaxRetryError: HTTPSConnectionPool(host='nominatim.openstreetmap.org', port=443): Max retries exceeded with url: /search?q=North-East+Region%2C+Singapore&format=json&limit=1 (Caused by ReadTimeoutError(\"HTTPSConnectionPool(host='nominatim.openstreetmap.org', port=443): Read timed out. (read timeout=1)\"))\n",
      "\n",
      "During handling of the above exception, another exception occurred:\n",
      "\n",
      "Traceback (most recent call last):\n",
      "  File \"/Users/salvatoremercuri/opt/anaconda3/envs/disaster-tweets/lib/python3.7/site-packages/geopy/adapters.py\", line 457, in _request\n",
      "    resp = self.session.get(url, timeout=timeout, headers=headers)\n",
      "  File \"/Users/salvatoremercuri/opt/anaconda3/envs/disaster-tweets/lib/python3.7/site-packages/requests/sessions.py\", line 600, in get\n",
      "    return self.request(\"GET\", url, **kwargs)\n",
      "  File \"/Users/salvatoremercuri/opt/anaconda3/envs/disaster-tweets/lib/python3.7/site-packages/requests/sessions.py\", line 587, in request\n",
      "    resp = self.send(prep, **send_kwargs)\n",
      "  File \"/Users/salvatoremercuri/opt/anaconda3/envs/disaster-tweets/lib/python3.7/site-packages/requests/sessions.py\", line 701, in send\n",
      "    r = adapter.send(request, **kwargs)\n",
      "  File \"/Users/salvatoremercuri/opt/anaconda3/envs/disaster-tweets/lib/python3.7/site-packages/requests/adapters.py\", line 565, in send\n",
      "    raise ConnectionError(e, request=request)\n",
      "requests.exceptions.ConnectionError: HTTPSConnectionPool(host='nominatim.openstreetmap.org', port=443): Max retries exceeded with url: /search?q=North-East+Region%2C+Singapore&format=json&limit=1 (Caused by ReadTimeoutError(\"HTTPSConnectionPool(host='nominatim.openstreetmap.org', port=443): Read timed out. (read timeout=1)\"))\n",
      "\n",
      "During handling of the above exception, another exception occurred:\n",
      "\n",
      "Traceback (most recent call last):\n",
      "  File \"/Users/salvatoremercuri/opt/anaconda3/envs/disaster-tweets/lib/python3.7/site-packages/geopy/extra/rate_limiter.py\", line 136, in _retries_gen\n",
      "    yield i  # Run the function.\n",
      "  File \"/Users/salvatoremercuri/opt/anaconda3/envs/disaster-tweets/lib/python3.7/site-packages/geopy/extra/rate_limiter.py\", line 274, in __call__\n",
      "    res = self.func(*args, **kwargs)\n",
      "  File \"/Users/salvatoremercuri/opt/anaconda3/envs/disaster-tweets/lib/python3.7/site-packages/geopy/geocoders/nominatim.py\", line 297, in geocode\n",
      "    return self._call_geocoder(url, callback, timeout=timeout)\n",
      "  File \"/Users/salvatoremercuri/opt/anaconda3/envs/disaster-tweets/lib/python3.7/site-packages/geopy/geocoders/base.py\", line 368, in _call_geocoder\n",
      "    result = self.adapter.get_json(url, timeout=timeout, headers=req_headers)\n",
      "  File \"/Users/salvatoremercuri/opt/anaconda3/envs/disaster-tweets/lib/python3.7/site-packages/geopy/adapters.py\", line 447, in get_json\n",
      "    resp = self._request(url, timeout=timeout, headers=headers)\n",
      "  File \"/Users/salvatoremercuri/opt/anaconda3/envs/disaster-tweets/lib/python3.7/site-packages/geopy/adapters.py\", line 469, in _request\n",
      "    raise GeocoderUnavailable(message)\n",
      "geopy.exc.GeocoderUnavailable: HTTPSConnectionPool(host='nominatim.openstreetmap.org', port=443): Max retries exceeded with url: /search?q=North-East+Region%2C+Singapore&format=json&limit=1 (Caused by ReadTimeoutError(\"HTTPSConnectionPool(host='nominatim.openstreetmap.org', port=443): Read timed out. (read timeout=1)\"))\n"
     ]
    },
    {
     "name": "stderr",
     "output_type": "stream",
     "text": [
      "RateLimiter swallowed an error after 2 retries. Called with (*('North-East Region, Singapore',), **{}).\n",
      "Traceback (most recent call last):\n",
      "  File \"/Users/salvatoremercuri/opt/anaconda3/envs/disaster-tweets/lib/python3.7/site-packages/urllib3/connectionpool.py\", line 449, in _make_request\n",
      "    six.raise_from(e, None)\n",
      "  File \"<string>\", line 3, in raise_from\n",
      "  File \"/Users/salvatoremercuri/opt/anaconda3/envs/disaster-tweets/lib/python3.7/site-packages/urllib3/connectionpool.py\", line 444, in _make_request\n",
      "    httplib_response = conn.getresponse()\n",
      "  File \"/Users/salvatoremercuri/opt/anaconda3/envs/disaster-tweets/lib/python3.7/http/client.py\", line 1321, in getresponse\n",
      "    response.begin()\n",
      "  File \"/Users/salvatoremercuri/opt/anaconda3/envs/disaster-tweets/lib/python3.7/http/client.py\", line 296, in begin\n",
      "    version, status, reason = self._read_status()\n",
      "  File \"/Users/salvatoremercuri/opt/anaconda3/envs/disaster-tweets/lib/python3.7/http/client.py\", line 257, in _read_status\n",
      "    line = str(self.fp.readline(_MAXLINE + 1), \"iso-8859-1\")\n",
      "  File \"/Users/salvatoremercuri/opt/anaconda3/envs/disaster-tweets/lib/python3.7/socket.py\", line 589, in readinto\n",
      "    return self._sock.recv_into(b)\n",
      "  File \"/Users/salvatoremercuri/opt/anaconda3/envs/disaster-tweets/lib/python3.7/ssl.py\", line 1052, in recv_into\n",
      "    return self.read(nbytes, buffer)\n",
      "  File \"/Users/salvatoremercuri/opt/anaconda3/envs/disaster-tweets/lib/python3.7/ssl.py\", line 911, in read\n",
      "    return self._sslobj.read(len, buffer)\n",
      "socket.timeout: The read operation timed out\n",
      "\n",
      "During handling of the above exception, another exception occurred:\n",
      "\n",
      "Traceback (most recent call last):\n",
      "  File \"/Users/salvatoremercuri/opt/anaconda3/envs/disaster-tweets/lib/python3.7/site-packages/urllib3/connectionpool.py\", line 710, in urlopen\n",
      "    chunked=chunked,\n",
      "  File \"/Users/salvatoremercuri/opt/anaconda3/envs/disaster-tweets/lib/python3.7/site-packages/urllib3/connectionpool.py\", line 451, in _make_request\n",
      "    self._raise_timeout(err=e, url=url, timeout_value=read_timeout)\n",
      "  File \"/Users/salvatoremercuri/opt/anaconda3/envs/disaster-tweets/lib/python3.7/site-packages/urllib3/connectionpool.py\", line 341, in _raise_timeout\n",
      "    self, url, \"Read timed out. (read timeout=%s)\" % timeout_value\n",
      "urllib3.exceptions.ReadTimeoutError: HTTPSConnectionPool(host='nominatim.openstreetmap.org', port=443): Read timed out. (read timeout=1)\n",
      "\n",
      "During handling of the above exception, another exception occurred:\n",
      "\n",
      "Traceback (most recent call last):\n",
      "  File \"/Users/salvatoremercuri/opt/anaconda3/envs/disaster-tweets/lib/python3.7/site-packages/requests/adapters.py\", line 499, in send\n",
      "    timeout=timeout,\n",
      "  File \"/Users/salvatoremercuri/opt/anaconda3/envs/disaster-tweets/lib/python3.7/site-packages/urllib3/connectionpool.py\", line 828, in urlopen\n",
      "    **response_kw\n",
      "  File \"/Users/salvatoremercuri/opt/anaconda3/envs/disaster-tweets/lib/python3.7/site-packages/urllib3/connectionpool.py\", line 828, in urlopen\n",
      "    **response_kw\n",
      "  File \"/Users/salvatoremercuri/opt/anaconda3/envs/disaster-tweets/lib/python3.7/site-packages/urllib3/connectionpool.py\", line 788, in urlopen\n",
      "    method, url, error=e, _pool=self, _stacktrace=sys.exc_info()[2]\n",
      "  File \"/Users/salvatoremercuri/opt/anaconda3/envs/disaster-tweets/lib/python3.7/site-packages/urllib3/util/retry.py\", line 592, in increment\n",
      "    raise MaxRetryError(_pool, url, error or ResponseError(cause))\n",
      "urllib3.exceptions.MaxRetryError: HTTPSConnectionPool(host='nominatim.openstreetmap.org', port=443): Max retries exceeded with url: /search?q=North-East+Region%2C+Singapore&format=json&limit=1 (Caused by ReadTimeoutError(\"HTTPSConnectionPool(host='nominatim.openstreetmap.org', port=443): Read timed out. (read timeout=1)\"))\n",
      "\n",
      "During handling of the above exception, another exception occurred:\n",
      "\n",
      "Traceback (most recent call last):\n",
      "  File \"/Users/salvatoremercuri/opt/anaconda3/envs/disaster-tweets/lib/python3.7/site-packages/geopy/adapters.py\", line 457, in _request\n",
      "    resp = self.session.get(url, timeout=timeout, headers=headers)\n",
      "  File \"/Users/salvatoremercuri/opt/anaconda3/envs/disaster-tweets/lib/python3.7/site-packages/requests/sessions.py\", line 600, in get\n",
      "    return self.request(\"GET\", url, **kwargs)\n",
      "  File \"/Users/salvatoremercuri/opt/anaconda3/envs/disaster-tweets/lib/python3.7/site-packages/requests/sessions.py\", line 587, in request\n",
      "    resp = self.send(prep, **send_kwargs)\n",
      "  File \"/Users/salvatoremercuri/opt/anaconda3/envs/disaster-tweets/lib/python3.7/site-packages/requests/sessions.py\", line 701, in send\n",
      "    r = adapter.send(request, **kwargs)\n",
      "  File \"/Users/salvatoremercuri/opt/anaconda3/envs/disaster-tweets/lib/python3.7/site-packages/requests/adapters.py\", line 565, in send\n",
      "    raise ConnectionError(e, request=request)\n",
      "requests.exceptions.ConnectionError: HTTPSConnectionPool(host='nominatim.openstreetmap.org', port=443): Max retries exceeded with url: /search?q=North-East+Region%2C+Singapore&format=json&limit=1 (Caused by ReadTimeoutError(\"HTTPSConnectionPool(host='nominatim.openstreetmap.org', port=443): Read timed out. (read timeout=1)\"))\n",
      "\n",
      "During handling of the above exception, another exception occurred:\n",
      "\n",
      "Traceback (most recent call last):\n",
      "  File \"/Users/salvatoremercuri/opt/anaconda3/envs/disaster-tweets/lib/python3.7/site-packages/geopy/extra/rate_limiter.py\", line 274, in __call__\n",
      "    res = self.func(*args, **kwargs)\n",
      "  File \"/Users/salvatoremercuri/opt/anaconda3/envs/disaster-tweets/lib/python3.7/site-packages/geopy/geocoders/nominatim.py\", line 297, in geocode\n",
      "    return self._call_geocoder(url, callback, timeout=timeout)\n",
      "  File \"/Users/salvatoremercuri/opt/anaconda3/envs/disaster-tweets/lib/python3.7/site-packages/geopy/geocoders/base.py\", line 368, in _call_geocoder\n",
      "    result = self.adapter.get_json(url, timeout=timeout, headers=req_headers)\n",
      "  File \"/Users/salvatoremercuri/opt/anaconda3/envs/disaster-tweets/lib/python3.7/site-packages/geopy/adapters.py\", line 447, in get_json\n",
      "    resp = self._request(url, timeout=timeout, headers=headers)\n",
      "  File \"/Users/salvatoremercuri/opt/anaconda3/envs/disaster-tweets/lib/python3.7/site-packages/geopy/adapters.py\", line 469, in _request\n",
      "    raise GeocoderUnavailable(message)\n",
      "geopy.exc.GeocoderUnavailable: HTTPSConnectionPool(host='nominatim.openstreetmap.org', port=443): Max retries exceeded with url: /search?q=North-East+Region%2C+Singapore&format=json&limit=1 (Caused by ReadTimeoutError(\"HTTPSConnectionPool(host='nominatim.openstreetmap.org', port=443): Read timed out. (read timeout=1)\"))\n",
      "RateLimiter caught an error, retrying (0/2 tries). Called with (*('The 5th Dimension. ',), **{}).\n",
      "Traceback (most recent call last):\n",
      "  File \"/Users/salvatoremercuri/opt/anaconda3/envs/disaster-tweets/lib/python3.7/site-packages/urllib3/connectionpool.py\", line 449, in _make_request\n",
      "    six.raise_from(e, None)\n",
      "  File \"<string>\", line 3, in raise_from\n",
      "  File \"/Users/salvatoremercuri/opt/anaconda3/envs/disaster-tweets/lib/python3.7/site-packages/urllib3/connectionpool.py\", line 444, in _make_request\n",
      "    httplib_response = conn.getresponse()\n",
      "  File \"/Users/salvatoremercuri/opt/anaconda3/envs/disaster-tweets/lib/python3.7/http/client.py\", line 1321, in getresponse\n",
      "    response.begin()\n",
      "  File \"/Users/salvatoremercuri/opt/anaconda3/envs/disaster-tweets/lib/python3.7/http/client.py\", line 296, in begin\n",
      "    version, status, reason = self._read_status()\n",
      "  File \"/Users/salvatoremercuri/opt/anaconda3/envs/disaster-tweets/lib/python3.7/http/client.py\", line 257, in _read_status\n",
      "    line = str(self.fp.readline(_MAXLINE + 1), \"iso-8859-1\")\n",
      "  File \"/Users/salvatoremercuri/opt/anaconda3/envs/disaster-tweets/lib/python3.7/socket.py\", line 589, in readinto\n",
      "    return self._sock.recv_into(b)\n",
      "  File \"/Users/salvatoremercuri/opt/anaconda3/envs/disaster-tweets/lib/python3.7/ssl.py\", line 1052, in recv_into\n",
      "    return self.read(nbytes, buffer)\n",
      "  File \"/Users/salvatoremercuri/opt/anaconda3/envs/disaster-tweets/lib/python3.7/ssl.py\", line 911, in read\n",
      "    return self._sslobj.read(len, buffer)\n",
      "socket.timeout: The read operation timed out\n",
      "\n",
      "During handling of the above exception, another exception occurred:\n",
      "\n",
      "Traceback (most recent call last):\n",
      "  File \"/Users/salvatoremercuri/opt/anaconda3/envs/disaster-tweets/lib/python3.7/site-packages/urllib3/connectionpool.py\", line 710, in urlopen\n",
      "    chunked=chunked,\n",
      "  File \"/Users/salvatoremercuri/opt/anaconda3/envs/disaster-tweets/lib/python3.7/site-packages/urllib3/connectionpool.py\", line 451, in _make_request\n",
      "    self._raise_timeout(err=e, url=url, timeout_value=read_timeout)\n",
      "  File \"/Users/salvatoremercuri/opt/anaconda3/envs/disaster-tweets/lib/python3.7/site-packages/urllib3/connectionpool.py\", line 341, in _raise_timeout\n",
      "    self, url, \"Read timed out. (read timeout=%s)\" % timeout_value\n",
      "urllib3.exceptions.ReadTimeoutError: HTTPSConnectionPool(host='nominatim.openstreetmap.org', port=443): Read timed out. (read timeout=1)\n",
      "\n",
      "During handling of the above exception, another exception occurred:\n",
      "\n",
      "Traceback (most recent call last):\n",
      "  File \"/Users/salvatoremercuri/opt/anaconda3/envs/disaster-tweets/lib/python3.7/site-packages/requests/adapters.py\", line 499, in send\n",
      "    timeout=timeout,\n",
      "  File \"/Users/salvatoremercuri/opt/anaconda3/envs/disaster-tweets/lib/python3.7/site-packages/urllib3/connectionpool.py\", line 828, in urlopen\n",
      "    **response_kw\n",
      "  File \"/Users/salvatoremercuri/opt/anaconda3/envs/disaster-tweets/lib/python3.7/site-packages/urllib3/connectionpool.py\", line 828, in urlopen\n",
      "    **response_kw\n",
      "  File \"/Users/salvatoremercuri/opt/anaconda3/envs/disaster-tweets/lib/python3.7/site-packages/urllib3/connectionpool.py\", line 788, in urlopen\n",
      "    method, url, error=e, _pool=self, _stacktrace=sys.exc_info()[2]\n",
      "  File \"/Users/salvatoremercuri/opt/anaconda3/envs/disaster-tweets/lib/python3.7/site-packages/urllib3/util/retry.py\", line 592, in increment\n",
      "    raise MaxRetryError(_pool, url, error or ResponseError(cause))\n",
      "urllib3.exceptions.MaxRetryError: HTTPSConnectionPool(host='nominatim.openstreetmap.org', port=443): Max retries exceeded with url: /search?q=The+5th+Dimension.+&format=json&limit=1 (Caused by ReadTimeoutError(\"HTTPSConnectionPool(host='nominatim.openstreetmap.org', port=443): Read timed out. (read timeout=1)\"))\n",
      "\n",
      "During handling of the above exception, another exception occurred:\n",
      "\n",
      "Traceback (most recent call last):\n",
      "  File \"/Users/salvatoremercuri/opt/anaconda3/envs/disaster-tweets/lib/python3.7/site-packages/geopy/adapters.py\", line 457, in _request\n",
      "    resp = self.session.get(url, timeout=timeout, headers=headers)\n",
      "  File \"/Users/salvatoremercuri/opt/anaconda3/envs/disaster-tweets/lib/python3.7/site-packages/requests/sessions.py\", line 600, in get\n",
      "    return self.request(\"GET\", url, **kwargs)\n",
      "  File \"/Users/salvatoremercuri/opt/anaconda3/envs/disaster-tweets/lib/python3.7/site-packages/requests/sessions.py\", line 587, in request\n",
      "    resp = self.send(prep, **send_kwargs)\n",
      "  File \"/Users/salvatoremercuri/opt/anaconda3/envs/disaster-tweets/lib/python3.7/site-packages/requests/sessions.py\", line 701, in send\n",
      "    r = adapter.send(request, **kwargs)\n",
      "  File \"/Users/salvatoremercuri/opt/anaconda3/envs/disaster-tweets/lib/python3.7/site-packages/requests/adapters.py\", line 565, in send\n",
      "    raise ConnectionError(e, request=request)\n",
      "requests.exceptions.ConnectionError: HTTPSConnectionPool(host='nominatim.openstreetmap.org', port=443): Max retries exceeded with url: /search?q=The+5th+Dimension.+&format=json&limit=1 (Caused by ReadTimeoutError(\"HTTPSConnectionPool(host='nominatim.openstreetmap.org', port=443): Read timed out. (read timeout=1)\"))\n",
      "\n",
      "During handling of the above exception, another exception occurred:\n",
      "\n",
      "Traceback (most recent call last):\n",
      "  File \"/Users/salvatoremercuri/opt/anaconda3/envs/disaster-tweets/lib/python3.7/site-packages/geopy/extra/rate_limiter.py\", line 136, in _retries_gen\n",
      "    yield i  # Run the function.\n",
      "  File \"/Users/salvatoremercuri/opt/anaconda3/envs/disaster-tweets/lib/python3.7/site-packages/geopy/extra/rate_limiter.py\", line 274, in __call__\n",
      "    res = self.func(*args, **kwargs)\n",
      "  File \"/Users/salvatoremercuri/opt/anaconda3/envs/disaster-tweets/lib/python3.7/site-packages/geopy/geocoders/nominatim.py\", line 297, in geocode\n",
      "    return self._call_geocoder(url, callback, timeout=timeout)\n",
      "  File \"/Users/salvatoremercuri/opt/anaconda3/envs/disaster-tweets/lib/python3.7/site-packages/geopy/geocoders/base.py\", line 368, in _call_geocoder\n",
      "    result = self.adapter.get_json(url, timeout=timeout, headers=req_headers)\n",
      "  File \"/Users/salvatoremercuri/opt/anaconda3/envs/disaster-tweets/lib/python3.7/site-packages/geopy/adapters.py\", line 447, in get_json\n",
      "    resp = self._request(url, timeout=timeout, headers=headers)\n",
      "  File \"/Users/salvatoremercuri/opt/anaconda3/envs/disaster-tweets/lib/python3.7/site-packages/geopy/adapters.py\", line 469, in _request\n",
      "    raise GeocoderUnavailable(message)\n",
      "geopy.exc.GeocoderUnavailable: HTTPSConnectionPool(host='nominatim.openstreetmap.org', port=443): Max retries exceeded with url: /search?q=The+5th+Dimension.+&format=json&limit=1 (Caused by ReadTimeoutError(\"HTTPSConnectionPool(host='nominatim.openstreetmap.org', port=443): Read timed out. (read timeout=1)\"))\n"
     ]
    },
    {
     "name": "stderr",
     "output_type": "stream",
     "text": [
      "RateLimiter caught an error, retrying (1/2 tries). Called with (*('The 5th Dimension. ',), **{}).\n",
      "Traceback (most recent call last):\n",
      "  File \"/Users/salvatoremercuri/opt/anaconda3/envs/disaster-tweets/lib/python3.7/site-packages/urllib3/connectionpool.py\", line 449, in _make_request\n",
      "    six.raise_from(e, None)\n",
      "  File \"<string>\", line 3, in raise_from\n",
      "  File \"/Users/salvatoremercuri/opt/anaconda3/envs/disaster-tweets/lib/python3.7/site-packages/urllib3/connectionpool.py\", line 444, in _make_request\n",
      "    httplib_response = conn.getresponse()\n",
      "  File \"/Users/salvatoremercuri/opt/anaconda3/envs/disaster-tweets/lib/python3.7/http/client.py\", line 1321, in getresponse\n",
      "    response.begin()\n",
      "  File \"/Users/salvatoremercuri/opt/anaconda3/envs/disaster-tweets/lib/python3.7/http/client.py\", line 296, in begin\n",
      "    version, status, reason = self._read_status()\n",
      "  File \"/Users/salvatoremercuri/opt/anaconda3/envs/disaster-tweets/lib/python3.7/http/client.py\", line 257, in _read_status\n",
      "    line = str(self.fp.readline(_MAXLINE + 1), \"iso-8859-1\")\n",
      "  File \"/Users/salvatoremercuri/opt/anaconda3/envs/disaster-tweets/lib/python3.7/socket.py\", line 589, in readinto\n",
      "    return self._sock.recv_into(b)\n",
      "  File \"/Users/salvatoremercuri/opt/anaconda3/envs/disaster-tweets/lib/python3.7/ssl.py\", line 1052, in recv_into\n",
      "    return self.read(nbytes, buffer)\n",
      "  File \"/Users/salvatoremercuri/opt/anaconda3/envs/disaster-tweets/lib/python3.7/ssl.py\", line 911, in read\n",
      "    return self._sslobj.read(len, buffer)\n",
      "socket.timeout: The read operation timed out\n",
      "\n",
      "During handling of the above exception, another exception occurred:\n",
      "\n",
      "Traceback (most recent call last):\n",
      "  File \"/Users/salvatoremercuri/opt/anaconda3/envs/disaster-tweets/lib/python3.7/site-packages/urllib3/connectionpool.py\", line 710, in urlopen\n",
      "    chunked=chunked,\n",
      "  File \"/Users/salvatoremercuri/opt/anaconda3/envs/disaster-tweets/lib/python3.7/site-packages/urllib3/connectionpool.py\", line 451, in _make_request\n",
      "    self._raise_timeout(err=e, url=url, timeout_value=read_timeout)\n",
      "  File \"/Users/salvatoremercuri/opt/anaconda3/envs/disaster-tweets/lib/python3.7/site-packages/urllib3/connectionpool.py\", line 341, in _raise_timeout\n",
      "    self, url, \"Read timed out. (read timeout=%s)\" % timeout_value\n",
      "urllib3.exceptions.ReadTimeoutError: HTTPSConnectionPool(host='nominatim.openstreetmap.org', port=443): Read timed out. (read timeout=1)\n",
      "\n",
      "During handling of the above exception, another exception occurred:\n",
      "\n",
      "Traceback (most recent call last):\n",
      "  File \"/Users/salvatoremercuri/opt/anaconda3/envs/disaster-tweets/lib/python3.7/site-packages/requests/adapters.py\", line 499, in send\n",
      "    timeout=timeout,\n",
      "  File \"/Users/salvatoremercuri/opt/anaconda3/envs/disaster-tweets/lib/python3.7/site-packages/urllib3/connectionpool.py\", line 828, in urlopen\n",
      "    **response_kw\n",
      "  File \"/Users/salvatoremercuri/opt/anaconda3/envs/disaster-tweets/lib/python3.7/site-packages/urllib3/connectionpool.py\", line 828, in urlopen\n",
      "    **response_kw\n",
      "  File \"/Users/salvatoremercuri/opt/anaconda3/envs/disaster-tweets/lib/python3.7/site-packages/urllib3/connectionpool.py\", line 788, in urlopen\n",
      "    method, url, error=e, _pool=self, _stacktrace=sys.exc_info()[2]\n",
      "  File \"/Users/salvatoremercuri/opt/anaconda3/envs/disaster-tweets/lib/python3.7/site-packages/urllib3/util/retry.py\", line 592, in increment\n",
      "    raise MaxRetryError(_pool, url, error or ResponseError(cause))\n",
      "urllib3.exceptions.MaxRetryError: HTTPSConnectionPool(host='nominatim.openstreetmap.org', port=443): Max retries exceeded with url: /search?q=The+5th+Dimension.+&format=json&limit=1 (Caused by ReadTimeoutError(\"HTTPSConnectionPool(host='nominatim.openstreetmap.org', port=443): Read timed out. (read timeout=1)\"))\n",
      "\n",
      "During handling of the above exception, another exception occurred:\n",
      "\n",
      "Traceback (most recent call last):\n",
      "  File \"/Users/salvatoremercuri/opt/anaconda3/envs/disaster-tweets/lib/python3.7/site-packages/geopy/adapters.py\", line 457, in _request\n",
      "    resp = self.session.get(url, timeout=timeout, headers=headers)\n",
      "  File \"/Users/salvatoremercuri/opt/anaconda3/envs/disaster-tweets/lib/python3.7/site-packages/requests/sessions.py\", line 600, in get\n",
      "    return self.request(\"GET\", url, **kwargs)\n",
      "  File \"/Users/salvatoremercuri/opt/anaconda3/envs/disaster-tweets/lib/python3.7/site-packages/requests/sessions.py\", line 587, in request\n",
      "    resp = self.send(prep, **send_kwargs)\n",
      "  File \"/Users/salvatoremercuri/opt/anaconda3/envs/disaster-tweets/lib/python3.7/site-packages/requests/sessions.py\", line 701, in send\n",
      "    r = adapter.send(request, **kwargs)\n",
      "  File \"/Users/salvatoremercuri/opt/anaconda3/envs/disaster-tweets/lib/python3.7/site-packages/requests/adapters.py\", line 565, in send\n",
      "    raise ConnectionError(e, request=request)\n",
      "requests.exceptions.ConnectionError: HTTPSConnectionPool(host='nominatim.openstreetmap.org', port=443): Max retries exceeded with url: /search?q=The+5th+Dimension.+&format=json&limit=1 (Caused by ReadTimeoutError(\"HTTPSConnectionPool(host='nominatim.openstreetmap.org', port=443): Read timed out. (read timeout=1)\"))\n",
      "\n",
      "During handling of the above exception, another exception occurred:\n",
      "\n",
      "Traceback (most recent call last):\n",
      "  File \"/Users/salvatoremercuri/opt/anaconda3/envs/disaster-tweets/lib/python3.7/site-packages/geopy/extra/rate_limiter.py\", line 136, in _retries_gen\n",
      "    yield i  # Run the function.\n",
      "  File \"/Users/salvatoremercuri/opt/anaconda3/envs/disaster-tweets/lib/python3.7/site-packages/geopy/extra/rate_limiter.py\", line 274, in __call__\n",
      "    res = self.func(*args, **kwargs)\n",
      "  File \"/Users/salvatoremercuri/opt/anaconda3/envs/disaster-tweets/lib/python3.7/site-packages/geopy/geocoders/nominatim.py\", line 297, in geocode\n",
      "    return self._call_geocoder(url, callback, timeout=timeout)\n",
      "  File \"/Users/salvatoremercuri/opt/anaconda3/envs/disaster-tweets/lib/python3.7/site-packages/geopy/geocoders/base.py\", line 368, in _call_geocoder\n",
      "    result = self.adapter.get_json(url, timeout=timeout, headers=req_headers)\n",
      "  File \"/Users/salvatoremercuri/opt/anaconda3/envs/disaster-tweets/lib/python3.7/site-packages/geopy/adapters.py\", line 447, in get_json\n",
      "    resp = self._request(url, timeout=timeout, headers=headers)\n",
      "  File \"/Users/salvatoremercuri/opt/anaconda3/envs/disaster-tweets/lib/python3.7/site-packages/geopy/adapters.py\", line 469, in _request\n",
      "    raise GeocoderUnavailable(message)\n",
      "geopy.exc.GeocoderUnavailable: HTTPSConnectionPool(host='nominatim.openstreetmap.org', port=443): Max retries exceeded with url: /search?q=The+5th+Dimension.+&format=json&limit=1 (Caused by ReadTimeoutError(\"HTTPSConnectionPool(host='nominatim.openstreetmap.org', port=443): Read timed out. (read timeout=1)\"))\n",
      "RateLimiter swallowed an error after 2 retries. Called with (*('The 5th Dimension. ',), **{}).\n",
      "Traceback (most recent call last):\n",
      "  File \"/Users/salvatoremercuri/opt/anaconda3/envs/disaster-tweets/lib/python3.7/site-packages/urllib3/connectionpool.py\", line 449, in _make_request\n",
      "    six.raise_from(e, None)\n",
      "  File \"<string>\", line 3, in raise_from\n",
      "  File \"/Users/salvatoremercuri/opt/anaconda3/envs/disaster-tweets/lib/python3.7/site-packages/urllib3/connectionpool.py\", line 444, in _make_request\n",
      "    httplib_response = conn.getresponse()\n",
      "  File \"/Users/salvatoremercuri/opt/anaconda3/envs/disaster-tweets/lib/python3.7/http/client.py\", line 1321, in getresponse\n",
      "    response.begin()\n",
      "  File \"/Users/salvatoremercuri/opt/anaconda3/envs/disaster-tweets/lib/python3.7/http/client.py\", line 296, in begin\n",
      "    version, status, reason = self._read_status()\n",
      "  File \"/Users/salvatoremercuri/opt/anaconda3/envs/disaster-tweets/lib/python3.7/http/client.py\", line 257, in _read_status\n",
      "    line = str(self.fp.readline(_MAXLINE + 1), \"iso-8859-1\")\n",
      "  File \"/Users/salvatoremercuri/opt/anaconda3/envs/disaster-tweets/lib/python3.7/socket.py\", line 589, in readinto\n",
      "    return self._sock.recv_into(b)\n",
      "  File \"/Users/salvatoremercuri/opt/anaconda3/envs/disaster-tweets/lib/python3.7/ssl.py\", line 1052, in recv_into\n",
      "    return self.read(nbytes, buffer)\n",
      "  File \"/Users/salvatoremercuri/opt/anaconda3/envs/disaster-tweets/lib/python3.7/ssl.py\", line 911, in read\n",
      "    return self._sslobj.read(len, buffer)\n",
      "socket.timeout: The read operation timed out\n",
      "\n",
      "During handling of the above exception, another exception occurred:\n",
      "\n",
      "Traceback (most recent call last):\n",
      "  File \"/Users/salvatoremercuri/opt/anaconda3/envs/disaster-tweets/lib/python3.7/site-packages/urllib3/connectionpool.py\", line 710, in urlopen\n",
      "    chunked=chunked,\n",
      "  File \"/Users/salvatoremercuri/opt/anaconda3/envs/disaster-tweets/lib/python3.7/site-packages/urllib3/connectionpool.py\", line 451, in _make_request\n",
      "    self._raise_timeout(err=e, url=url, timeout_value=read_timeout)\n",
      "  File \"/Users/salvatoremercuri/opt/anaconda3/envs/disaster-tweets/lib/python3.7/site-packages/urllib3/connectionpool.py\", line 341, in _raise_timeout\n",
      "    self, url, \"Read timed out. (read timeout=%s)\" % timeout_value\n",
      "urllib3.exceptions.ReadTimeoutError: HTTPSConnectionPool(host='nominatim.openstreetmap.org', port=443): Read timed out. (read timeout=1)\n",
      "\n",
      "During handling of the above exception, another exception occurred:\n",
      "\n",
      "Traceback (most recent call last):\n",
      "  File \"/Users/salvatoremercuri/opt/anaconda3/envs/disaster-tweets/lib/python3.7/site-packages/requests/adapters.py\", line 499, in send\n",
      "    timeout=timeout,\n",
      "  File \"/Users/salvatoremercuri/opt/anaconda3/envs/disaster-tweets/lib/python3.7/site-packages/urllib3/connectionpool.py\", line 828, in urlopen\n",
      "    **response_kw\n",
      "  File \"/Users/salvatoremercuri/opt/anaconda3/envs/disaster-tweets/lib/python3.7/site-packages/urllib3/connectionpool.py\", line 828, in urlopen\n",
      "    **response_kw\n",
      "  File \"/Users/salvatoremercuri/opt/anaconda3/envs/disaster-tweets/lib/python3.7/site-packages/urllib3/connectionpool.py\", line 788, in urlopen\n",
      "    method, url, error=e, _pool=self, _stacktrace=sys.exc_info()[2]\n",
      "  File \"/Users/salvatoremercuri/opt/anaconda3/envs/disaster-tweets/lib/python3.7/site-packages/urllib3/util/retry.py\", line 592, in increment\n",
      "    raise MaxRetryError(_pool, url, error or ResponseError(cause))\n",
      "urllib3.exceptions.MaxRetryError: HTTPSConnectionPool(host='nominatim.openstreetmap.org', port=443): Max retries exceeded with url: /search?q=The+5th+Dimension.+&format=json&limit=1 (Caused by ReadTimeoutError(\"HTTPSConnectionPool(host='nominatim.openstreetmap.org', port=443): Read timed out. (read timeout=1)\"))\n",
      "\n",
      "During handling of the above exception, another exception occurred:\n",
      "\n",
      "Traceback (most recent call last):\n",
      "  File \"/Users/salvatoremercuri/opt/anaconda3/envs/disaster-tweets/lib/python3.7/site-packages/geopy/adapters.py\", line 457, in _request\n",
      "    resp = self.session.get(url, timeout=timeout, headers=headers)\n",
      "  File \"/Users/salvatoremercuri/opt/anaconda3/envs/disaster-tweets/lib/python3.7/site-packages/requests/sessions.py\", line 600, in get\n",
      "    return self.request(\"GET\", url, **kwargs)\n",
      "  File \"/Users/salvatoremercuri/opt/anaconda3/envs/disaster-tweets/lib/python3.7/site-packages/requests/sessions.py\", line 587, in request\n",
      "    resp = self.send(prep, **send_kwargs)\n",
      "  File \"/Users/salvatoremercuri/opt/anaconda3/envs/disaster-tweets/lib/python3.7/site-packages/requests/sessions.py\", line 701, in send\n",
      "    r = adapter.send(request, **kwargs)\n",
      "  File \"/Users/salvatoremercuri/opt/anaconda3/envs/disaster-tweets/lib/python3.7/site-packages/requests/adapters.py\", line 565, in send\n",
      "    raise ConnectionError(e, request=request)\n",
      "requests.exceptions.ConnectionError: HTTPSConnectionPool(host='nominatim.openstreetmap.org', port=443): Max retries exceeded with url: /search?q=The+5th+Dimension.+&format=json&limit=1 (Caused by ReadTimeoutError(\"HTTPSConnectionPool(host='nominatim.openstreetmap.org', port=443): Read timed out. (read timeout=1)\"))\n",
      "\n",
      "During handling of the above exception, another exception occurred:\n",
      "\n",
      "Traceback (most recent call last):\n",
      "  File \"/Users/salvatoremercuri/opt/anaconda3/envs/disaster-tweets/lib/python3.7/site-packages/geopy/extra/rate_limiter.py\", line 274, in __call__\n",
      "    res = self.func(*args, **kwargs)\n",
      "  File \"/Users/salvatoremercuri/opt/anaconda3/envs/disaster-tweets/lib/python3.7/site-packages/geopy/geocoders/nominatim.py\", line 297, in geocode\n",
      "    return self._call_geocoder(url, callback, timeout=timeout)\n",
      "  File \"/Users/salvatoremercuri/opt/anaconda3/envs/disaster-tweets/lib/python3.7/site-packages/geopy/geocoders/base.py\", line 368, in _call_geocoder\n",
      "    result = self.adapter.get_json(url, timeout=timeout, headers=req_headers)\n",
      "  File \"/Users/salvatoremercuri/opt/anaconda3/envs/disaster-tweets/lib/python3.7/site-packages/geopy/adapters.py\", line 447, in get_json\n",
      "    resp = self._request(url, timeout=timeout, headers=headers)\n",
      "  File \"/Users/salvatoremercuri/opt/anaconda3/envs/disaster-tweets/lib/python3.7/site-packages/geopy/adapters.py\", line 469, in _request\n",
      "    raise GeocoderUnavailable(message)\n",
      "geopy.exc.GeocoderUnavailable: HTTPSConnectionPool(host='nominatim.openstreetmap.org', port=443): Max retries exceeded with url: /search?q=The+5th+Dimension.+&format=json&limit=1 (Caused by ReadTimeoutError(\"HTTPSConnectionPool(host='nominatim.openstreetmap.org', port=443): Read timed out. (read timeout=1)\"))\n"
     ]
    },
    {
     "name": "stderr",
     "output_type": "stream",
     "text": [
      "RateLimiter caught an error, retrying (0/2 tries). Called with (*('The land of New Jersey. ',), **{}).\n",
      "Traceback (most recent call last):\n",
      "  File \"/Users/salvatoremercuri/opt/anaconda3/envs/disaster-tweets/lib/python3.7/site-packages/urllib3/connectionpool.py\", line 449, in _make_request\n",
      "    six.raise_from(e, None)\n",
      "  File \"<string>\", line 3, in raise_from\n",
      "  File \"/Users/salvatoremercuri/opt/anaconda3/envs/disaster-tweets/lib/python3.7/site-packages/urllib3/connectionpool.py\", line 444, in _make_request\n",
      "    httplib_response = conn.getresponse()\n",
      "  File \"/Users/salvatoremercuri/opt/anaconda3/envs/disaster-tweets/lib/python3.7/http/client.py\", line 1321, in getresponse\n",
      "    response.begin()\n",
      "  File \"/Users/salvatoremercuri/opt/anaconda3/envs/disaster-tweets/lib/python3.7/http/client.py\", line 296, in begin\n",
      "    version, status, reason = self._read_status()\n",
      "  File \"/Users/salvatoremercuri/opt/anaconda3/envs/disaster-tweets/lib/python3.7/http/client.py\", line 257, in _read_status\n",
      "    line = str(self.fp.readline(_MAXLINE + 1), \"iso-8859-1\")\n",
      "  File \"/Users/salvatoremercuri/opt/anaconda3/envs/disaster-tweets/lib/python3.7/socket.py\", line 589, in readinto\n",
      "    return self._sock.recv_into(b)\n",
      "  File \"/Users/salvatoremercuri/opt/anaconda3/envs/disaster-tweets/lib/python3.7/ssl.py\", line 1052, in recv_into\n",
      "    return self.read(nbytes, buffer)\n",
      "  File \"/Users/salvatoremercuri/opt/anaconda3/envs/disaster-tweets/lib/python3.7/ssl.py\", line 911, in read\n",
      "    return self._sslobj.read(len, buffer)\n",
      "socket.timeout: The read operation timed out\n",
      "\n",
      "During handling of the above exception, another exception occurred:\n",
      "\n",
      "Traceback (most recent call last):\n",
      "  File \"/Users/salvatoremercuri/opt/anaconda3/envs/disaster-tweets/lib/python3.7/site-packages/urllib3/connectionpool.py\", line 710, in urlopen\n",
      "    chunked=chunked,\n",
      "  File \"/Users/salvatoremercuri/opt/anaconda3/envs/disaster-tweets/lib/python3.7/site-packages/urllib3/connectionpool.py\", line 451, in _make_request\n",
      "    self._raise_timeout(err=e, url=url, timeout_value=read_timeout)\n",
      "  File \"/Users/salvatoremercuri/opt/anaconda3/envs/disaster-tweets/lib/python3.7/site-packages/urllib3/connectionpool.py\", line 341, in _raise_timeout\n",
      "    self, url, \"Read timed out. (read timeout=%s)\" % timeout_value\n",
      "urllib3.exceptions.ReadTimeoutError: HTTPSConnectionPool(host='nominatim.openstreetmap.org', port=443): Read timed out. (read timeout=1)\n",
      "\n",
      "During handling of the above exception, another exception occurred:\n",
      "\n",
      "Traceback (most recent call last):\n",
      "  File \"/Users/salvatoremercuri/opt/anaconda3/envs/disaster-tweets/lib/python3.7/site-packages/requests/adapters.py\", line 499, in send\n",
      "    timeout=timeout,\n",
      "  File \"/Users/salvatoremercuri/opt/anaconda3/envs/disaster-tweets/lib/python3.7/site-packages/urllib3/connectionpool.py\", line 828, in urlopen\n",
      "    **response_kw\n",
      "  File \"/Users/salvatoremercuri/opt/anaconda3/envs/disaster-tweets/lib/python3.7/site-packages/urllib3/connectionpool.py\", line 828, in urlopen\n",
      "    **response_kw\n",
      "  File \"/Users/salvatoremercuri/opt/anaconda3/envs/disaster-tweets/lib/python3.7/site-packages/urllib3/connectionpool.py\", line 788, in urlopen\n",
      "    method, url, error=e, _pool=self, _stacktrace=sys.exc_info()[2]\n",
      "  File \"/Users/salvatoremercuri/opt/anaconda3/envs/disaster-tweets/lib/python3.7/site-packages/urllib3/util/retry.py\", line 592, in increment\n",
      "    raise MaxRetryError(_pool, url, error or ResponseError(cause))\n",
      "urllib3.exceptions.MaxRetryError: HTTPSConnectionPool(host='nominatim.openstreetmap.org', port=443): Max retries exceeded with url: /search?q=The+land+of+New+Jersey.+&format=json&limit=1 (Caused by ReadTimeoutError(\"HTTPSConnectionPool(host='nominatim.openstreetmap.org', port=443): Read timed out. (read timeout=1)\"))\n",
      "\n",
      "During handling of the above exception, another exception occurred:\n",
      "\n",
      "Traceback (most recent call last):\n",
      "  File \"/Users/salvatoremercuri/opt/anaconda3/envs/disaster-tweets/lib/python3.7/site-packages/geopy/adapters.py\", line 457, in _request\n",
      "    resp = self.session.get(url, timeout=timeout, headers=headers)\n",
      "  File \"/Users/salvatoremercuri/opt/anaconda3/envs/disaster-tweets/lib/python3.7/site-packages/requests/sessions.py\", line 600, in get\n",
      "    return self.request(\"GET\", url, **kwargs)\n",
      "  File \"/Users/salvatoremercuri/opt/anaconda3/envs/disaster-tweets/lib/python3.7/site-packages/requests/sessions.py\", line 587, in request\n",
      "    resp = self.send(prep, **send_kwargs)\n",
      "  File \"/Users/salvatoremercuri/opt/anaconda3/envs/disaster-tweets/lib/python3.7/site-packages/requests/sessions.py\", line 701, in send\n",
      "    r = adapter.send(request, **kwargs)\n",
      "  File \"/Users/salvatoremercuri/opt/anaconda3/envs/disaster-tweets/lib/python3.7/site-packages/requests/adapters.py\", line 565, in send\n",
      "    raise ConnectionError(e, request=request)\n",
      "requests.exceptions.ConnectionError: HTTPSConnectionPool(host='nominatim.openstreetmap.org', port=443): Max retries exceeded with url: /search?q=The+land+of+New+Jersey.+&format=json&limit=1 (Caused by ReadTimeoutError(\"HTTPSConnectionPool(host='nominatim.openstreetmap.org', port=443): Read timed out. (read timeout=1)\"))\n",
      "\n",
      "During handling of the above exception, another exception occurred:\n",
      "\n",
      "Traceback (most recent call last):\n",
      "  File \"/Users/salvatoremercuri/opt/anaconda3/envs/disaster-tweets/lib/python3.7/site-packages/geopy/extra/rate_limiter.py\", line 136, in _retries_gen\n",
      "    yield i  # Run the function.\n",
      "  File \"/Users/salvatoremercuri/opt/anaconda3/envs/disaster-tweets/lib/python3.7/site-packages/geopy/extra/rate_limiter.py\", line 274, in __call__\n",
      "    res = self.func(*args, **kwargs)\n",
      "  File \"/Users/salvatoremercuri/opt/anaconda3/envs/disaster-tweets/lib/python3.7/site-packages/geopy/geocoders/nominatim.py\", line 297, in geocode\n",
      "    return self._call_geocoder(url, callback, timeout=timeout)\n",
      "  File \"/Users/salvatoremercuri/opt/anaconda3/envs/disaster-tweets/lib/python3.7/site-packages/geopy/geocoders/base.py\", line 368, in _call_geocoder\n",
      "    result = self.adapter.get_json(url, timeout=timeout, headers=req_headers)\n",
      "  File \"/Users/salvatoremercuri/opt/anaconda3/envs/disaster-tweets/lib/python3.7/site-packages/geopy/adapters.py\", line 447, in get_json\n",
      "    resp = self._request(url, timeout=timeout, headers=headers)\n",
      "  File \"/Users/salvatoremercuri/opt/anaconda3/envs/disaster-tweets/lib/python3.7/site-packages/geopy/adapters.py\", line 469, in _request\n",
      "    raise GeocoderUnavailable(message)\n",
      "geopy.exc.GeocoderUnavailable: HTTPSConnectionPool(host='nominatim.openstreetmap.org', port=443): Max retries exceeded with url: /search?q=The+land+of+New+Jersey.+&format=json&limit=1 (Caused by ReadTimeoutError(\"HTTPSConnectionPool(host='nominatim.openstreetmap.org', port=443): Read timed out. (read timeout=1)\"))\n",
      "RateLimiter caught an error, retrying (1/2 tries). Called with (*('The land of New Jersey. ',), **{}).\n",
      "Traceback (most recent call last):\n",
      "  File \"/Users/salvatoremercuri/opt/anaconda3/envs/disaster-tweets/lib/python3.7/site-packages/urllib3/connectionpool.py\", line 449, in _make_request\n",
      "    six.raise_from(e, None)\n",
      "  File \"<string>\", line 3, in raise_from\n",
      "  File \"/Users/salvatoremercuri/opt/anaconda3/envs/disaster-tweets/lib/python3.7/site-packages/urllib3/connectionpool.py\", line 444, in _make_request\n",
      "    httplib_response = conn.getresponse()\n",
      "  File \"/Users/salvatoremercuri/opt/anaconda3/envs/disaster-tweets/lib/python3.7/http/client.py\", line 1321, in getresponse\n",
      "    response.begin()\n",
      "  File \"/Users/salvatoremercuri/opt/anaconda3/envs/disaster-tweets/lib/python3.7/http/client.py\", line 296, in begin\n",
      "    version, status, reason = self._read_status()\n",
      "  File \"/Users/salvatoremercuri/opt/anaconda3/envs/disaster-tweets/lib/python3.7/http/client.py\", line 257, in _read_status\n",
      "    line = str(self.fp.readline(_MAXLINE + 1), \"iso-8859-1\")\n",
      "  File \"/Users/salvatoremercuri/opt/anaconda3/envs/disaster-tweets/lib/python3.7/socket.py\", line 589, in readinto\n",
      "    return self._sock.recv_into(b)\n",
      "  File \"/Users/salvatoremercuri/opt/anaconda3/envs/disaster-tweets/lib/python3.7/ssl.py\", line 1052, in recv_into\n",
      "    return self.read(nbytes, buffer)\n",
      "  File \"/Users/salvatoremercuri/opt/anaconda3/envs/disaster-tweets/lib/python3.7/ssl.py\", line 911, in read\n",
      "    return self._sslobj.read(len, buffer)\n",
      "socket.timeout: The read operation timed out\n",
      "\n",
      "During handling of the above exception, another exception occurred:\n",
      "\n",
      "Traceback (most recent call last):\n",
      "  File \"/Users/salvatoremercuri/opt/anaconda3/envs/disaster-tweets/lib/python3.7/site-packages/urllib3/connectionpool.py\", line 710, in urlopen\n",
      "    chunked=chunked,\n",
      "  File \"/Users/salvatoremercuri/opt/anaconda3/envs/disaster-tweets/lib/python3.7/site-packages/urllib3/connectionpool.py\", line 451, in _make_request\n",
      "    self._raise_timeout(err=e, url=url, timeout_value=read_timeout)\n",
      "  File \"/Users/salvatoremercuri/opt/anaconda3/envs/disaster-tweets/lib/python3.7/site-packages/urllib3/connectionpool.py\", line 341, in _raise_timeout\n",
      "    self, url, \"Read timed out. (read timeout=%s)\" % timeout_value\n",
      "urllib3.exceptions.ReadTimeoutError: HTTPSConnectionPool(host='nominatim.openstreetmap.org', port=443): Read timed out. (read timeout=1)\n",
      "\n",
      "During handling of the above exception, another exception occurred:\n",
      "\n",
      "Traceback (most recent call last):\n",
      "  File \"/Users/salvatoremercuri/opt/anaconda3/envs/disaster-tweets/lib/python3.7/site-packages/requests/adapters.py\", line 499, in send\n",
      "    timeout=timeout,\n",
      "  File \"/Users/salvatoremercuri/opt/anaconda3/envs/disaster-tweets/lib/python3.7/site-packages/urllib3/connectionpool.py\", line 828, in urlopen\n",
      "    **response_kw\n",
      "  File \"/Users/salvatoremercuri/opt/anaconda3/envs/disaster-tweets/lib/python3.7/site-packages/urllib3/connectionpool.py\", line 828, in urlopen\n",
      "    **response_kw\n",
      "  File \"/Users/salvatoremercuri/opt/anaconda3/envs/disaster-tweets/lib/python3.7/site-packages/urllib3/connectionpool.py\", line 788, in urlopen\n",
      "    method, url, error=e, _pool=self, _stacktrace=sys.exc_info()[2]\n",
      "  File \"/Users/salvatoremercuri/opt/anaconda3/envs/disaster-tweets/lib/python3.7/site-packages/urllib3/util/retry.py\", line 592, in increment\n",
      "    raise MaxRetryError(_pool, url, error or ResponseError(cause))\n",
      "urllib3.exceptions.MaxRetryError: HTTPSConnectionPool(host='nominatim.openstreetmap.org', port=443): Max retries exceeded with url: /search?q=The+land+of+New+Jersey.+&format=json&limit=1 (Caused by ReadTimeoutError(\"HTTPSConnectionPool(host='nominatim.openstreetmap.org', port=443): Read timed out. (read timeout=1)\"))\n",
      "\n",
      "During handling of the above exception, another exception occurred:\n",
      "\n",
      "Traceback (most recent call last):\n",
      "  File \"/Users/salvatoremercuri/opt/anaconda3/envs/disaster-tweets/lib/python3.7/site-packages/geopy/adapters.py\", line 457, in _request\n",
      "    resp = self.session.get(url, timeout=timeout, headers=headers)\n",
      "  File \"/Users/salvatoremercuri/opt/anaconda3/envs/disaster-tweets/lib/python3.7/site-packages/requests/sessions.py\", line 600, in get\n",
      "    return self.request(\"GET\", url, **kwargs)\n",
      "  File \"/Users/salvatoremercuri/opt/anaconda3/envs/disaster-tweets/lib/python3.7/site-packages/requests/sessions.py\", line 587, in request\n",
      "    resp = self.send(prep, **send_kwargs)\n",
      "  File \"/Users/salvatoremercuri/opt/anaconda3/envs/disaster-tweets/lib/python3.7/site-packages/requests/sessions.py\", line 701, in send\n",
      "    r = adapter.send(request, **kwargs)\n",
      "  File \"/Users/salvatoremercuri/opt/anaconda3/envs/disaster-tweets/lib/python3.7/site-packages/requests/adapters.py\", line 565, in send\n",
      "    raise ConnectionError(e, request=request)\n",
      "requests.exceptions.ConnectionError: HTTPSConnectionPool(host='nominatim.openstreetmap.org', port=443): Max retries exceeded with url: /search?q=The+land+of+New+Jersey.+&format=json&limit=1 (Caused by ReadTimeoutError(\"HTTPSConnectionPool(host='nominatim.openstreetmap.org', port=443): Read timed out. (read timeout=1)\"))\n",
      "\n",
      "During handling of the above exception, another exception occurred:\n",
      "\n",
      "Traceback (most recent call last):\n",
      "  File \"/Users/salvatoremercuri/opt/anaconda3/envs/disaster-tweets/lib/python3.7/site-packages/geopy/extra/rate_limiter.py\", line 136, in _retries_gen\n",
      "    yield i  # Run the function.\n",
      "  File \"/Users/salvatoremercuri/opt/anaconda3/envs/disaster-tweets/lib/python3.7/site-packages/geopy/extra/rate_limiter.py\", line 274, in __call__\n",
      "    res = self.func(*args, **kwargs)\n",
      "  File \"/Users/salvatoremercuri/opt/anaconda3/envs/disaster-tweets/lib/python3.7/site-packages/geopy/geocoders/nominatim.py\", line 297, in geocode\n",
      "    return self._call_geocoder(url, callback, timeout=timeout)\n",
      "  File \"/Users/salvatoremercuri/opt/anaconda3/envs/disaster-tweets/lib/python3.7/site-packages/geopy/geocoders/base.py\", line 368, in _call_geocoder\n",
      "    result = self.adapter.get_json(url, timeout=timeout, headers=req_headers)\n",
      "  File \"/Users/salvatoremercuri/opt/anaconda3/envs/disaster-tweets/lib/python3.7/site-packages/geopy/adapters.py\", line 447, in get_json\n",
      "    resp = self._request(url, timeout=timeout, headers=headers)\n",
      "  File \"/Users/salvatoremercuri/opt/anaconda3/envs/disaster-tweets/lib/python3.7/site-packages/geopy/adapters.py\", line 469, in _request\n",
      "    raise GeocoderUnavailable(message)\n",
      "geopy.exc.GeocoderUnavailable: HTTPSConnectionPool(host='nominatim.openstreetmap.org', port=443): Max retries exceeded with url: /search?q=The+land+of+New+Jersey.+&format=json&limit=1 (Caused by ReadTimeoutError(\"HTTPSConnectionPool(host='nominatim.openstreetmap.org', port=443): Read timed out. (read timeout=1)\"))\n"
     ]
    },
    {
     "name": "stderr",
     "output_type": "stream",
     "text": [
      "RateLimiter swallowed an error after 2 retries. Called with (*('The land of New Jersey. ',), **{}).\n",
      "Traceback (most recent call last):\n",
      "  File \"/Users/salvatoremercuri/opt/anaconda3/envs/disaster-tweets/lib/python3.7/site-packages/urllib3/connectionpool.py\", line 449, in _make_request\n",
      "    six.raise_from(e, None)\n",
      "  File \"<string>\", line 3, in raise_from\n",
      "  File \"/Users/salvatoremercuri/opt/anaconda3/envs/disaster-tweets/lib/python3.7/site-packages/urllib3/connectionpool.py\", line 444, in _make_request\n",
      "    httplib_response = conn.getresponse()\n",
      "  File \"/Users/salvatoremercuri/opt/anaconda3/envs/disaster-tweets/lib/python3.7/http/client.py\", line 1321, in getresponse\n",
      "    response.begin()\n",
      "  File \"/Users/salvatoremercuri/opt/anaconda3/envs/disaster-tweets/lib/python3.7/http/client.py\", line 296, in begin\n",
      "    version, status, reason = self._read_status()\n",
      "  File \"/Users/salvatoremercuri/opt/anaconda3/envs/disaster-tweets/lib/python3.7/http/client.py\", line 257, in _read_status\n",
      "    line = str(self.fp.readline(_MAXLINE + 1), \"iso-8859-1\")\n",
      "  File \"/Users/salvatoremercuri/opt/anaconda3/envs/disaster-tweets/lib/python3.7/socket.py\", line 589, in readinto\n",
      "    return self._sock.recv_into(b)\n",
      "  File \"/Users/salvatoremercuri/opt/anaconda3/envs/disaster-tweets/lib/python3.7/ssl.py\", line 1052, in recv_into\n",
      "    return self.read(nbytes, buffer)\n",
      "  File \"/Users/salvatoremercuri/opt/anaconda3/envs/disaster-tweets/lib/python3.7/ssl.py\", line 911, in read\n",
      "    return self._sslobj.read(len, buffer)\n",
      "socket.timeout: The read operation timed out\n",
      "\n",
      "During handling of the above exception, another exception occurred:\n",
      "\n",
      "Traceback (most recent call last):\n",
      "  File \"/Users/salvatoremercuri/opt/anaconda3/envs/disaster-tweets/lib/python3.7/site-packages/urllib3/connectionpool.py\", line 710, in urlopen\n",
      "    chunked=chunked,\n",
      "  File \"/Users/salvatoremercuri/opt/anaconda3/envs/disaster-tweets/lib/python3.7/site-packages/urllib3/connectionpool.py\", line 451, in _make_request\n",
      "    self._raise_timeout(err=e, url=url, timeout_value=read_timeout)\n",
      "  File \"/Users/salvatoremercuri/opt/anaconda3/envs/disaster-tweets/lib/python3.7/site-packages/urllib3/connectionpool.py\", line 341, in _raise_timeout\n",
      "    self, url, \"Read timed out. (read timeout=%s)\" % timeout_value\n",
      "urllib3.exceptions.ReadTimeoutError: HTTPSConnectionPool(host='nominatim.openstreetmap.org', port=443): Read timed out. (read timeout=1)\n",
      "\n",
      "During handling of the above exception, another exception occurred:\n",
      "\n",
      "Traceback (most recent call last):\n",
      "  File \"/Users/salvatoremercuri/opt/anaconda3/envs/disaster-tweets/lib/python3.7/site-packages/requests/adapters.py\", line 499, in send\n",
      "    timeout=timeout,\n",
      "  File \"/Users/salvatoremercuri/opt/anaconda3/envs/disaster-tweets/lib/python3.7/site-packages/urllib3/connectionpool.py\", line 828, in urlopen\n",
      "    **response_kw\n",
      "  File \"/Users/salvatoremercuri/opt/anaconda3/envs/disaster-tweets/lib/python3.7/site-packages/urllib3/connectionpool.py\", line 828, in urlopen\n",
      "    **response_kw\n",
      "  File \"/Users/salvatoremercuri/opt/anaconda3/envs/disaster-tweets/lib/python3.7/site-packages/urllib3/connectionpool.py\", line 788, in urlopen\n",
      "    method, url, error=e, _pool=self, _stacktrace=sys.exc_info()[2]\n",
      "  File \"/Users/salvatoremercuri/opt/anaconda3/envs/disaster-tweets/lib/python3.7/site-packages/urllib3/util/retry.py\", line 592, in increment\n",
      "    raise MaxRetryError(_pool, url, error or ResponseError(cause))\n",
      "urllib3.exceptions.MaxRetryError: HTTPSConnectionPool(host='nominatim.openstreetmap.org', port=443): Max retries exceeded with url: /search?q=The+land+of+New+Jersey.+&format=json&limit=1 (Caused by ReadTimeoutError(\"HTTPSConnectionPool(host='nominatim.openstreetmap.org', port=443): Read timed out. (read timeout=1)\"))\n",
      "\n",
      "During handling of the above exception, another exception occurred:\n",
      "\n",
      "Traceback (most recent call last):\n",
      "  File \"/Users/salvatoremercuri/opt/anaconda3/envs/disaster-tweets/lib/python3.7/site-packages/geopy/adapters.py\", line 457, in _request\n",
      "    resp = self.session.get(url, timeout=timeout, headers=headers)\n",
      "  File \"/Users/salvatoremercuri/opt/anaconda3/envs/disaster-tweets/lib/python3.7/site-packages/requests/sessions.py\", line 600, in get\n",
      "    return self.request(\"GET\", url, **kwargs)\n",
      "  File \"/Users/salvatoremercuri/opt/anaconda3/envs/disaster-tweets/lib/python3.7/site-packages/requests/sessions.py\", line 587, in request\n",
      "    resp = self.send(prep, **send_kwargs)\n",
      "  File \"/Users/salvatoremercuri/opt/anaconda3/envs/disaster-tweets/lib/python3.7/site-packages/requests/sessions.py\", line 701, in send\n",
      "    r = adapter.send(request, **kwargs)\n",
      "  File \"/Users/salvatoremercuri/opt/anaconda3/envs/disaster-tweets/lib/python3.7/site-packages/requests/adapters.py\", line 565, in send\n",
      "    raise ConnectionError(e, request=request)\n",
      "requests.exceptions.ConnectionError: HTTPSConnectionPool(host='nominatim.openstreetmap.org', port=443): Max retries exceeded with url: /search?q=The+land+of+New+Jersey.+&format=json&limit=1 (Caused by ReadTimeoutError(\"HTTPSConnectionPool(host='nominatim.openstreetmap.org', port=443): Read timed out. (read timeout=1)\"))\n",
      "\n",
      "During handling of the above exception, another exception occurred:\n",
      "\n",
      "Traceback (most recent call last):\n",
      "  File \"/Users/salvatoremercuri/opt/anaconda3/envs/disaster-tweets/lib/python3.7/site-packages/geopy/extra/rate_limiter.py\", line 274, in __call__\n",
      "    res = self.func(*args, **kwargs)\n",
      "  File \"/Users/salvatoremercuri/opt/anaconda3/envs/disaster-tweets/lib/python3.7/site-packages/geopy/geocoders/nominatim.py\", line 297, in geocode\n",
      "    return self._call_geocoder(url, callback, timeout=timeout)\n",
      "  File \"/Users/salvatoremercuri/opt/anaconda3/envs/disaster-tweets/lib/python3.7/site-packages/geopy/geocoders/base.py\", line 368, in _call_geocoder\n",
      "    result = self.adapter.get_json(url, timeout=timeout, headers=req_headers)\n",
      "  File \"/Users/salvatoremercuri/opt/anaconda3/envs/disaster-tweets/lib/python3.7/site-packages/geopy/adapters.py\", line 447, in get_json\n",
      "    resp = self._request(url, timeout=timeout, headers=headers)\n",
      "  File \"/Users/salvatoremercuri/opt/anaconda3/envs/disaster-tweets/lib/python3.7/site-packages/geopy/adapters.py\", line 469, in _request\n",
      "    raise GeocoderUnavailable(message)\n",
      "geopy.exc.GeocoderUnavailable: HTTPSConnectionPool(host='nominatim.openstreetmap.org', port=443): Max retries exceeded with url: /search?q=The+land+of+New+Jersey.+&format=json&limit=1 (Caused by ReadTimeoutError(\"HTTPSConnectionPool(host='nominatim.openstreetmap.org', port=443): Read timed out. (read timeout=1)\"))\n",
      "RateLimiter caught an error, retrying (0/2 tries). Called with (*('y/e/l',), **{}).\n",
      "Traceback (most recent call last):\n",
      "  File \"/Users/salvatoremercuri/opt/anaconda3/envs/disaster-tweets/lib/python3.7/site-packages/urllib3/connectionpool.py\", line 449, in _make_request\n",
      "    six.raise_from(e, None)\n",
      "  File \"<string>\", line 3, in raise_from\n",
      "  File \"/Users/salvatoremercuri/opt/anaconda3/envs/disaster-tweets/lib/python3.7/site-packages/urllib3/connectionpool.py\", line 444, in _make_request\n",
      "    httplib_response = conn.getresponse()\n",
      "  File \"/Users/salvatoremercuri/opt/anaconda3/envs/disaster-tweets/lib/python3.7/http/client.py\", line 1321, in getresponse\n",
      "    response.begin()\n",
      "  File \"/Users/salvatoremercuri/opt/anaconda3/envs/disaster-tweets/lib/python3.7/http/client.py\", line 296, in begin\n",
      "    version, status, reason = self._read_status()\n",
      "  File \"/Users/salvatoremercuri/opt/anaconda3/envs/disaster-tweets/lib/python3.7/http/client.py\", line 257, in _read_status\n",
      "    line = str(self.fp.readline(_MAXLINE + 1), \"iso-8859-1\")\n",
      "  File \"/Users/salvatoremercuri/opt/anaconda3/envs/disaster-tweets/lib/python3.7/socket.py\", line 589, in readinto\n",
      "    return self._sock.recv_into(b)\n",
      "  File \"/Users/salvatoremercuri/opt/anaconda3/envs/disaster-tweets/lib/python3.7/ssl.py\", line 1052, in recv_into\n",
      "    return self.read(nbytes, buffer)\n",
      "  File \"/Users/salvatoremercuri/opt/anaconda3/envs/disaster-tweets/lib/python3.7/ssl.py\", line 911, in read\n",
      "    return self._sslobj.read(len, buffer)\n",
      "socket.timeout: The read operation timed out\n",
      "\n",
      "During handling of the above exception, another exception occurred:\n",
      "\n",
      "Traceback (most recent call last):\n",
      "  File \"/Users/salvatoremercuri/opt/anaconda3/envs/disaster-tweets/lib/python3.7/site-packages/urllib3/connectionpool.py\", line 710, in urlopen\n",
      "    chunked=chunked,\n",
      "  File \"/Users/salvatoremercuri/opt/anaconda3/envs/disaster-tweets/lib/python3.7/site-packages/urllib3/connectionpool.py\", line 451, in _make_request\n",
      "    self._raise_timeout(err=e, url=url, timeout_value=read_timeout)\n",
      "  File \"/Users/salvatoremercuri/opt/anaconda3/envs/disaster-tweets/lib/python3.7/site-packages/urllib3/connectionpool.py\", line 341, in _raise_timeout\n",
      "    self, url, \"Read timed out. (read timeout=%s)\" % timeout_value\n",
      "urllib3.exceptions.ReadTimeoutError: HTTPSConnectionPool(host='nominatim.openstreetmap.org', port=443): Read timed out. (read timeout=1)\n",
      "\n",
      "During handling of the above exception, another exception occurred:\n",
      "\n",
      "Traceback (most recent call last):\n",
      "  File \"/Users/salvatoremercuri/opt/anaconda3/envs/disaster-tweets/lib/python3.7/site-packages/requests/adapters.py\", line 499, in send\n",
      "    timeout=timeout,\n",
      "  File \"/Users/salvatoremercuri/opt/anaconda3/envs/disaster-tweets/lib/python3.7/site-packages/urllib3/connectionpool.py\", line 828, in urlopen\n",
      "    **response_kw\n",
      "  File \"/Users/salvatoremercuri/opt/anaconda3/envs/disaster-tweets/lib/python3.7/site-packages/urllib3/connectionpool.py\", line 828, in urlopen\n",
      "    **response_kw\n",
      "  File \"/Users/salvatoremercuri/opt/anaconda3/envs/disaster-tweets/lib/python3.7/site-packages/urllib3/connectionpool.py\", line 788, in urlopen\n",
      "    method, url, error=e, _pool=self, _stacktrace=sys.exc_info()[2]\n",
      "  File \"/Users/salvatoremercuri/opt/anaconda3/envs/disaster-tweets/lib/python3.7/site-packages/urllib3/util/retry.py\", line 592, in increment\n",
      "    raise MaxRetryError(_pool, url, error or ResponseError(cause))\n",
      "urllib3.exceptions.MaxRetryError: HTTPSConnectionPool(host='nominatim.openstreetmap.org', port=443): Max retries exceeded with url: /search?q=y%2Fe%2Fl&format=json&limit=1 (Caused by ReadTimeoutError(\"HTTPSConnectionPool(host='nominatim.openstreetmap.org', port=443): Read timed out. (read timeout=1)\"))\n",
      "\n",
      "During handling of the above exception, another exception occurred:\n",
      "\n",
      "Traceback (most recent call last):\n",
      "  File \"/Users/salvatoremercuri/opt/anaconda3/envs/disaster-tweets/lib/python3.7/site-packages/geopy/adapters.py\", line 457, in _request\n",
      "    resp = self.session.get(url, timeout=timeout, headers=headers)\n",
      "  File \"/Users/salvatoremercuri/opt/anaconda3/envs/disaster-tweets/lib/python3.7/site-packages/requests/sessions.py\", line 600, in get\n",
      "    return self.request(\"GET\", url, **kwargs)\n",
      "  File \"/Users/salvatoremercuri/opt/anaconda3/envs/disaster-tweets/lib/python3.7/site-packages/requests/sessions.py\", line 587, in request\n",
      "    resp = self.send(prep, **send_kwargs)\n",
      "  File \"/Users/salvatoremercuri/opt/anaconda3/envs/disaster-tweets/lib/python3.7/site-packages/requests/sessions.py\", line 701, in send\n",
      "    r = adapter.send(request, **kwargs)\n",
      "  File \"/Users/salvatoremercuri/opt/anaconda3/envs/disaster-tweets/lib/python3.7/site-packages/requests/adapters.py\", line 565, in send\n",
      "    raise ConnectionError(e, request=request)\n",
      "requests.exceptions.ConnectionError: HTTPSConnectionPool(host='nominatim.openstreetmap.org', port=443): Max retries exceeded with url: /search?q=y%2Fe%2Fl&format=json&limit=1 (Caused by ReadTimeoutError(\"HTTPSConnectionPool(host='nominatim.openstreetmap.org', port=443): Read timed out. (read timeout=1)\"))\n",
      "\n",
      "During handling of the above exception, another exception occurred:\n",
      "\n",
      "Traceback (most recent call last):\n",
      "  File \"/Users/salvatoremercuri/opt/anaconda3/envs/disaster-tweets/lib/python3.7/site-packages/geopy/extra/rate_limiter.py\", line 136, in _retries_gen\n",
      "    yield i  # Run the function.\n",
      "  File \"/Users/salvatoremercuri/opt/anaconda3/envs/disaster-tweets/lib/python3.7/site-packages/geopy/extra/rate_limiter.py\", line 274, in __call__\n",
      "    res = self.func(*args, **kwargs)\n",
      "  File \"/Users/salvatoremercuri/opt/anaconda3/envs/disaster-tweets/lib/python3.7/site-packages/geopy/geocoders/nominatim.py\", line 297, in geocode\n",
      "    return self._call_geocoder(url, callback, timeout=timeout)\n",
      "  File \"/Users/salvatoremercuri/opt/anaconda3/envs/disaster-tweets/lib/python3.7/site-packages/geopy/geocoders/base.py\", line 368, in _call_geocoder\n",
      "    result = self.adapter.get_json(url, timeout=timeout, headers=req_headers)\n",
      "  File \"/Users/salvatoremercuri/opt/anaconda3/envs/disaster-tweets/lib/python3.7/site-packages/geopy/adapters.py\", line 447, in get_json\n",
      "    resp = self._request(url, timeout=timeout, headers=headers)\n",
      "  File \"/Users/salvatoremercuri/opt/anaconda3/envs/disaster-tweets/lib/python3.7/site-packages/geopy/adapters.py\", line 469, in _request\n",
      "    raise GeocoderUnavailable(message)\n",
      "geopy.exc.GeocoderUnavailable: HTTPSConnectionPool(host='nominatim.openstreetmap.org', port=443): Max retries exceeded with url: /search?q=y%2Fe%2Fl&format=json&limit=1 (Caused by ReadTimeoutError(\"HTTPSConnectionPool(host='nominatim.openstreetmap.org', port=443): Read timed out. (read timeout=1)\"))\n"
     ]
    },
    {
     "name": "stderr",
     "output_type": "stream",
     "text": [
      "RateLimiter caught an error, retrying (1/2 tries). Called with (*('y/e/l',), **{}).\n",
      "Traceback (most recent call last):\n",
      "  File \"/Users/salvatoremercuri/opt/anaconda3/envs/disaster-tweets/lib/python3.7/site-packages/urllib3/connectionpool.py\", line 449, in _make_request\n",
      "    six.raise_from(e, None)\n",
      "  File \"<string>\", line 3, in raise_from\n",
      "  File \"/Users/salvatoremercuri/opt/anaconda3/envs/disaster-tweets/lib/python3.7/site-packages/urllib3/connectionpool.py\", line 444, in _make_request\n",
      "    httplib_response = conn.getresponse()\n",
      "  File \"/Users/salvatoremercuri/opt/anaconda3/envs/disaster-tweets/lib/python3.7/http/client.py\", line 1321, in getresponse\n",
      "    response.begin()\n",
      "  File \"/Users/salvatoremercuri/opt/anaconda3/envs/disaster-tweets/lib/python3.7/http/client.py\", line 296, in begin\n",
      "    version, status, reason = self._read_status()\n",
      "  File \"/Users/salvatoremercuri/opt/anaconda3/envs/disaster-tweets/lib/python3.7/http/client.py\", line 257, in _read_status\n",
      "    line = str(self.fp.readline(_MAXLINE + 1), \"iso-8859-1\")\n",
      "  File \"/Users/salvatoremercuri/opt/anaconda3/envs/disaster-tweets/lib/python3.7/socket.py\", line 589, in readinto\n",
      "    return self._sock.recv_into(b)\n",
      "  File \"/Users/salvatoremercuri/opt/anaconda3/envs/disaster-tweets/lib/python3.7/ssl.py\", line 1052, in recv_into\n",
      "    return self.read(nbytes, buffer)\n",
      "  File \"/Users/salvatoremercuri/opt/anaconda3/envs/disaster-tweets/lib/python3.7/ssl.py\", line 911, in read\n",
      "    return self._sslobj.read(len, buffer)\n",
      "socket.timeout: The read operation timed out\n",
      "\n",
      "During handling of the above exception, another exception occurred:\n",
      "\n",
      "Traceback (most recent call last):\n",
      "  File \"/Users/salvatoremercuri/opt/anaconda3/envs/disaster-tweets/lib/python3.7/site-packages/urllib3/connectionpool.py\", line 710, in urlopen\n",
      "    chunked=chunked,\n",
      "  File \"/Users/salvatoremercuri/opt/anaconda3/envs/disaster-tweets/lib/python3.7/site-packages/urllib3/connectionpool.py\", line 451, in _make_request\n",
      "    self._raise_timeout(err=e, url=url, timeout_value=read_timeout)\n",
      "  File \"/Users/salvatoremercuri/opt/anaconda3/envs/disaster-tweets/lib/python3.7/site-packages/urllib3/connectionpool.py\", line 341, in _raise_timeout\n",
      "    self, url, \"Read timed out. (read timeout=%s)\" % timeout_value\n",
      "urllib3.exceptions.ReadTimeoutError: HTTPSConnectionPool(host='nominatim.openstreetmap.org', port=443): Read timed out. (read timeout=1)\n",
      "\n",
      "During handling of the above exception, another exception occurred:\n",
      "\n",
      "Traceback (most recent call last):\n",
      "  File \"/Users/salvatoremercuri/opt/anaconda3/envs/disaster-tweets/lib/python3.7/site-packages/requests/adapters.py\", line 499, in send\n",
      "    timeout=timeout,\n",
      "  File \"/Users/salvatoremercuri/opt/anaconda3/envs/disaster-tweets/lib/python3.7/site-packages/urllib3/connectionpool.py\", line 828, in urlopen\n",
      "    **response_kw\n",
      "  File \"/Users/salvatoremercuri/opt/anaconda3/envs/disaster-tweets/lib/python3.7/site-packages/urllib3/connectionpool.py\", line 828, in urlopen\n",
      "    **response_kw\n",
      "  File \"/Users/salvatoremercuri/opt/anaconda3/envs/disaster-tweets/lib/python3.7/site-packages/urllib3/connectionpool.py\", line 788, in urlopen\n",
      "    method, url, error=e, _pool=self, _stacktrace=sys.exc_info()[2]\n",
      "  File \"/Users/salvatoremercuri/opt/anaconda3/envs/disaster-tweets/lib/python3.7/site-packages/urllib3/util/retry.py\", line 592, in increment\n",
      "    raise MaxRetryError(_pool, url, error or ResponseError(cause))\n",
      "urllib3.exceptions.MaxRetryError: HTTPSConnectionPool(host='nominatim.openstreetmap.org', port=443): Max retries exceeded with url: /search?q=y%2Fe%2Fl&format=json&limit=1 (Caused by ReadTimeoutError(\"HTTPSConnectionPool(host='nominatim.openstreetmap.org', port=443): Read timed out. (read timeout=1)\"))\n",
      "\n",
      "During handling of the above exception, another exception occurred:\n",
      "\n",
      "Traceback (most recent call last):\n",
      "  File \"/Users/salvatoremercuri/opt/anaconda3/envs/disaster-tweets/lib/python3.7/site-packages/geopy/adapters.py\", line 457, in _request\n",
      "    resp = self.session.get(url, timeout=timeout, headers=headers)\n",
      "  File \"/Users/salvatoremercuri/opt/anaconda3/envs/disaster-tweets/lib/python3.7/site-packages/requests/sessions.py\", line 600, in get\n",
      "    return self.request(\"GET\", url, **kwargs)\n",
      "  File \"/Users/salvatoremercuri/opt/anaconda3/envs/disaster-tweets/lib/python3.7/site-packages/requests/sessions.py\", line 587, in request\n",
      "    resp = self.send(prep, **send_kwargs)\n",
      "  File \"/Users/salvatoremercuri/opt/anaconda3/envs/disaster-tweets/lib/python3.7/site-packages/requests/sessions.py\", line 701, in send\n",
      "    r = adapter.send(request, **kwargs)\n",
      "  File \"/Users/salvatoremercuri/opt/anaconda3/envs/disaster-tweets/lib/python3.7/site-packages/requests/adapters.py\", line 565, in send\n",
      "    raise ConnectionError(e, request=request)\n",
      "requests.exceptions.ConnectionError: HTTPSConnectionPool(host='nominatim.openstreetmap.org', port=443): Max retries exceeded with url: /search?q=y%2Fe%2Fl&format=json&limit=1 (Caused by ReadTimeoutError(\"HTTPSConnectionPool(host='nominatim.openstreetmap.org', port=443): Read timed out. (read timeout=1)\"))\n",
      "\n",
      "During handling of the above exception, another exception occurred:\n",
      "\n",
      "Traceback (most recent call last):\n",
      "  File \"/Users/salvatoremercuri/opt/anaconda3/envs/disaster-tweets/lib/python3.7/site-packages/geopy/extra/rate_limiter.py\", line 136, in _retries_gen\n",
      "    yield i  # Run the function.\n",
      "  File \"/Users/salvatoremercuri/opt/anaconda3/envs/disaster-tweets/lib/python3.7/site-packages/geopy/extra/rate_limiter.py\", line 274, in __call__\n",
      "    res = self.func(*args, **kwargs)\n",
      "  File \"/Users/salvatoremercuri/opt/anaconda3/envs/disaster-tweets/lib/python3.7/site-packages/geopy/geocoders/nominatim.py\", line 297, in geocode\n",
      "    return self._call_geocoder(url, callback, timeout=timeout)\n",
      "  File \"/Users/salvatoremercuri/opt/anaconda3/envs/disaster-tweets/lib/python3.7/site-packages/geopy/geocoders/base.py\", line 368, in _call_geocoder\n",
      "    result = self.adapter.get_json(url, timeout=timeout, headers=req_headers)\n",
      "  File \"/Users/salvatoremercuri/opt/anaconda3/envs/disaster-tweets/lib/python3.7/site-packages/geopy/adapters.py\", line 447, in get_json\n",
      "    resp = self._request(url, timeout=timeout, headers=headers)\n",
      "  File \"/Users/salvatoremercuri/opt/anaconda3/envs/disaster-tweets/lib/python3.7/site-packages/geopy/adapters.py\", line 469, in _request\n",
      "    raise GeocoderUnavailable(message)\n",
      "geopy.exc.GeocoderUnavailable: HTTPSConnectionPool(host='nominatim.openstreetmap.org', port=443): Max retries exceeded with url: /search?q=y%2Fe%2Fl&format=json&limit=1 (Caused by ReadTimeoutError(\"HTTPSConnectionPool(host='nominatim.openstreetmap.org', port=443): Read timed out. (read timeout=1)\"))\n",
      "RateLimiter swallowed an error after 2 retries. Called with (*('y/e/l',), **{}).\n",
      "Traceback (most recent call last):\n",
      "  File \"/Users/salvatoremercuri/opt/anaconda3/envs/disaster-tweets/lib/python3.7/site-packages/urllib3/connectionpool.py\", line 449, in _make_request\n",
      "    six.raise_from(e, None)\n",
      "  File \"<string>\", line 3, in raise_from\n",
      "  File \"/Users/salvatoremercuri/opt/anaconda3/envs/disaster-tweets/lib/python3.7/site-packages/urllib3/connectionpool.py\", line 444, in _make_request\n",
      "    httplib_response = conn.getresponse()\n",
      "  File \"/Users/salvatoremercuri/opt/anaconda3/envs/disaster-tweets/lib/python3.7/http/client.py\", line 1321, in getresponse\n",
      "    response.begin()\n",
      "  File \"/Users/salvatoremercuri/opt/anaconda3/envs/disaster-tweets/lib/python3.7/http/client.py\", line 296, in begin\n",
      "    version, status, reason = self._read_status()\n",
      "  File \"/Users/salvatoremercuri/opt/anaconda3/envs/disaster-tweets/lib/python3.7/http/client.py\", line 257, in _read_status\n",
      "    line = str(self.fp.readline(_MAXLINE + 1), \"iso-8859-1\")\n",
      "  File \"/Users/salvatoremercuri/opt/anaconda3/envs/disaster-tweets/lib/python3.7/socket.py\", line 589, in readinto\n",
      "    return self._sock.recv_into(b)\n",
      "  File \"/Users/salvatoremercuri/opt/anaconda3/envs/disaster-tweets/lib/python3.7/ssl.py\", line 1052, in recv_into\n",
      "    return self.read(nbytes, buffer)\n",
      "  File \"/Users/salvatoremercuri/opt/anaconda3/envs/disaster-tweets/lib/python3.7/ssl.py\", line 911, in read\n",
      "    return self._sslobj.read(len, buffer)\n",
      "socket.timeout: The read operation timed out\n",
      "\n",
      "During handling of the above exception, another exception occurred:\n",
      "\n",
      "Traceback (most recent call last):\n",
      "  File \"/Users/salvatoremercuri/opt/anaconda3/envs/disaster-tweets/lib/python3.7/site-packages/urllib3/connectionpool.py\", line 710, in urlopen\n",
      "    chunked=chunked,\n",
      "  File \"/Users/salvatoremercuri/opt/anaconda3/envs/disaster-tweets/lib/python3.7/site-packages/urllib3/connectionpool.py\", line 451, in _make_request\n",
      "    self._raise_timeout(err=e, url=url, timeout_value=read_timeout)\n",
      "  File \"/Users/salvatoremercuri/opt/anaconda3/envs/disaster-tweets/lib/python3.7/site-packages/urllib3/connectionpool.py\", line 341, in _raise_timeout\n",
      "    self, url, \"Read timed out. (read timeout=%s)\" % timeout_value\n",
      "urllib3.exceptions.ReadTimeoutError: HTTPSConnectionPool(host='nominatim.openstreetmap.org', port=443): Read timed out. (read timeout=1)\n",
      "\n",
      "During handling of the above exception, another exception occurred:\n",
      "\n",
      "Traceback (most recent call last):\n",
      "  File \"/Users/salvatoremercuri/opt/anaconda3/envs/disaster-tweets/lib/python3.7/site-packages/requests/adapters.py\", line 499, in send\n",
      "    timeout=timeout,\n",
      "  File \"/Users/salvatoremercuri/opt/anaconda3/envs/disaster-tweets/lib/python3.7/site-packages/urllib3/connectionpool.py\", line 828, in urlopen\n",
      "    **response_kw\n",
      "  File \"/Users/salvatoremercuri/opt/anaconda3/envs/disaster-tweets/lib/python3.7/site-packages/urllib3/connectionpool.py\", line 828, in urlopen\n",
      "    **response_kw\n",
      "  File \"/Users/salvatoremercuri/opt/anaconda3/envs/disaster-tweets/lib/python3.7/site-packages/urllib3/connectionpool.py\", line 788, in urlopen\n",
      "    method, url, error=e, _pool=self, _stacktrace=sys.exc_info()[2]\n",
      "  File \"/Users/salvatoremercuri/opt/anaconda3/envs/disaster-tweets/lib/python3.7/site-packages/urllib3/util/retry.py\", line 592, in increment\n",
      "    raise MaxRetryError(_pool, url, error or ResponseError(cause))\n",
      "urllib3.exceptions.MaxRetryError: HTTPSConnectionPool(host='nominatim.openstreetmap.org', port=443): Max retries exceeded with url: /search?q=y%2Fe%2Fl&format=json&limit=1 (Caused by ReadTimeoutError(\"HTTPSConnectionPool(host='nominatim.openstreetmap.org', port=443): Read timed out. (read timeout=1)\"))\n",
      "\n",
      "During handling of the above exception, another exception occurred:\n",
      "\n",
      "Traceback (most recent call last):\n",
      "  File \"/Users/salvatoremercuri/opt/anaconda3/envs/disaster-tweets/lib/python3.7/site-packages/geopy/adapters.py\", line 457, in _request\n",
      "    resp = self.session.get(url, timeout=timeout, headers=headers)\n",
      "  File \"/Users/salvatoremercuri/opt/anaconda3/envs/disaster-tweets/lib/python3.7/site-packages/requests/sessions.py\", line 600, in get\n",
      "    return self.request(\"GET\", url, **kwargs)\n",
      "  File \"/Users/salvatoremercuri/opt/anaconda3/envs/disaster-tweets/lib/python3.7/site-packages/requests/sessions.py\", line 587, in request\n",
      "    resp = self.send(prep, **send_kwargs)\n",
      "  File \"/Users/salvatoremercuri/opt/anaconda3/envs/disaster-tweets/lib/python3.7/site-packages/requests/sessions.py\", line 701, in send\n",
      "    r = adapter.send(request, **kwargs)\n",
      "  File \"/Users/salvatoremercuri/opt/anaconda3/envs/disaster-tweets/lib/python3.7/site-packages/requests/adapters.py\", line 565, in send\n",
      "    raise ConnectionError(e, request=request)\n",
      "requests.exceptions.ConnectionError: HTTPSConnectionPool(host='nominatim.openstreetmap.org', port=443): Max retries exceeded with url: /search?q=y%2Fe%2Fl&format=json&limit=1 (Caused by ReadTimeoutError(\"HTTPSConnectionPool(host='nominatim.openstreetmap.org', port=443): Read timed out. (read timeout=1)\"))\n",
      "\n",
      "During handling of the above exception, another exception occurred:\n",
      "\n",
      "Traceback (most recent call last):\n",
      "  File \"/Users/salvatoremercuri/opt/anaconda3/envs/disaster-tweets/lib/python3.7/site-packages/geopy/extra/rate_limiter.py\", line 274, in __call__\n",
      "    res = self.func(*args, **kwargs)\n",
      "  File \"/Users/salvatoremercuri/opt/anaconda3/envs/disaster-tweets/lib/python3.7/site-packages/geopy/geocoders/nominatim.py\", line 297, in geocode\n",
      "    return self._call_geocoder(url, callback, timeout=timeout)\n",
      "  File \"/Users/salvatoremercuri/opt/anaconda3/envs/disaster-tweets/lib/python3.7/site-packages/geopy/geocoders/base.py\", line 368, in _call_geocoder\n",
      "    result = self.adapter.get_json(url, timeout=timeout, headers=req_headers)\n",
      "  File \"/Users/salvatoremercuri/opt/anaconda3/envs/disaster-tweets/lib/python3.7/site-packages/geopy/adapters.py\", line 447, in get_json\n",
      "    resp = self._request(url, timeout=timeout, headers=headers)\n",
      "  File \"/Users/salvatoremercuri/opt/anaconda3/envs/disaster-tweets/lib/python3.7/site-packages/geopy/adapters.py\", line 469, in _request\n",
      "    raise GeocoderUnavailable(message)\n",
      "geopy.exc.GeocoderUnavailable: HTTPSConnectionPool(host='nominatim.openstreetmap.org', port=443): Max retries exceeded with url: /search?q=y%2Fe%2Fl&format=json&limit=1 (Caused by ReadTimeoutError(\"HTTPSConnectionPool(host='nominatim.openstreetmap.org', port=443): Read timed out. (read timeout=1)\"))\n"
     ]
    },
    {
     "name": "stderr",
     "output_type": "stream",
     "text": [
      "RateLimiter caught an error, retrying (0/2 tries). Called with (*('I-75 in Florida',), **{}).\n",
      "Traceback (most recent call last):\n",
      "  File \"/Users/salvatoremercuri/opt/anaconda3/envs/disaster-tweets/lib/python3.7/site-packages/urllib3/connectionpool.py\", line 449, in _make_request\n",
      "    six.raise_from(e, None)\n",
      "  File \"<string>\", line 3, in raise_from\n",
      "  File \"/Users/salvatoremercuri/opt/anaconda3/envs/disaster-tweets/lib/python3.7/site-packages/urllib3/connectionpool.py\", line 444, in _make_request\n",
      "    httplib_response = conn.getresponse()\n",
      "  File \"/Users/salvatoremercuri/opt/anaconda3/envs/disaster-tweets/lib/python3.7/http/client.py\", line 1321, in getresponse\n",
      "    response.begin()\n",
      "  File \"/Users/salvatoremercuri/opt/anaconda3/envs/disaster-tweets/lib/python3.7/http/client.py\", line 296, in begin\n",
      "    version, status, reason = self._read_status()\n",
      "  File \"/Users/salvatoremercuri/opt/anaconda3/envs/disaster-tweets/lib/python3.7/http/client.py\", line 257, in _read_status\n",
      "    line = str(self.fp.readline(_MAXLINE + 1), \"iso-8859-1\")\n",
      "  File \"/Users/salvatoremercuri/opt/anaconda3/envs/disaster-tweets/lib/python3.7/socket.py\", line 589, in readinto\n",
      "    return self._sock.recv_into(b)\n",
      "  File \"/Users/salvatoremercuri/opt/anaconda3/envs/disaster-tweets/lib/python3.7/ssl.py\", line 1052, in recv_into\n",
      "    return self.read(nbytes, buffer)\n",
      "  File \"/Users/salvatoremercuri/opt/anaconda3/envs/disaster-tweets/lib/python3.7/ssl.py\", line 911, in read\n",
      "    return self._sslobj.read(len, buffer)\n",
      "socket.timeout: The read operation timed out\n",
      "\n",
      "During handling of the above exception, another exception occurred:\n",
      "\n",
      "Traceback (most recent call last):\n",
      "  File \"/Users/salvatoremercuri/opt/anaconda3/envs/disaster-tweets/lib/python3.7/site-packages/urllib3/connectionpool.py\", line 710, in urlopen\n",
      "    chunked=chunked,\n",
      "  File \"/Users/salvatoremercuri/opt/anaconda3/envs/disaster-tweets/lib/python3.7/site-packages/urllib3/connectionpool.py\", line 451, in _make_request\n",
      "    self._raise_timeout(err=e, url=url, timeout_value=read_timeout)\n",
      "  File \"/Users/salvatoremercuri/opt/anaconda3/envs/disaster-tweets/lib/python3.7/site-packages/urllib3/connectionpool.py\", line 341, in _raise_timeout\n",
      "    self, url, \"Read timed out. (read timeout=%s)\" % timeout_value\n",
      "urllib3.exceptions.ReadTimeoutError: HTTPSConnectionPool(host='nominatim.openstreetmap.org', port=443): Read timed out. (read timeout=1)\n",
      "\n",
      "During handling of the above exception, another exception occurred:\n",
      "\n",
      "Traceback (most recent call last):\n",
      "  File \"/Users/salvatoremercuri/opt/anaconda3/envs/disaster-tweets/lib/python3.7/site-packages/requests/adapters.py\", line 499, in send\n",
      "    timeout=timeout,\n",
      "  File \"/Users/salvatoremercuri/opt/anaconda3/envs/disaster-tweets/lib/python3.7/site-packages/urllib3/connectionpool.py\", line 828, in urlopen\n",
      "    **response_kw\n",
      "  File \"/Users/salvatoremercuri/opt/anaconda3/envs/disaster-tweets/lib/python3.7/site-packages/urllib3/connectionpool.py\", line 828, in urlopen\n",
      "    **response_kw\n",
      "  File \"/Users/salvatoremercuri/opt/anaconda3/envs/disaster-tweets/lib/python3.7/site-packages/urllib3/connectionpool.py\", line 788, in urlopen\n",
      "    method, url, error=e, _pool=self, _stacktrace=sys.exc_info()[2]\n",
      "  File \"/Users/salvatoremercuri/opt/anaconda3/envs/disaster-tweets/lib/python3.7/site-packages/urllib3/util/retry.py\", line 592, in increment\n",
      "    raise MaxRetryError(_pool, url, error or ResponseError(cause))\n",
      "urllib3.exceptions.MaxRetryError: HTTPSConnectionPool(host='nominatim.openstreetmap.org', port=443): Max retries exceeded with url: /search?q=I-75+in+Florida&format=json&limit=1 (Caused by ReadTimeoutError(\"HTTPSConnectionPool(host='nominatim.openstreetmap.org', port=443): Read timed out. (read timeout=1)\"))\n",
      "\n",
      "During handling of the above exception, another exception occurred:\n",
      "\n",
      "Traceback (most recent call last):\n",
      "  File \"/Users/salvatoremercuri/opt/anaconda3/envs/disaster-tweets/lib/python3.7/site-packages/geopy/adapters.py\", line 457, in _request\n",
      "    resp = self.session.get(url, timeout=timeout, headers=headers)\n",
      "  File \"/Users/salvatoremercuri/opt/anaconda3/envs/disaster-tweets/lib/python3.7/site-packages/requests/sessions.py\", line 600, in get\n",
      "    return self.request(\"GET\", url, **kwargs)\n",
      "  File \"/Users/salvatoremercuri/opt/anaconda3/envs/disaster-tweets/lib/python3.7/site-packages/requests/sessions.py\", line 587, in request\n",
      "    resp = self.send(prep, **send_kwargs)\n",
      "  File \"/Users/salvatoremercuri/opt/anaconda3/envs/disaster-tweets/lib/python3.7/site-packages/requests/sessions.py\", line 701, in send\n",
      "    r = adapter.send(request, **kwargs)\n",
      "  File \"/Users/salvatoremercuri/opt/anaconda3/envs/disaster-tweets/lib/python3.7/site-packages/requests/adapters.py\", line 565, in send\n",
      "    raise ConnectionError(e, request=request)\n",
      "requests.exceptions.ConnectionError: HTTPSConnectionPool(host='nominatim.openstreetmap.org', port=443): Max retries exceeded with url: /search?q=I-75+in+Florida&format=json&limit=1 (Caused by ReadTimeoutError(\"HTTPSConnectionPool(host='nominatim.openstreetmap.org', port=443): Read timed out. (read timeout=1)\"))\n",
      "\n",
      "During handling of the above exception, another exception occurred:\n",
      "\n",
      "Traceback (most recent call last):\n",
      "  File \"/Users/salvatoremercuri/opt/anaconda3/envs/disaster-tweets/lib/python3.7/site-packages/geopy/extra/rate_limiter.py\", line 136, in _retries_gen\n",
      "    yield i  # Run the function.\n",
      "  File \"/Users/salvatoremercuri/opt/anaconda3/envs/disaster-tweets/lib/python3.7/site-packages/geopy/extra/rate_limiter.py\", line 274, in __call__\n",
      "    res = self.func(*args, **kwargs)\n",
      "  File \"/Users/salvatoremercuri/opt/anaconda3/envs/disaster-tweets/lib/python3.7/site-packages/geopy/geocoders/nominatim.py\", line 297, in geocode\n",
      "    return self._call_geocoder(url, callback, timeout=timeout)\n",
      "  File \"/Users/salvatoremercuri/opt/anaconda3/envs/disaster-tweets/lib/python3.7/site-packages/geopy/geocoders/base.py\", line 368, in _call_geocoder\n",
      "    result = self.adapter.get_json(url, timeout=timeout, headers=req_headers)\n",
      "  File \"/Users/salvatoremercuri/opt/anaconda3/envs/disaster-tweets/lib/python3.7/site-packages/geopy/adapters.py\", line 447, in get_json\n",
      "    resp = self._request(url, timeout=timeout, headers=headers)\n",
      "  File \"/Users/salvatoremercuri/opt/anaconda3/envs/disaster-tweets/lib/python3.7/site-packages/geopy/adapters.py\", line 469, in _request\n",
      "    raise GeocoderUnavailable(message)\n",
      "geopy.exc.GeocoderUnavailable: HTTPSConnectionPool(host='nominatim.openstreetmap.org', port=443): Max retries exceeded with url: /search?q=I-75+in+Florida&format=json&limit=1 (Caused by ReadTimeoutError(\"HTTPSConnectionPool(host='nominatim.openstreetmap.org', port=443): Read timed out. (read timeout=1)\"))\n",
      "RateLimiter caught an error, retrying (1/2 tries). Called with (*('I-75 in Florida',), **{}).\n",
      "Traceback (most recent call last):\n",
      "  File \"/Users/salvatoremercuri/opt/anaconda3/envs/disaster-tweets/lib/python3.7/site-packages/urllib3/connectionpool.py\", line 449, in _make_request\n",
      "    six.raise_from(e, None)\n",
      "  File \"<string>\", line 3, in raise_from\n",
      "  File \"/Users/salvatoremercuri/opt/anaconda3/envs/disaster-tweets/lib/python3.7/site-packages/urllib3/connectionpool.py\", line 444, in _make_request\n",
      "    httplib_response = conn.getresponse()\n",
      "  File \"/Users/salvatoremercuri/opt/anaconda3/envs/disaster-tweets/lib/python3.7/http/client.py\", line 1321, in getresponse\n",
      "    response.begin()\n",
      "  File \"/Users/salvatoremercuri/opt/anaconda3/envs/disaster-tweets/lib/python3.7/http/client.py\", line 296, in begin\n",
      "    version, status, reason = self._read_status()\n",
      "  File \"/Users/salvatoremercuri/opt/anaconda3/envs/disaster-tweets/lib/python3.7/http/client.py\", line 257, in _read_status\n",
      "    line = str(self.fp.readline(_MAXLINE + 1), \"iso-8859-1\")\n",
      "  File \"/Users/salvatoremercuri/opt/anaconda3/envs/disaster-tweets/lib/python3.7/socket.py\", line 589, in readinto\n",
      "    return self._sock.recv_into(b)\n",
      "  File \"/Users/salvatoremercuri/opt/anaconda3/envs/disaster-tweets/lib/python3.7/ssl.py\", line 1052, in recv_into\n",
      "    return self.read(nbytes, buffer)\n",
      "  File \"/Users/salvatoremercuri/opt/anaconda3/envs/disaster-tweets/lib/python3.7/ssl.py\", line 911, in read\n",
      "    return self._sslobj.read(len, buffer)\n",
      "socket.timeout: The read operation timed out\n",
      "\n",
      "During handling of the above exception, another exception occurred:\n",
      "\n",
      "Traceback (most recent call last):\n",
      "  File \"/Users/salvatoremercuri/opt/anaconda3/envs/disaster-tweets/lib/python3.7/site-packages/urllib3/connectionpool.py\", line 710, in urlopen\n",
      "    chunked=chunked,\n",
      "  File \"/Users/salvatoremercuri/opt/anaconda3/envs/disaster-tweets/lib/python3.7/site-packages/urllib3/connectionpool.py\", line 451, in _make_request\n",
      "    self._raise_timeout(err=e, url=url, timeout_value=read_timeout)\n",
      "  File \"/Users/salvatoremercuri/opt/anaconda3/envs/disaster-tweets/lib/python3.7/site-packages/urllib3/connectionpool.py\", line 341, in _raise_timeout\n",
      "    self, url, \"Read timed out. (read timeout=%s)\" % timeout_value\n",
      "urllib3.exceptions.ReadTimeoutError: HTTPSConnectionPool(host='nominatim.openstreetmap.org', port=443): Read timed out. (read timeout=1)\n",
      "\n",
      "During handling of the above exception, another exception occurred:\n",
      "\n",
      "Traceback (most recent call last):\n",
      "  File \"/Users/salvatoremercuri/opt/anaconda3/envs/disaster-tweets/lib/python3.7/site-packages/requests/adapters.py\", line 499, in send\n",
      "    timeout=timeout,\n",
      "  File \"/Users/salvatoremercuri/opt/anaconda3/envs/disaster-tweets/lib/python3.7/site-packages/urllib3/connectionpool.py\", line 828, in urlopen\n",
      "    **response_kw\n",
      "  File \"/Users/salvatoremercuri/opt/anaconda3/envs/disaster-tweets/lib/python3.7/site-packages/urllib3/connectionpool.py\", line 828, in urlopen\n",
      "    **response_kw\n",
      "  File \"/Users/salvatoremercuri/opt/anaconda3/envs/disaster-tweets/lib/python3.7/site-packages/urllib3/connectionpool.py\", line 788, in urlopen\n",
      "    method, url, error=e, _pool=self, _stacktrace=sys.exc_info()[2]\n",
      "  File \"/Users/salvatoremercuri/opt/anaconda3/envs/disaster-tweets/lib/python3.7/site-packages/urllib3/util/retry.py\", line 592, in increment\n",
      "    raise MaxRetryError(_pool, url, error or ResponseError(cause))\n",
      "urllib3.exceptions.MaxRetryError: HTTPSConnectionPool(host='nominatim.openstreetmap.org', port=443): Max retries exceeded with url: /search?q=I-75+in+Florida&format=json&limit=1 (Caused by ReadTimeoutError(\"HTTPSConnectionPool(host='nominatim.openstreetmap.org', port=443): Read timed out. (read timeout=1)\"))\n",
      "\n",
      "During handling of the above exception, another exception occurred:\n",
      "\n",
      "Traceback (most recent call last):\n",
      "  File \"/Users/salvatoremercuri/opt/anaconda3/envs/disaster-tweets/lib/python3.7/site-packages/geopy/adapters.py\", line 457, in _request\n",
      "    resp = self.session.get(url, timeout=timeout, headers=headers)\n",
      "  File \"/Users/salvatoremercuri/opt/anaconda3/envs/disaster-tweets/lib/python3.7/site-packages/requests/sessions.py\", line 600, in get\n",
      "    return self.request(\"GET\", url, **kwargs)\n",
      "  File \"/Users/salvatoremercuri/opt/anaconda3/envs/disaster-tweets/lib/python3.7/site-packages/requests/sessions.py\", line 587, in request\n",
      "    resp = self.send(prep, **send_kwargs)\n",
      "  File \"/Users/salvatoremercuri/opt/anaconda3/envs/disaster-tweets/lib/python3.7/site-packages/requests/sessions.py\", line 701, in send\n",
      "    r = adapter.send(request, **kwargs)\n",
      "  File \"/Users/salvatoremercuri/opt/anaconda3/envs/disaster-tweets/lib/python3.7/site-packages/requests/adapters.py\", line 565, in send\n",
      "    raise ConnectionError(e, request=request)\n",
      "requests.exceptions.ConnectionError: HTTPSConnectionPool(host='nominatim.openstreetmap.org', port=443): Max retries exceeded with url: /search?q=I-75+in+Florida&format=json&limit=1 (Caused by ReadTimeoutError(\"HTTPSConnectionPool(host='nominatim.openstreetmap.org', port=443): Read timed out. (read timeout=1)\"))\n",
      "\n",
      "During handling of the above exception, another exception occurred:\n",
      "\n",
      "Traceback (most recent call last):\n",
      "  File \"/Users/salvatoremercuri/opt/anaconda3/envs/disaster-tweets/lib/python3.7/site-packages/geopy/extra/rate_limiter.py\", line 136, in _retries_gen\n",
      "    yield i  # Run the function.\n",
      "  File \"/Users/salvatoremercuri/opt/anaconda3/envs/disaster-tweets/lib/python3.7/site-packages/geopy/extra/rate_limiter.py\", line 274, in __call__\n",
      "    res = self.func(*args, **kwargs)\n",
      "  File \"/Users/salvatoremercuri/opt/anaconda3/envs/disaster-tweets/lib/python3.7/site-packages/geopy/geocoders/nominatim.py\", line 297, in geocode\n",
      "    return self._call_geocoder(url, callback, timeout=timeout)\n",
      "  File \"/Users/salvatoremercuri/opt/anaconda3/envs/disaster-tweets/lib/python3.7/site-packages/geopy/geocoders/base.py\", line 368, in _call_geocoder\n",
      "    result = self.adapter.get_json(url, timeout=timeout, headers=req_headers)\n",
      "  File \"/Users/salvatoremercuri/opt/anaconda3/envs/disaster-tweets/lib/python3.7/site-packages/geopy/adapters.py\", line 447, in get_json\n",
      "    resp = self._request(url, timeout=timeout, headers=headers)\n",
      "  File \"/Users/salvatoremercuri/opt/anaconda3/envs/disaster-tweets/lib/python3.7/site-packages/geopy/adapters.py\", line 469, in _request\n",
      "    raise GeocoderUnavailable(message)\n",
      "geopy.exc.GeocoderUnavailable: HTTPSConnectionPool(host='nominatim.openstreetmap.org', port=443): Max retries exceeded with url: /search?q=I-75+in+Florida&format=json&limit=1 (Caused by ReadTimeoutError(\"HTTPSConnectionPool(host='nominatim.openstreetmap.org', port=443): Read timed out. (read timeout=1)\"))\n"
     ]
    },
    {
     "name": "stderr",
     "output_type": "stream",
     "text": [
      "RateLimiter swallowed an error after 2 retries. Called with (*('I-75 in Florida',), **{}).\n",
      "Traceback (most recent call last):\n",
      "  File \"/Users/salvatoremercuri/opt/anaconda3/envs/disaster-tweets/lib/python3.7/site-packages/urllib3/connectionpool.py\", line 449, in _make_request\n",
      "    six.raise_from(e, None)\n",
      "  File \"<string>\", line 3, in raise_from\n",
      "  File \"/Users/salvatoremercuri/opt/anaconda3/envs/disaster-tweets/lib/python3.7/site-packages/urllib3/connectionpool.py\", line 444, in _make_request\n",
      "    httplib_response = conn.getresponse()\n",
      "  File \"/Users/salvatoremercuri/opt/anaconda3/envs/disaster-tweets/lib/python3.7/http/client.py\", line 1321, in getresponse\n",
      "    response.begin()\n",
      "  File \"/Users/salvatoremercuri/opt/anaconda3/envs/disaster-tweets/lib/python3.7/http/client.py\", line 296, in begin\n",
      "    version, status, reason = self._read_status()\n",
      "  File \"/Users/salvatoremercuri/opt/anaconda3/envs/disaster-tweets/lib/python3.7/http/client.py\", line 257, in _read_status\n",
      "    line = str(self.fp.readline(_MAXLINE + 1), \"iso-8859-1\")\n",
      "  File \"/Users/salvatoremercuri/opt/anaconda3/envs/disaster-tweets/lib/python3.7/socket.py\", line 589, in readinto\n",
      "    return self._sock.recv_into(b)\n",
      "  File \"/Users/salvatoremercuri/opt/anaconda3/envs/disaster-tweets/lib/python3.7/ssl.py\", line 1052, in recv_into\n",
      "    return self.read(nbytes, buffer)\n",
      "  File \"/Users/salvatoremercuri/opt/anaconda3/envs/disaster-tweets/lib/python3.7/ssl.py\", line 911, in read\n",
      "    return self._sslobj.read(len, buffer)\n",
      "socket.timeout: The read operation timed out\n",
      "\n",
      "During handling of the above exception, another exception occurred:\n",
      "\n",
      "Traceback (most recent call last):\n",
      "  File \"/Users/salvatoremercuri/opt/anaconda3/envs/disaster-tweets/lib/python3.7/site-packages/urllib3/connectionpool.py\", line 710, in urlopen\n",
      "    chunked=chunked,\n",
      "  File \"/Users/salvatoremercuri/opt/anaconda3/envs/disaster-tweets/lib/python3.7/site-packages/urllib3/connectionpool.py\", line 451, in _make_request\n",
      "    self._raise_timeout(err=e, url=url, timeout_value=read_timeout)\n",
      "  File \"/Users/salvatoremercuri/opt/anaconda3/envs/disaster-tweets/lib/python3.7/site-packages/urllib3/connectionpool.py\", line 341, in _raise_timeout\n",
      "    self, url, \"Read timed out. (read timeout=%s)\" % timeout_value\n",
      "urllib3.exceptions.ReadTimeoutError: HTTPSConnectionPool(host='nominatim.openstreetmap.org', port=443): Read timed out. (read timeout=1)\n",
      "\n",
      "During handling of the above exception, another exception occurred:\n",
      "\n",
      "Traceback (most recent call last):\n",
      "  File \"/Users/salvatoremercuri/opt/anaconda3/envs/disaster-tweets/lib/python3.7/site-packages/requests/adapters.py\", line 499, in send\n",
      "    timeout=timeout,\n",
      "  File \"/Users/salvatoremercuri/opt/anaconda3/envs/disaster-tweets/lib/python3.7/site-packages/urllib3/connectionpool.py\", line 828, in urlopen\n",
      "    **response_kw\n",
      "  File \"/Users/salvatoremercuri/opt/anaconda3/envs/disaster-tweets/lib/python3.7/site-packages/urllib3/connectionpool.py\", line 828, in urlopen\n",
      "    **response_kw\n",
      "  File \"/Users/salvatoremercuri/opt/anaconda3/envs/disaster-tweets/lib/python3.7/site-packages/urllib3/connectionpool.py\", line 788, in urlopen\n",
      "    method, url, error=e, _pool=self, _stacktrace=sys.exc_info()[2]\n",
      "  File \"/Users/salvatoremercuri/opt/anaconda3/envs/disaster-tweets/lib/python3.7/site-packages/urllib3/util/retry.py\", line 592, in increment\n",
      "    raise MaxRetryError(_pool, url, error or ResponseError(cause))\n",
      "urllib3.exceptions.MaxRetryError: HTTPSConnectionPool(host='nominatim.openstreetmap.org', port=443): Max retries exceeded with url: /search?q=I-75+in+Florida&format=json&limit=1 (Caused by ReadTimeoutError(\"HTTPSConnectionPool(host='nominatim.openstreetmap.org', port=443): Read timed out. (read timeout=1)\"))\n",
      "\n",
      "During handling of the above exception, another exception occurred:\n",
      "\n",
      "Traceback (most recent call last):\n",
      "  File \"/Users/salvatoremercuri/opt/anaconda3/envs/disaster-tweets/lib/python3.7/site-packages/geopy/adapters.py\", line 457, in _request\n",
      "    resp = self.session.get(url, timeout=timeout, headers=headers)\n",
      "  File \"/Users/salvatoremercuri/opt/anaconda3/envs/disaster-tweets/lib/python3.7/site-packages/requests/sessions.py\", line 600, in get\n",
      "    return self.request(\"GET\", url, **kwargs)\n",
      "  File \"/Users/salvatoremercuri/opt/anaconda3/envs/disaster-tweets/lib/python3.7/site-packages/requests/sessions.py\", line 587, in request\n",
      "    resp = self.send(prep, **send_kwargs)\n",
      "  File \"/Users/salvatoremercuri/opt/anaconda3/envs/disaster-tweets/lib/python3.7/site-packages/requests/sessions.py\", line 701, in send\n",
      "    r = adapter.send(request, **kwargs)\n",
      "  File \"/Users/salvatoremercuri/opt/anaconda3/envs/disaster-tweets/lib/python3.7/site-packages/requests/adapters.py\", line 565, in send\n",
      "    raise ConnectionError(e, request=request)\n",
      "requests.exceptions.ConnectionError: HTTPSConnectionPool(host='nominatim.openstreetmap.org', port=443): Max retries exceeded with url: /search?q=I-75+in+Florida&format=json&limit=1 (Caused by ReadTimeoutError(\"HTTPSConnectionPool(host='nominatim.openstreetmap.org', port=443): Read timed out. (read timeout=1)\"))\n",
      "\n",
      "During handling of the above exception, another exception occurred:\n",
      "\n",
      "Traceback (most recent call last):\n",
      "  File \"/Users/salvatoremercuri/opt/anaconda3/envs/disaster-tweets/lib/python3.7/site-packages/geopy/extra/rate_limiter.py\", line 274, in __call__\n",
      "    res = self.func(*args, **kwargs)\n",
      "  File \"/Users/salvatoremercuri/opt/anaconda3/envs/disaster-tweets/lib/python3.7/site-packages/geopy/geocoders/nominatim.py\", line 297, in geocode\n",
      "    return self._call_geocoder(url, callback, timeout=timeout)\n",
      "  File \"/Users/salvatoremercuri/opt/anaconda3/envs/disaster-tweets/lib/python3.7/site-packages/geopy/geocoders/base.py\", line 368, in _call_geocoder\n",
      "    result = self.adapter.get_json(url, timeout=timeout, headers=req_headers)\n",
      "  File \"/Users/salvatoremercuri/opt/anaconda3/envs/disaster-tweets/lib/python3.7/site-packages/geopy/adapters.py\", line 447, in get_json\n",
      "    resp = self._request(url, timeout=timeout, headers=headers)\n",
      "  File \"/Users/salvatoremercuri/opt/anaconda3/envs/disaster-tweets/lib/python3.7/site-packages/geopy/adapters.py\", line 469, in _request\n",
      "    raise GeocoderUnavailable(message)\n",
      "geopy.exc.GeocoderUnavailable: HTTPSConnectionPool(host='nominatim.openstreetmap.org', port=443): Max retries exceeded with url: /search?q=I-75+in+Florida&format=json&limit=1 (Caused by ReadTimeoutError(\"HTTPSConnectionPool(host='nominatim.openstreetmap.org', port=443): Read timed out. (read timeout=1)\"))\n",
      "RateLimiter caught an error, retrying (0/2 tries). Called with (*('11/4/14',), **{}).\n",
      "Traceback (most recent call last):\n",
      "  File \"/Users/salvatoremercuri/opt/anaconda3/envs/disaster-tweets/lib/python3.7/site-packages/urllib3/connectionpool.py\", line 449, in _make_request\n",
      "    six.raise_from(e, None)\n",
      "  File \"<string>\", line 3, in raise_from\n",
      "  File \"/Users/salvatoremercuri/opt/anaconda3/envs/disaster-tweets/lib/python3.7/site-packages/urllib3/connectionpool.py\", line 444, in _make_request\n",
      "    httplib_response = conn.getresponse()\n",
      "  File \"/Users/salvatoremercuri/opt/anaconda3/envs/disaster-tweets/lib/python3.7/http/client.py\", line 1321, in getresponse\n",
      "    response.begin()\n",
      "  File \"/Users/salvatoremercuri/opt/anaconda3/envs/disaster-tweets/lib/python3.7/http/client.py\", line 296, in begin\n",
      "    version, status, reason = self._read_status()\n",
      "  File \"/Users/salvatoremercuri/opt/anaconda3/envs/disaster-tweets/lib/python3.7/http/client.py\", line 257, in _read_status\n",
      "    line = str(self.fp.readline(_MAXLINE + 1), \"iso-8859-1\")\n",
      "  File \"/Users/salvatoremercuri/opt/anaconda3/envs/disaster-tweets/lib/python3.7/socket.py\", line 589, in readinto\n",
      "    return self._sock.recv_into(b)\n",
      "  File \"/Users/salvatoremercuri/opt/anaconda3/envs/disaster-tweets/lib/python3.7/ssl.py\", line 1052, in recv_into\n",
      "    return self.read(nbytes, buffer)\n",
      "  File \"/Users/salvatoremercuri/opt/anaconda3/envs/disaster-tweets/lib/python3.7/ssl.py\", line 911, in read\n",
      "    return self._sslobj.read(len, buffer)\n",
      "socket.timeout: The read operation timed out\n",
      "\n",
      "During handling of the above exception, another exception occurred:\n",
      "\n",
      "Traceback (most recent call last):\n",
      "  File \"/Users/salvatoremercuri/opt/anaconda3/envs/disaster-tweets/lib/python3.7/site-packages/urllib3/connectionpool.py\", line 710, in urlopen\n",
      "    chunked=chunked,\n",
      "  File \"/Users/salvatoremercuri/opt/anaconda3/envs/disaster-tweets/lib/python3.7/site-packages/urllib3/connectionpool.py\", line 451, in _make_request\n",
      "    self._raise_timeout(err=e, url=url, timeout_value=read_timeout)\n",
      "  File \"/Users/salvatoremercuri/opt/anaconda3/envs/disaster-tweets/lib/python3.7/site-packages/urllib3/connectionpool.py\", line 341, in _raise_timeout\n",
      "    self, url, \"Read timed out. (read timeout=%s)\" % timeout_value\n",
      "urllib3.exceptions.ReadTimeoutError: HTTPSConnectionPool(host='nominatim.openstreetmap.org', port=443): Read timed out. (read timeout=1)\n",
      "\n",
      "During handling of the above exception, another exception occurred:\n",
      "\n",
      "Traceback (most recent call last):\n",
      "  File \"/Users/salvatoremercuri/opt/anaconda3/envs/disaster-tweets/lib/python3.7/site-packages/requests/adapters.py\", line 499, in send\n",
      "    timeout=timeout,\n",
      "  File \"/Users/salvatoremercuri/opt/anaconda3/envs/disaster-tweets/lib/python3.7/site-packages/urllib3/connectionpool.py\", line 828, in urlopen\n",
      "    **response_kw\n",
      "  File \"/Users/salvatoremercuri/opt/anaconda3/envs/disaster-tweets/lib/python3.7/site-packages/urllib3/connectionpool.py\", line 828, in urlopen\n",
      "    **response_kw\n",
      "  File \"/Users/salvatoremercuri/opt/anaconda3/envs/disaster-tweets/lib/python3.7/site-packages/urllib3/connectionpool.py\", line 788, in urlopen\n",
      "    method, url, error=e, _pool=self, _stacktrace=sys.exc_info()[2]\n",
      "  File \"/Users/salvatoremercuri/opt/anaconda3/envs/disaster-tweets/lib/python3.7/site-packages/urllib3/util/retry.py\", line 592, in increment\n",
      "    raise MaxRetryError(_pool, url, error or ResponseError(cause))\n",
      "urllib3.exceptions.MaxRetryError: HTTPSConnectionPool(host='nominatim.openstreetmap.org', port=443): Max retries exceeded with url: /search?q=11%2F4%2F14&format=json&limit=1 (Caused by ReadTimeoutError(\"HTTPSConnectionPool(host='nominatim.openstreetmap.org', port=443): Read timed out. (read timeout=1)\"))\n",
      "\n",
      "During handling of the above exception, another exception occurred:\n",
      "\n",
      "Traceback (most recent call last):\n",
      "  File \"/Users/salvatoremercuri/opt/anaconda3/envs/disaster-tweets/lib/python3.7/site-packages/geopy/adapters.py\", line 457, in _request\n",
      "    resp = self.session.get(url, timeout=timeout, headers=headers)\n",
      "  File \"/Users/salvatoremercuri/opt/anaconda3/envs/disaster-tweets/lib/python3.7/site-packages/requests/sessions.py\", line 600, in get\n",
      "    return self.request(\"GET\", url, **kwargs)\n",
      "  File \"/Users/salvatoremercuri/opt/anaconda3/envs/disaster-tweets/lib/python3.7/site-packages/requests/sessions.py\", line 587, in request\n",
      "    resp = self.send(prep, **send_kwargs)\n",
      "  File \"/Users/salvatoremercuri/opt/anaconda3/envs/disaster-tweets/lib/python3.7/site-packages/requests/sessions.py\", line 701, in send\n",
      "    r = adapter.send(request, **kwargs)\n",
      "  File \"/Users/salvatoremercuri/opt/anaconda3/envs/disaster-tweets/lib/python3.7/site-packages/requests/adapters.py\", line 565, in send\n",
      "    raise ConnectionError(e, request=request)\n",
      "requests.exceptions.ConnectionError: HTTPSConnectionPool(host='nominatim.openstreetmap.org', port=443): Max retries exceeded with url: /search?q=11%2F4%2F14&format=json&limit=1 (Caused by ReadTimeoutError(\"HTTPSConnectionPool(host='nominatim.openstreetmap.org', port=443): Read timed out. (read timeout=1)\"))\n",
      "\n",
      "During handling of the above exception, another exception occurred:\n",
      "\n",
      "Traceback (most recent call last):\n",
      "  File \"/Users/salvatoremercuri/opt/anaconda3/envs/disaster-tweets/lib/python3.7/site-packages/geopy/extra/rate_limiter.py\", line 136, in _retries_gen\n",
      "    yield i  # Run the function.\n",
      "  File \"/Users/salvatoremercuri/opt/anaconda3/envs/disaster-tweets/lib/python3.7/site-packages/geopy/extra/rate_limiter.py\", line 274, in __call__\n",
      "    res = self.func(*args, **kwargs)\n",
      "  File \"/Users/salvatoremercuri/opt/anaconda3/envs/disaster-tweets/lib/python3.7/site-packages/geopy/geocoders/nominatim.py\", line 297, in geocode\n",
      "    return self._call_geocoder(url, callback, timeout=timeout)\n",
      "  File \"/Users/salvatoremercuri/opt/anaconda3/envs/disaster-tweets/lib/python3.7/site-packages/geopy/geocoders/base.py\", line 368, in _call_geocoder\n",
      "    result = self.adapter.get_json(url, timeout=timeout, headers=req_headers)\n",
      "  File \"/Users/salvatoremercuri/opt/anaconda3/envs/disaster-tweets/lib/python3.7/site-packages/geopy/adapters.py\", line 447, in get_json\n",
      "    resp = self._request(url, timeout=timeout, headers=headers)\n",
      "  File \"/Users/salvatoremercuri/opt/anaconda3/envs/disaster-tweets/lib/python3.7/site-packages/geopy/adapters.py\", line 469, in _request\n",
      "    raise GeocoderUnavailable(message)\n",
      "geopy.exc.GeocoderUnavailable: HTTPSConnectionPool(host='nominatim.openstreetmap.org', port=443): Max retries exceeded with url: /search?q=11%2F4%2F14&format=json&limit=1 (Caused by ReadTimeoutError(\"HTTPSConnectionPool(host='nominatim.openstreetmap.org', port=443): Read timed out. (read timeout=1)\"))\n"
     ]
    },
    {
     "name": "stderr",
     "output_type": "stream",
     "text": [
      "RateLimiter caught an error, retrying (1/2 tries). Called with (*('11/4/14',), **{}).\n",
      "Traceback (most recent call last):\n",
      "  File \"/Users/salvatoremercuri/opt/anaconda3/envs/disaster-tweets/lib/python3.7/site-packages/urllib3/connectionpool.py\", line 449, in _make_request\n",
      "    six.raise_from(e, None)\n",
      "  File \"<string>\", line 3, in raise_from\n",
      "  File \"/Users/salvatoremercuri/opt/anaconda3/envs/disaster-tweets/lib/python3.7/site-packages/urllib3/connectionpool.py\", line 444, in _make_request\n",
      "    httplib_response = conn.getresponse()\n",
      "  File \"/Users/salvatoremercuri/opt/anaconda3/envs/disaster-tweets/lib/python3.7/http/client.py\", line 1321, in getresponse\n",
      "    response.begin()\n",
      "  File \"/Users/salvatoremercuri/opt/anaconda3/envs/disaster-tweets/lib/python3.7/http/client.py\", line 296, in begin\n",
      "    version, status, reason = self._read_status()\n",
      "  File \"/Users/salvatoremercuri/opt/anaconda3/envs/disaster-tweets/lib/python3.7/http/client.py\", line 257, in _read_status\n",
      "    line = str(self.fp.readline(_MAXLINE + 1), \"iso-8859-1\")\n",
      "  File \"/Users/salvatoremercuri/opt/anaconda3/envs/disaster-tweets/lib/python3.7/socket.py\", line 589, in readinto\n",
      "    return self._sock.recv_into(b)\n",
      "  File \"/Users/salvatoremercuri/opt/anaconda3/envs/disaster-tweets/lib/python3.7/ssl.py\", line 1052, in recv_into\n",
      "    return self.read(nbytes, buffer)\n",
      "  File \"/Users/salvatoremercuri/opt/anaconda3/envs/disaster-tweets/lib/python3.7/ssl.py\", line 911, in read\n",
      "    return self._sslobj.read(len, buffer)\n",
      "socket.timeout: The read operation timed out\n",
      "\n",
      "During handling of the above exception, another exception occurred:\n",
      "\n",
      "Traceback (most recent call last):\n",
      "  File \"/Users/salvatoremercuri/opt/anaconda3/envs/disaster-tweets/lib/python3.7/site-packages/urllib3/connectionpool.py\", line 710, in urlopen\n",
      "    chunked=chunked,\n",
      "  File \"/Users/salvatoremercuri/opt/anaconda3/envs/disaster-tweets/lib/python3.7/site-packages/urllib3/connectionpool.py\", line 451, in _make_request\n",
      "    self._raise_timeout(err=e, url=url, timeout_value=read_timeout)\n",
      "  File \"/Users/salvatoremercuri/opt/anaconda3/envs/disaster-tweets/lib/python3.7/site-packages/urllib3/connectionpool.py\", line 341, in _raise_timeout\n",
      "    self, url, \"Read timed out. (read timeout=%s)\" % timeout_value\n",
      "urllib3.exceptions.ReadTimeoutError: HTTPSConnectionPool(host='nominatim.openstreetmap.org', port=443): Read timed out. (read timeout=1)\n",
      "\n",
      "During handling of the above exception, another exception occurred:\n",
      "\n",
      "Traceback (most recent call last):\n",
      "  File \"/Users/salvatoremercuri/opt/anaconda3/envs/disaster-tweets/lib/python3.7/site-packages/requests/adapters.py\", line 499, in send\n",
      "    timeout=timeout,\n",
      "  File \"/Users/salvatoremercuri/opt/anaconda3/envs/disaster-tweets/lib/python3.7/site-packages/urllib3/connectionpool.py\", line 828, in urlopen\n",
      "    **response_kw\n",
      "  File \"/Users/salvatoremercuri/opt/anaconda3/envs/disaster-tweets/lib/python3.7/site-packages/urllib3/connectionpool.py\", line 828, in urlopen\n",
      "    **response_kw\n",
      "  File \"/Users/salvatoremercuri/opt/anaconda3/envs/disaster-tweets/lib/python3.7/site-packages/urllib3/connectionpool.py\", line 788, in urlopen\n",
      "    method, url, error=e, _pool=self, _stacktrace=sys.exc_info()[2]\n",
      "  File \"/Users/salvatoremercuri/opt/anaconda3/envs/disaster-tweets/lib/python3.7/site-packages/urllib3/util/retry.py\", line 592, in increment\n",
      "    raise MaxRetryError(_pool, url, error or ResponseError(cause))\n",
      "urllib3.exceptions.MaxRetryError: HTTPSConnectionPool(host='nominatim.openstreetmap.org', port=443): Max retries exceeded with url: /search?q=11%2F4%2F14&format=json&limit=1 (Caused by ReadTimeoutError(\"HTTPSConnectionPool(host='nominatim.openstreetmap.org', port=443): Read timed out. (read timeout=1)\"))\n",
      "\n",
      "During handling of the above exception, another exception occurred:\n",
      "\n",
      "Traceback (most recent call last):\n",
      "  File \"/Users/salvatoremercuri/opt/anaconda3/envs/disaster-tweets/lib/python3.7/site-packages/geopy/adapters.py\", line 457, in _request\n",
      "    resp = self.session.get(url, timeout=timeout, headers=headers)\n",
      "  File \"/Users/salvatoremercuri/opt/anaconda3/envs/disaster-tweets/lib/python3.7/site-packages/requests/sessions.py\", line 600, in get\n",
      "    return self.request(\"GET\", url, **kwargs)\n",
      "  File \"/Users/salvatoremercuri/opt/anaconda3/envs/disaster-tweets/lib/python3.7/site-packages/requests/sessions.py\", line 587, in request\n",
      "    resp = self.send(prep, **send_kwargs)\n",
      "  File \"/Users/salvatoremercuri/opt/anaconda3/envs/disaster-tweets/lib/python3.7/site-packages/requests/sessions.py\", line 701, in send\n",
      "    r = adapter.send(request, **kwargs)\n",
      "  File \"/Users/salvatoremercuri/opt/anaconda3/envs/disaster-tweets/lib/python3.7/site-packages/requests/adapters.py\", line 565, in send\n",
      "    raise ConnectionError(e, request=request)\n",
      "requests.exceptions.ConnectionError: HTTPSConnectionPool(host='nominatim.openstreetmap.org', port=443): Max retries exceeded with url: /search?q=11%2F4%2F14&format=json&limit=1 (Caused by ReadTimeoutError(\"HTTPSConnectionPool(host='nominatim.openstreetmap.org', port=443): Read timed out. (read timeout=1)\"))\n",
      "\n",
      "During handling of the above exception, another exception occurred:\n",
      "\n",
      "Traceback (most recent call last):\n",
      "  File \"/Users/salvatoremercuri/opt/anaconda3/envs/disaster-tweets/lib/python3.7/site-packages/geopy/extra/rate_limiter.py\", line 136, in _retries_gen\n",
      "    yield i  # Run the function.\n",
      "  File \"/Users/salvatoremercuri/opt/anaconda3/envs/disaster-tweets/lib/python3.7/site-packages/geopy/extra/rate_limiter.py\", line 274, in __call__\n",
      "    res = self.func(*args, **kwargs)\n",
      "  File \"/Users/salvatoremercuri/opt/anaconda3/envs/disaster-tweets/lib/python3.7/site-packages/geopy/geocoders/nominatim.py\", line 297, in geocode\n",
      "    return self._call_geocoder(url, callback, timeout=timeout)\n",
      "  File \"/Users/salvatoremercuri/opt/anaconda3/envs/disaster-tweets/lib/python3.7/site-packages/geopy/geocoders/base.py\", line 368, in _call_geocoder\n",
      "    result = self.adapter.get_json(url, timeout=timeout, headers=req_headers)\n",
      "  File \"/Users/salvatoremercuri/opt/anaconda3/envs/disaster-tweets/lib/python3.7/site-packages/geopy/adapters.py\", line 447, in get_json\n",
      "    resp = self._request(url, timeout=timeout, headers=headers)\n",
      "  File \"/Users/salvatoremercuri/opt/anaconda3/envs/disaster-tweets/lib/python3.7/site-packages/geopy/adapters.py\", line 469, in _request\n",
      "    raise GeocoderUnavailable(message)\n",
      "geopy.exc.GeocoderUnavailable: HTTPSConnectionPool(host='nominatim.openstreetmap.org', port=443): Max retries exceeded with url: /search?q=11%2F4%2F14&format=json&limit=1 (Caused by ReadTimeoutError(\"HTTPSConnectionPool(host='nominatim.openstreetmap.org', port=443): Read timed out. (read timeout=1)\"))\n",
      "RateLimiter swallowed an error after 2 retries. Called with (*('11/4/14',), **{}).\n",
      "Traceback (most recent call last):\n",
      "  File \"/Users/salvatoremercuri/opt/anaconda3/envs/disaster-tweets/lib/python3.7/site-packages/urllib3/connectionpool.py\", line 449, in _make_request\n",
      "    six.raise_from(e, None)\n",
      "  File \"<string>\", line 3, in raise_from\n",
      "  File \"/Users/salvatoremercuri/opt/anaconda3/envs/disaster-tweets/lib/python3.7/site-packages/urllib3/connectionpool.py\", line 444, in _make_request\n",
      "    httplib_response = conn.getresponse()\n",
      "  File \"/Users/salvatoremercuri/opt/anaconda3/envs/disaster-tweets/lib/python3.7/http/client.py\", line 1321, in getresponse\n",
      "    response.begin()\n",
      "  File \"/Users/salvatoremercuri/opt/anaconda3/envs/disaster-tweets/lib/python3.7/http/client.py\", line 296, in begin\n",
      "    version, status, reason = self._read_status()\n",
      "  File \"/Users/salvatoremercuri/opt/anaconda3/envs/disaster-tweets/lib/python3.7/http/client.py\", line 257, in _read_status\n",
      "    line = str(self.fp.readline(_MAXLINE + 1), \"iso-8859-1\")\n",
      "  File \"/Users/salvatoremercuri/opt/anaconda3/envs/disaster-tweets/lib/python3.7/socket.py\", line 589, in readinto\n",
      "    return self._sock.recv_into(b)\n",
      "  File \"/Users/salvatoremercuri/opt/anaconda3/envs/disaster-tweets/lib/python3.7/ssl.py\", line 1052, in recv_into\n",
      "    return self.read(nbytes, buffer)\n",
      "  File \"/Users/salvatoremercuri/opt/anaconda3/envs/disaster-tweets/lib/python3.7/ssl.py\", line 911, in read\n",
      "    return self._sslobj.read(len, buffer)\n",
      "socket.timeout: The read operation timed out\n",
      "\n",
      "During handling of the above exception, another exception occurred:\n",
      "\n",
      "Traceback (most recent call last):\n",
      "  File \"/Users/salvatoremercuri/opt/anaconda3/envs/disaster-tweets/lib/python3.7/site-packages/urllib3/connectionpool.py\", line 710, in urlopen\n",
      "    chunked=chunked,\n",
      "  File \"/Users/salvatoremercuri/opt/anaconda3/envs/disaster-tweets/lib/python3.7/site-packages/urllib3/connectionpool.py\", line 451, in _make_request\n",
      "    self._raise_timeout(err=e, url=url, timeout_value=read_timeout)\n",
      "  File \"/Users/salvatoremercuri/opt/anaconda3/envs/disaster-tweets/lib/python3.7/site-packages/urllib3/connectionpool.py\", line 341, in _raise_timeout\n",
      "    self, url, \"Read timed out. (read timeout=%s)\" % timeout_value\n",
      "urllib3.exceptions.ReadTimeoutError: HTTPSConnectionPool(host='nominatim.openstreetmap.org', port=443): Read timed out. (read timeout=1)\n",
      "\n",
      "During handling of the above exception, another exception occurred:\n",
      "\n",
      "Traceback (most recent call last):\n",
      "  File \"/Users/salvatoremercuri/opt/anaconda3/envs/disaster-tweets/lib/python3.7/site-packages/requests/adapters.py\", line 499, in send\n",
      "    timeout=timeout,\n",
      "  File \"/Users/salvatoremercuri/opt/anaconda3/envs/disaster-tweets/lib/python3.7/site-packages/urllib3/connectionpool.py\", line 828, in urlopen\n",
      "    **response_kw\n",
      "  File \"/Users/salvatoremercuri/opt/anaconda3/envs/disaster-tweets/lib/python3.7/site-packages/urllib3/connectionpool.py\", line 828, in urlopen\n",
      "    **response_kw\n",
      "  File \"/Users/salvatoremercuri/opt/anaconda3/envs/disaster-tweets/lib/python3.7/site-packages/urllib3/connectionpool.py\", line 788, in urlopen\n",
      "    method, url, error=e, _pool=self, _stacktrace=sys.exc_info()[2]\n",
      "  File \"/Users/salvatoremercuri/opt/anaconda3/envs/disaster-tweets/lib/python3.7/site-packages/urllib3/util/retry.py\", line 592, in increment\n",
      "    raise MaxRetryError(_pool, url, error or ResponseError(cause))\n",
      "urllib3.exceptions.MaxRetryError: HTTPSConnectionPool(host='nominatim.openstreetmap.org', port=443): Max retries exceeded with url: /search?q=11%2F4%2F14&format=json&limit=1 (Caused by ReadTimeoutError(\"HTTPSConnectionPool(host='nominatim.openstreetmap.org', port=443): Read timed out. (read timeout=1)\"))\n",
      "\n",
      "During handling of the above exception, another exception occurred:\n",
      "\n",
      "Traceback (most recent call last):\n",
      "  File \"/Users/salvatoremercuri/opt/anaconda3/envs/disaster-tweets/lib/python3.7/site-packages/geopy/adapters.py\", line 457, in _request\n",
      "    resp = self.session.get(url, timeout=timeout, headers=headers)\n",
      "  File \"/Users/salvatoremercuri/opt/anaconda3/envs/disaster-tweets/lib/python3.7/site-packages/requests/sessions.py\", line 600, in get\n",
      "    return self.request(\"GET\", url, **kwargs)\n",
      "  File \"/Users/salvatoremercuri/opt/anaconda3/envs/disaster-tweets/lib/python3.7/site-packages/requests/sessions.py\", line 587, in request\n",
      "    resp = self.send(prep, **send_kwargs)\n",
      "  File \"/Users/salvatoremercuri/opt/anaconda3/envs/disaster-tweets/lib/python3.7/site-packages/requests/sessions.py\", line 701, in send\n",
      "    r = adapter.send(request, **kwargs)\n",
      "  File \"/Users/salvatoremercuri/opt/anaconda3/envs/disaster-tweets/lib/python3.7/site-packages/requests/adapters.py\", line 565, in send\n",
      "    raise ConnectionError(e, request=request)\n",
      "requests.exceptions.ConnectionError: HTTPSConnectionPool(host='nominatim.openstreetmap.org', port=443): Max retries exceeded with url: /search?q=11%2F4%2F14&format=json&limit=1 (Caused by ReadTimeoutError(\"HTTPSConnectionPool(host='nominatim.openstreetmap.org', port=443): Read timed out. (read timeout=1)\"))\n",
      "\n",
      "During handling of the above exception, another exception occurred:\n",
      "\n",
      "Traceback (most recent call last):\n",
      "  File \"/Users/salvatoremercuri/opt/anaconda3/envs/disaster-tweets/lib/python3.7/site-packages/geopy/extra/rate_limiter.py\", line 274, in __call__\n",
      "    res = self.func(*args, **kwargs)\n",
      "  File \"/Users/salvatoremercuri/opt/anaconda3/envs/disaster-tweets/lib/python3.7/site-packages/geopy/geocoders/nominatim.py\", line 297, in geocode\n",
      "    return self._call_geocoder(url, callback, timeout=timeout)\n",
      "  File \"/Users/salvatoremercuri/opt/anaconda3/envs/disaster-tweets/lib/python3.7/site-packages/geopy/geocoders/base.py\", line 368, in _call_geocoder\n",
      "    result = self.adapter.get_json(url, timeout=timeout, headers=req_headers)\n",
      "  File \"/Users/salvatoremercuri/opt/anaconda3/envs/disaster-tweets/lib/python3.7/site-packages/geopy/adapters.py\", line 447, in get_json\n",
      "    resp = self._request(url, timeout=timeout, headers=headers)\n",
      "  File \"/Users/salvatoremercuri/opt/anaconda3/envs/disaster-tweets/lib/python3.7/site-packages/geopy/adapters.py\", line 469, in _request\n",
      "    raise GeocoderUnavailable(message)\n",
      "geopy.exc.GeocoderUnavailable: HTTPSConnectionPool(host='nominatim.openstreetmap.org', port=443): Max retries exceeded with url: /search?q=11%2F4%2F14&format=json&limit=1 (Caused by ReadTimeoutError(\"HTTPSConnectionPool(host='nominatim.openstreetmap.org', port=443): Read timed out. (read timeout=1)\"))\n"
     ]
    },
    {
     "ename": "KeyboardInterrupt",
     "evalue": "",
     "output_type": "error",
     "traceback": [
      "\u001b[0;31m---------------------------------------------------------------------------\u001b[0m",
      "\u001b[0;31mKeyboardInterrupt\u001b[0m                         Traceback (most recent call last)",
      "\u001b[0;32m/var/folders/kq/g7jsrxvs0wv58x5d6sdwv7dc0000gn/T/ipykernel_26142/341078104.py\u001b[0m in \u001b[0;36m<module>\u001b[0;34m\u001b[0m\n\u001b[1;32m      1\u001b[0m \u001b[0mgeocode\u001b[0m \u001b[0;34m=\u001b[0m \u001b[0mRateLimiter\u001b[0m\u001b[0;34m(\u001b[0m\u001b[0mlocator\u001b[0m\u001b[0;34m.\u001b[0m\u001b[0mgeocode\u001b[0m\u001b[0;34m,\u001b[0m \u001b[0mmin_delay_seconds\u001b[0m\u001b[0;34m=\u001b[0m\u001b[0;36m1\u001b[0m\u001b[0;34m)\u001b[0m\u001b[0;34m\u001b[0m\u001b[0;34m\u001b[0m\u001b[0m\n\u001b[1;32m      2\u001b[0m \u001b[0;34m\u001b[0m\u001b[0m\n\u001b[0;32m----> 3\u001b[0;31m \u001b[0mdf\u001b[0m\u001b[0;34m[\u001b[0m\u001b[0;34m'location'\u001b[0m\u001b[0;34m]\u001b[0m\u001b[0;34m.\u001b[0m\u001b[0mapply\u001b[0m\u001b[0;34m(\u001b[0m\u001b[0mgeocode\u001b[0m\u001b[0;34m)\u001b[0m\u001b[0;34m.\u001b[0m\u001b[0mapply\u001b[0m\u001b[0;34m(\u001b[0m\u001b[0;32mlambda\u001b[0m \u001b[0mloc\u001b[0m\u001b[0;34m:\u001b[0m \u001b[0;34m[\u001b[0m\u001b[0mloc\u001b[0m\u001b[0;34m.\u001b[0m\u001b[0mlatitude\u001b[0m\u001b[0;34m,\u001b[0m \u001b[0mlog\u001b[0m\u001b[0;34m.\u001b[0m\u001b[0mlongitude\u001b[0m\u001b[0;34m]\u001b[0m \u001b[0;32mif\u001b[0m \u001b[0mloc\u001b[0m \u001b[0;32melse\u001b[0m \u001b[0;32mNone\u001b[0m\u001b[0;34m)\u001b[0m\u001b[0;34m\u001b[0m\u001b[0;34m\u001b[0m\u001b[0m\n\u001b[0m",
      "\u001b[0;32m~/opt/anaconda3/envs/disaster-tweets/lib/python3.7/site-packages/pandas/core/series.py\u001b[0m in \u001b[0;36mapply\u001b[0;34m(self, func, convert_dtype, args, **kwargs)\u001b[0m\n\u001b[1;32m   4355\u001b[0m         \u001b[0mdtype\u001b[0m\u001b[0;34m:\u001b[0m \u001b[0mfloat64\u001b[0m\u001b[0;34m\u001b[0m\u001b[0;34m\u001b[0m\u001b[0m\n\u001b[1;32m   4356\u001b[0m         \"\"\"\n\u001b[0;32m-> 4357\u001b[0;31m         \u001b[0;32mreturn\u001b[0m \u001b[0mSeriesApply\u001b[0m\u001b[0;34m(\u001b[0m\u001b[0mself\u001b[0m\u001b[0;34m,\u001b[0m \u001b[0mfunc\u001b[0m\u001b[0;34m,\u001b[0m \u001b[0mconvert_dtype\u001b[0m\u001b[0;34m,\u001b[0m \u001b[0margs\u001b[0m\u001b[0;34m,\u001b[0m \u001b[0mkwargs\u001b[0m\u001b[0;34m)\u001b[0m\u001b[0;34m.\u001b[0m\u001b[0mapply\u001b[0m\u001b[0;34m(\u001b[0m\u001b[0;34m)\u001b[0m\u001b[0;34m\u001b[0m\u001b[0;34m\u001b[0m\u001b[0m\n\u001b[0m\u001b[1;32m   4358\u001b[0m \u001b[0;34m\u001b[0m\u001b[0m\n\u001b[1;32m   4359\u001b[0m     def _reduce(\n",
      "\u001b[0;32m~/opt/anaconda3/envs/disaster-tweets/lib/python3.7/site-packages/pandas/core/apply.py\u001b[0m in \u001b[0;36mapply\u001b[0;34m(self)\u001b[0m\n\u001b[1;32m   1041\u001b[0m             \u001b[0;32mreturn\u001b[0m \u001b[0mself\u001b[0m\u001b[0;34m.\u001b[0m\u001b[0mapply_str\u001b[0m\u001b[0;34m(\u001b[0m\u001b[0;34m)\u001b[0m\u001b[0;34m\u001b[0m\u001b[0;34m\u001b[0m\u001b[0m\n\u001b[1;32m   1042\u001b[0m \u001b[0;34m\u001b[0m\u001b[0m\n\u001b[0;32m-> 1043\u001b[0;31m         \u001b[0;32mreturn\u001b[0m \u001b[0mself\u001b[0m\u001b[0;34m.\u001b[0m\u001b[0mapply_standard\u001b[0m\u001b[0;34m(\u001b[0m\u001b[0;34m)\u001b[0m\u001b[0;34m\u001b[0m\u001b[0;34m\u001b[0m\u001b[0m\n\u001b[0m\u001b[1;32m   1044\u001b[0m \u001b[0;34m\u001b[0m\u001b[0m\n\u001b[1;32m   1045\u001b[0m     \u001b[0;32mdef\u001b[0m \u001b[0magg\u001b[0m\u001b[0;34m(\u001b[0m\u001b[0mself\u001b[0m\u001b[0;34m)\u001b[0m\u001b[0;34m:\u001b[0m\u001b[0;34m\u001b[0m\u001b[0;34m\u001b[0m\u001b[0m\n",
      "\u001b[0;32m~/opt/anaconda3/envs/disaster-tweets/lib/python3.7/site-packages/pandas/core/apply.py\u001b[0m in \u001b[0;36mapply_standard\u001b[0;34m(self)\u001b[0m\n\u001b[1;32m   1099\u001b[0m                     \u001b[0mvalues\u001b[0m\u001b[0;34m,\u001b[0m\u001b[0;34m\u001b[0m\u001b[0;34m\u001b[0m\u001b[0m\n\u001b[1;32m   1100\u001b[0m                     \u001b[0mf\u001b[0m\u001b[0;34m,\u001b[0m  \u001b[0;31m# type: ignore[arg-type]\u001b[0m\u001b[0;34m\u001b[0m\u001b[0;34m\u001b[0m\u001b[0m\n\u001b[0;32m-> 1101\u001b[0;31m                     \u001b[0mconvert\u001b[0m\u001b[0;34m=\u001b[0m\u001b[0mself\u001b[0m\u001b[0;34m.\u001b[0m\u001b[0mconvert_dtype\u001b[0m\u001b[0;34m,\u001b[0m\u001b[0;34m\u001b[0m\u001b[0;34m\u001b[0m\u001b[0m\n\u001b[0m\u001b[1;32m   1102\u001b[0m                 )\n\u001b[1;32m   1103\u001b[0m \u001b[0;34m\u001b[0m\u001b[0m\n",
      "\u001b[0;32m~/opt/anaconda3/envs/disaster-tweets/lib/python3.7/site-packages/pandas/_libs/lib.pyx\u001b[0m in \u001b[0;36mpandas._libs.lib.map_infer\u001b[0;34m()\u001b[0m\n",
      "\u001b[0;32m~/opt/anaconda3/envs/disaster-tweets/lib/python3.7/site-packages/geopy/extra/rate_limiter.py\u001b[0m in \u001b[0;36m__call__\u001b[0;34m(self, *args, **kwargs)\u001b[0m\n\u001b[1;32m    270\u001b[0m         \u001b[0mgen\u001b[0m \u001b[0;34m=\u001b[0m \u001b[0mself\u001b[0m\u001b[0;34m.\u001b[0m\u001b[0m_retries_gen\u001b[0m\u001b[0;34m(\u001b[0m\u001b[0margs\u001b[0m\u001b[0;34m,\u001b[0m \u001b[0mkwargs\u001b[0m\u001b[0;34m)\u001b[0m\u001b[0;34m\u001b[0m\u001b[0;34m\u001b[0m\u001b[0m\n\u001b[1;32m    271\u001b[0m         \u001b[0;32mfor\u001b[0m \u001b[0m_\u001b[0m \u001b[0;32min\u001b[0m \u001b[0mgen\u001b[0m\u001b[0;34m:\u001b[0m\u001b[0;34m\u001b[0m\u001b[0;34m\u001b[0m\u001b[0m\n\u001b[0;32m--> 272\u001b[0;31m             \u001b[0mself\u001b[0m\u001b[0;34m.\u001b[0m\u001b[0m_acquire_request_slot\u001b[0m\u001b[0;34m(\u001b[0m\u001b[0;34m)\u001b[0m\u001b[0;34m\u001b[0m\u001b[0;34m\u001b[0m\u001b[0m\n\u001b[0m\u001b[1;32m    273\u001b[0m             \u001b[0;32mtry\u001b[0m\u001b[0;34m:\u001b[0m\u001b[0;34m\u001b[0m\u001b[0;34m\u001b[0m\u001b[0m\n\u001b[1;32m    274\u001b[0m                 \u001b[0mres\u001b[0m \u001b[0;34m=\u001b[0m \u001b[0mself\u001b[0m\u001b[0;34m.\u001b[0m\u001b[0mfunc\u001b[0m\u001b[0;34m(\u001b[0m\u001b[0;34m*\u001b[0m\u001b[0margs\u001b[0m\u001b[0;34m,\u001b[0m \u001b[0;34m**\u001b[0m\u001b[0mkwargs\u001b[0m\u001b[0;34m)\u001b[0m\u001b[0;34m\u001b[0m\u001b[0;34m\u001b[0m\u001b[0m\n",
      "\u001b[0;32m~/opt/anaconda3/envs/disaster-tweets/lib/python3.7/site-packages/geopy/extra/rate_limiter.py\u001b[0m in \u001b[0;36m_acquire_request_slot\u001b[0;34m(self)\u001b[0m\n\u001b[1;32m    265\u001b[0m     \u001b[0;32mdef\u001b[0m \u001b[0m_acquire_request_slot\u001b[0m\u001b[0;34m(\u001b[0m\u001b[0mself\u001b[0m\u001b[0;34m)\u001b[0m\u001b[0;34m:\u001b[0m\u001b[0;34m\u001b[0m\u001b[0;34m\u001b[0m\u001b[0m\n\u001b[1;32m    266\u001b[0m         \u001b[0;32mfor\u001b[0m \u001b[0mwait\u001b[0m \u001b[0;32min\u001b[0m \u001b[0mself\u001b[0m\u001b[0;34m.\u001b[0m\u001b[0m_acquire_request_slot_gen\u001b[0m\u001b[0;34m(\u001b[0m\u001b[0;34m)\u001b[0m\u001b[0;34m:\u001b[0m\u001b[0;34m\u001b[0m\u001b[0;34m\u001b[0m\u001b[0m\n\u001b[0;32m--> 267\u001b[0;31m             \u001b[0mself\u001b[0m\u001b[0;34m.\u001b[0m\u001b[0m_sleep\u001b[0m\u001b[0;34m(\u001b[0m\u001b[0mwait\u001b[0m\u001b[0;34m)\u001b[0m\u001b[0;34m\u001b[0m\u001b[0;34m\u001b[0m\u001b[0m\n\u001b[0m\u001b[1;32m    268\u001b[0m \u001b[0;34m\u001b[0m\u001b[0m\n\u001b[1;32m    269\u001b[0m     \u001b[0;32mdef\u001b[0m \u001b[0m__call__\u001b[0m\u001b[0;34m(\u001b[0m\u001b[0mself\u001b[0m\u001b[0;34m,\u001b[0m \u001b[0;34m*\u001b[0m\u001b[0margs\u001b[0m\u001b[0;34m,\u001b[0m \u001b[0;34m**\u001b[0m\u001b[0mkwargs\u001b[0m\u001b[0;34m)\u001b[0m\u001b[0;34m:\u001b[0m\u001b[0;34m\u001b[0m\u001b[0;34m\u001b[0m\u001b[0m\n",
      "\u001b[0;32m~/opt/anaconda3/envs/disaster-tweets/lib/python3.7/site-packages/geopy/extra/rate_limiter.py\u001b[0m in \u001b[0;36m_sleep\u001b[0;34m(self, seconds)\u001b[0m\n\u001b[1;32m    261\u001b[0m     \u001b[0;32mdef\u001b[0m \u001b[0m_sleep\u001b[0m\u001b[0;34m(\u001b[0m\u001b[0mself\u001b[0m\u001b[0;34m,\u001b[0m \u001b[0mseconds\u001b[0m\u001b[0;34m)\u001b[0m\u001b[0;34m:\u001b[0m  \u001b[0;31m# pragma: no cover\u001b[0m\u001b[0;34m\u001b[0m\u001b[0;34m\u001b[0m\u001b[0m\n\u001b[1;32m    262\u001b[0m         \u001b[0mlogger\u001b[0m\u001b[0;34m.\u001b[0m\u001b[0mdebug\u001b[0m\u001b[0;34m(\u001b[0m\u001b[0mtype\u001b[0m\u001b[0;34m(\u001b[0m\u001b[0mself\u001b[0m\u001b[0;34m)\u001b[0m\u001b[0;34m.\u001b[0m\u001b[0m__name__\u001b[0m \u001b[0;34m+\u001b[0m \u001b[0;34m\" sleep(%r)\"\u001b[0m\u001b[0;34m,\u001b[0m \u001b[0mseconds\u001b[0m\u001b[0;34m)\u001b[0m\u001b[0;34m\u001b[0m\u001b[0;34m\u001b[0m\u001b[0m\n\u001b[0;32m--> 263\u001b[0;31m         \u001b[0msleep\u001b[0m\u001b[0;34m(\u001b[0m\u001b[0mseconds\u001b[0m\u001b[0;34m)\u001b[0m\u001b[0;34m\u001b[0m\u001b[0;34m\u001b[0m\u001b[0m\n\u001b[0m\u001b[1;32m    264\u001b[0m \u001b[0;34m\u001b[0m\u001b[0m\n\u001b[1;32m    265\u001b[0m     \u001b[0;32mdef\u001b[0m \u001b[0m_acquire_request_slot\u001b[0m\u001b[0;34m(\u001b[0m\u001b[0mself\u001b[0m\u001b[0;34m)\u001b[0m\u001b[0;34m:\u001b[0m\u001b[0;34m\u001b[0m\u001b[0;34m\u001b[0m\u001b[0m\n",
      "\u001b[0;31mKeyboardInterrupt\u001b[0m: "
     ]
    }
   ],
   "source": [
    "geocode = RateLimiter(locator.geocode, min_delay_seconds=1)\n",
    "\n",
    "df['location'].apply(geocode).apply(lambda loc: [loc.latitude, log.longitude] if loc else None)"
   ]
  },
  {
   "cell_type": "code",
   "execution_count": 28,
   "id": "0c484e05",
   "metadata": {},
   "outputs": [],
   "source": [
    "locator = Nominatim(user_agent=\"myGeocoder\")\n",
    "location = locator.geocode(df.location.loc[6200])"
   ]
  },
  {
   "cell_type": "code",
   "execution_count": 29,
   "id": "3afe94a7",
   "metadata": {},
   "outputs": [
    {
     "data": {
      "text/plain": [
       "46.3144754"
      ]
     },
     "execution_count": 29,
     "metadata": {},
     "output_type": "execute_result"
    }
   ],
   "source": [
    "location.latitude"
   ]
  },
  {
   "cell_type": "code",
   "execution_count": 30,
   "id": "f802575d",
   "metadata": {},
   "outputs": [
    {
     "data": {
      "text/plain": [
       "11.0480288"
      ]
     },
     "execution_count": 30,
     "metadata": {},
     "output_type": "execute_result"
    }
   ],
   "source": [
    "location.longitude"
   ]
  },
  {
   "cell_type": "markdown",
   "id": "680dbda8",
   "metadata": {},
   "source": [
    "Considerations:\n",
    "- Some locations don't make any sense e.g. Taylor Swift, Above the snake line ...\n",
    "- Some locations aren't useful e.g. Earth\n",
    "- Some locations are co-ordinates\n",
    "- some locations have character encodings e.g. Montréal has encoding for the accent\n",
    "\n",
    "Try: preprocess for character encodings, then check if locations are either text of real location or co-ordinates, and convert either to a standard format -- co-ordinates for all may be better."
   ]
  },
  {
   "cell_type": "code",
   "execution_count": 24,
   "id": "2159a732",
   "metadata": {
    "scrolled": true
   },
   "outputs": [
    {
     "name": "stderr",
     "output_type": "stream",
     "text": [
      "/Users/salvatoremercuri/opt/anaconda3/envs/disaster-tweets/lib/python3.7/site-packages/bs4/__init__.py:439: MarkupResemblesLocatorWarning: The input looks more like a filename than markup. You may want to open this file and pass the filehandle into Beautiful Soup.\n",
      "  MarkupResemblesLocatorWarning\n",
      "/Users/salvatoremercuri/opt/anaconda3/envs/disaster-tweets/lib/python3.7/site-packages/bs4/__init__.py:408: MarkupResemblesLocatorWarning: The input looks more like a URL than markup. You may want to use an HTTP client like requests to get the document behind the URL, and feed that document to Beautiful Soup.\n",
      "  MarkupResemblesLocatorWarning\n"
     ]
    }
   ],
   "source": [
    "preproc_locs = [preprocess_tweet(loc, to_match=['[^a-zA-Z0-9.]']) for loc in df.location]"
   ]
  },
  {
   "cell_type": "code",
   "execution_count": 35,
   "id": "ed113b91",
   "metadata": {},
   "outputs": [
    {
     "data": {
      "text/plain": [
       "7434"
      ]
     },
     "execution_count": 35,
     "metadata": {},
     "output_type": "execute_result"
    }
   ],
   "source": [
    "len(preproc_locs)"
   ]
  },
  {
   "cell_type": "markdown",
   "id": "b802d21c",
   "metadata": {},
   "source": [
    "### Keyword data"
   ]
  },
  {
   "cell_type": "code",
   "execution_count": 45,
   "id": "b9a08178",
   "metadata": {},
   "outputs": [
    {
     "name": "stdout",
     "output_type": "stream",
     "text": [
      "Sentence 5000: military\n",
      "Sentence 3290: evacuate\n",
      "Sentence 3901: flattened\n",
      "Sentence 6227: smoke\n",
      "Sentence 2604: destroyed\n",
      "Sentence 947: blown%20up\n",
      "Sentence 4891: massacre\n",
      "Sentence 6647: terrorist\n",
      "Sentence 5887: sandstorm\n",
      "Sentence 1359: burning%20buildings\n",
      "Sentence 4216: hazardous\n",
      "Sentence 4023: forest%20fire\n",
      "Sentence 3721: fear\n",
      "Sentence 6609: terrorism\n",
      "Sentence 5763: riot\n",
      "Sentence 389: arson\n",
      "Sentence 6437: suicide%20bombing\n",
      "Sentence 5585: razed\n",
      "Sentence 732: bleeding\n",
      "Sentence 1245: buildings%20on%20fire\n"
     ]
    }
   ],
   "source": [
    "for _ in range(20):\n",
    "    random_idx = random.randint(0, len(df) - 1)\n",
    "    print(f\"Sentence {random_idx}: {df.keyword[random_idx]}\")"
   ]
  },
  {
   "cell_type": "code",
   "execution_count": 9,
   "id": "7495c7a2",
   "metadata": {},
   "outputs": [
    {
     "data": {
      "text/plain": [
       "(222,)"
      ]
     },
     "execution_count": 9,
     "metadata": {},
     "output_type": "execute_result"
    }
   ],
   "source": [
    "df.keyword.unique().shape"
   ]
  },
  {
   "cell_type": "code",
   "execution_count": 50,
   "id": "fbdf2045",
   "metadata": {
    "scrolled": true
   },
   "outputs": [],
   "source": [
    "keyword = df.keyword.unique()[8]"
   ]
  },
  {
   "cell_type": "code",
   "execution_count": 51,
   "id": "dc197190",
   "metadata": {},
   "outputs": [
    {
     "data": {
      "text/plain": [
       "<seaborn.axisgrid.FacetGrid at 0x7fc5744a1940>"
      ]
     },
     "execution_count": 51,
     "metadata": {},
     "output_type": "execute_result"
    },
    {
     "data": {
      "image/png": "[encoded data removed]",
      "text/plain": [
       "<Figure size 558.875x500 with 1 Axes>"
      ]
     },
     "metadata": {},
     "output_type": "display_data"
    }
   ],
   "source": [
    "sns.catplot(data=df[df.keyword == keyword], x='keyword', hue='target', kind='count')"
   ]
  },
  {
   "cell_type": "markdown",
   "id": "76ebf509",
   "metadata": {},
   "source": [
    "Considerations:\n",
    "- Categorical data with 221 categories and 61 nan's.\n",
    "- There are keywords with duplicate meanings, e.g. inundated and flooding, burning buildings and buildings on fire"
   ]
  },
  {
   "cell_type": "markdown",
   "id": "bc61c66d",
   "metadata": {},
   "source": [
    "## Preprocessing"
   ]
  },
  {
   "cell_type": "markdown",
   "id": "dcc9002e",
   "metadata": {},
   "source": [
    "Text column requires preprocessing -- tokenization, removing html tags, stop words, all punctuation, stemming and converting to numpy array, where element `i` is the preprocessed `df.text[i]`."
   ]
  },
  {
   "cell_type": "code",
   "execution_count": 161,
   "id": "f868d431",
   "metadata": {},
   "outputs": [],
   "source": [
    "def preprocess_sentence(sentence, remove_stopwords = True, stemmer=None, tokenize=False):\n",
    "    sentence = BeautifulSoup(str(sentence), 'lxml').text\n",
    "    to_match = [\"http\\S+\",\n",
    "               \"@\\S+\",\n",
    "               \"[^a-zA-Z]\"]\n",
    "    sentence = sentence.lower()\n",
    "    sentence = re.sub(\"n't\", \" not\", sentence)\n",
    "    sentence = re.sub(\"|\".join(to_match), \" \", sentence)\n",
    "    stopword_list = stopwords.words(\"english\") if remove_stopwords else [\"new\", \"via\"]\n",
    "    tokens = [word for word in sentence.split() if word not in stopword_list if len(word) > 1]\n",
    "    if stemmer is None:\n",
    "        if not tokenize:\n",
    "            return \" \".join(tokens)\n",
    "        return tokens\n",
    "    stemmed = [stemmer.stem(token) for token in tokens]\n",
    "    if not tokenize:\n",
    "        return \" \".join(stemmed)\n",
    "    return stemmed"
   ]
  },
  {
   "cell_type": "code",
   "execution_count": 157,
   "id": "b33587ed",
   "metadata": {},
   "outputs": [],
   "source": [
    "def preprocess(col, remove_stopwords=True, stemmer=None, tokenize=False):\n",
    "    return [preprocess_sentence(sentence, remove_stopwords, stemmer, tokenize) for sentence in col]"
   ]
  },
  {
   "cell_type": "code",
   "execution_count": 162,
   "id": "53ddedea",
   "metadata": {
    "scrolled": true
   },
   "outputs": [
    {
     "name": "stderr",
     "output_type": "stream",
     "text": [
      "/Users/salvatoremercuri/opt/anaconda3/envs/disaster-tweets/lib/python3.7/site-packages/bs4/__init__.py:439: MarkupResemblesLocatorWarning: The input looks more like a filename than markup. You may want to open this file and pass the filehandle into Beautiful Soup.\n",
      "  MarkupResemblesLocatorWarning\n"
     ]
    }
   ],
   "source": [
    "processed_text = pd.Series(preprocess(df.text, remove_stopwords=False), index=df.index)"
   ]
  },
  {
   "cell_type": "code",
   "execution_count": 69,
   "id": "d674eaf4",
   "metadata": {},
   "outputs": [
    {
     "data": {
      "text/plain": [
       "138"
      ]
     },
     "execution_count": 69,
     "metadata": {},
     "output_type": "execute_result"
    }
   ],
   "source": [
    "max(list(map(len, processed_text)))"
   ]
  },
  {
   "cell_type": "code",
   "execution_count": 143,
   "id": "7413c85c",
   "metadata": {},
   "outputs": [],
   "source": [
    "pos_mask, neg_mask = df.target == 0, df.target == 1"
   ]
  },
  {
   "cell_type": "code",
   "execution_count": 163,
   "id": "7d238b9a",
   "metadata": {},
   "outputs": [],
   "source": [
    "pos_wordcloud, neg_wordcloud = WordCloud().generate(\" \".join(processed_text[pos_mask].values)), WordCloud().generate(\" \".join(processed_text[neg_mask].values))"
   ]
  },
  {
   "cell_type": "code",
   "execution_count": 164,
   "id": "ac1129a3",
   "metadata": {},
   "outputs": [
    {
     "data": {
      "text/plain": [
       "(0.0, 1.0, 0.0, 1.0)"
      ]
     },
     "execution_count": 164,
     "metadata": {},
     "output_type": "execute_result"
    },
    {
     "data": {
      "image/png": "[encoded data removed]",
      "text/plain": [
       "<Figure size 640x480 with 1 Axes>"
      ]
     },
     "metadata": {},
     "output_type": "display_data"
    },
    {
     "data": {
      "image/png": "[encoded data removed]",
      "text/plain": [
       "<Figure size 640x480 with 1 Axes>"
      ]
     },
     "metadata": {},
     "output_type": "display_data"
    }
   ],
   "source": [
    "plt.imshow(pos_wordcloud, interpolation=\"bilinear\")\n",
    "plt.figure()\n",
    "plt.axis(\"off\")"
   ]
  },
  {
   "cell_type": "code",
   "execution_count": 165,
   "id": "3ce80956",
   "metadata": {},
   "outputs": [
    {
     "data": {
      "text/plain": [
       "(0.0, 1.0, 0.0, 1.0)"
      ]
     },
     "execution_count": 165,
     "metadata": {},
     "output_type": "execute_result"
    },
    {
     "data": {
      "image/png": "[encoded data removed]",
      "text/plain": [
       "<Figure size 640x480 with 1 Axes>"
      ]
     },
     "metadata": {},
     "output_type": "display_data"
    },
    {
     "data": {
      "image/png": "[encoded data removed]",
      "text/plain": [
       "<Figure size 640x480 with 1 Axes>"
      ]
     },
     "metadata": {},
     "output_type": "display_data"
    }
   ],
   "source": [
    "plt.imshow(neg_wordcloud, interpolation=\"bilinear\")\n",
    "plt.figure()\n",
    "plt.axis(\"off\")"
   ]
  },
  {
   "cell_type": "markdown",
   "id": "09a57716",
   "metadata": {},
   "source": [
    "## Naive Bayes"
   ]
  },
  {
   "cell_type": "code",
   "execution_count": 233,
   "id": "ae49b6a0",
   "metadata": {},
   "outputs": [],
   "source": [
    "train_text, test_text, y_train, y_test = train_test_split(processed_text, df.target)"
   ]
  },
  {
   "cell_type": "code",
   "execution_count": 234,
   "id": "c8dd01ed",
   "metadata": {},
   "outputs": [],
   "source": [
    "counts = CountVectorizer()\n",
    "X_train = counts.fit_transform(train_text).toarray()\n",
    "X_test = counts.transform(test_text).toarray()"
   ]
  },
  {
   "cell_type": "code",
   "execution_count": 235,
   "id": "80b0e6a4",
   "metadata": {},
   "outputs": [
    {
     "data": {
      "text/plain": [
       "(5709, 11783)"
      ]
     },
     "execution_count": 235,
     "metadata": {},
     "output_type": "execute_result"
    }
   ],
   "source": [
    "X_train.shape"
   ]
  },
  {
   "cell_type": "code",
   "execution_count": 236,
   "id": "05021d6d",
   "metadata": {},
   "outputs": [
    {
     "data": {
      "text/plain": [
       "(1904, 11783)"
      ]
     },
     "execution_count": 236,
     "metadata": {},
     "output_type": "execute_result"
    }
   ],
   "source": [
    "X_test.shape"
   ]
  },
  {
   "cell_type": "code",
   "execution_count": 238,
   "id": "71c0e5a6",
   "metadata": {},
   "outputs": [],
   "source": [
    "model = MultinomialNB()"
   ]
  },
  {
   "cell_type": "code",
   "execution_count": 239,
   "id": "554c0ec2",
   "metadata": {},
   "outputs": [
    {
     "data": {
      "text/plain": [
       "MultinomialNB()"
      ]
     },
     "execution_count": 239,
     "metadata": {},
     "output_type": "execute_result"
    }
   ],
   "source": [
    "model.fit(X_train, y_train)"
   ]
  },
  {
   "cell_type": "code",
   "execution_count": 240,
   "id": "b8f19987",
   "metadata": {},
   "outputs": [],
   "source": [
    "train_preds = model.predict(X_train)"
   ]
  },
  {
   "cell_type": "code",
   "execution_count": 241,
   "id": "4fccb872",
   "metadata": {},
   "outputs": [
    {
     "name": "stdout",
     "output_type": "stream",
     "text": [
      "Train accuracy: 0.9083902609914171\n"
     ]
    }
   ],
   "source": [
    "train_accuracy = accuracy_score(y_train, train_preds)\n",
    "print(f\"Train accuracy: {train_accuracy}\")"
   ]
  },
  {
   "cell_type": "markdown",
   "id": "0809bbaf",
   "metadata": {},
   "source": [
    "90% accuracy on training data."
   ]
  },
  {
   "cell_type": "code",
   "execution_count": 242,
   "id": "dc4ed5f3",
   "metadata": {},
   "outputs": [
    {
     "name": "stdout",
     "output_type": "stream",
     "text": [
      "Test accuracy: 0.7977941176470589\n"
     ]
    }
   ],
   "source": [
    "test_preds = model.predict(X_test)\n",
    "test_accuracy = accuracy_score(y_test, test_preds)\n",
    "print(f\"Test accuracy: {test_accuracy}\")"
   ]
  },
  {
   "cell_type": "markdown",
   "id": "de5348f5",
   "metadata": {},
   "source": [
    "80% test accuracy"
   ]
  },
  {
   "cell_type": "markdown",
   "id": "fc151486",
   "metadata": {},
   "source": [
    "## Logistic Regression"
   ]
  },
  {
   "cell_type": "code",
   "execution_count": 385,
   "id": "535e854c",
   "metadata": {},
   "outputs": [],
   "source": [
    "category_df = df[['location', 'keyword']]"
   ]
  },
  {
   "cell_type": "code",
   "execution_count": 386,
   "id": "9570ad1f",
   "metadata": {
    "scrolled": true
   },
   "outputs": [],
   "source": [
    "X = pd.get_dummies(df.keyword, dummy_na=True).values\n",
    "y = df.target"
   ]
  },
  {
   "cell_type": "code",
   "execution_count": 399,
   "id": "fc48a296",
   "metadata": {},
   "outputs": [],
   "source": [
    "X = OneHotEncoder(sparse=False, handle_unknown='ignore').fit_transform(df[['keyword']])"
   ]
  },
  {
   "cell_type": "code",
   "execution_count": 395,
   "id": "219ac9e1",
   "metadata": {},
   "outputs": [],
   "source": [
    "X_train, X_test, y_train, y_test = train_test_split(X, y)"
   ]
  },
  {
   "cell_type": "code",
   "execution_count": 396,
   "id": "e7791570",
   "metadata": {},
   "outputs": [
    {
     "data": {
      "text/plain": [
       "LogisticRegression()"
      ]
     },
     "execution_count": 396,
     "metadata": {},
     "output_type": "execute_result"
    }
   ],
   "source": [
    "model = LogisticRegression()\n",
    "model.fit(X_train, y_train)"
   ]
  },
  {
   "cell_type": "code",
   "execution_count": 397,
   "id": "8bc642de",
   "metadata": {},
   "outputs": [
    {
     "data": {
      "text/plain": [
       "0.7488176563321072"
      ]
     },
     "execution_count": 397,
     "metadata": {},
     "output_type": "execute_result"
    }
   ],
   "source": [
    "model.score(X_train, y_train)"
   ]
  },
  {
   "cell_type": "code",
   "execution_count": 398,
   "id": "915b79fb",
   "metadata": {},
   "outputs": [
    {
     "data": {
      "text/plain": [
       "0.7242647058823529"
      ]
     },
     "execution_count": 398,
     "metadata": {},
     "output_type": "execute_result"
    }
   ],
   "source": [
    "model.score(X_test, y_test)"
   ]
  },
  {
   "cell_type": "code",
   "execution_count": 303,
   "id": "08a9e8b3",
   "metadata": {
    "scrolled": true
   },
   "outputs": [
    {
     "data": {
      "text/plain": [
       "3342"
      ]
     },
     "execution_count": 303,
     "metadata": {},
     "output_type": "execute_result"
    }
   ],
   "source": [
    "len(df.location.unique())"
   ]
  },
  {
   "cell_type": "code",
   "execution_count": 306,
   "id": "af236027",
   "metadata": {},
   "outputs": [],
   "source": [
    "X = pd.get_dummies(df.location, dummy_na=True).values\n",
    "y = df.target"
   ]
  },
  {
   "cell_type": "code",
   "execution_count": 308,
   "id": "c0b17391",
   "metadata": {},
   "outputs": [],
   "source": [
    "X_train, X_test, y_train, y_test = train_test_split(X, y)"
   ]
  },
  {
   "cell_type": "code",
   "execution_count": 309,
   "id": "858ddfe8",
   "metadata": {},
   "outputs": [
    {
     "data": {
      "text/plain": [
       "LogisticRegression()"
      ]
     },
     "execution_count": 309,
     "metadata": {},
     "output_type": "execute_result"
    }
   ],
   "source": [
    "model.fit(X_train, y_train)"
   ]
  },
  {
   "cell_type": "code",
   "execution_count": 310,
   "id": "0da19cc2",
   "metadata": {},
   "outputs": [
    {
     "data": {
      "text/plain": [
       "0.7824487651077247"
      ]
     },
     "execution_count": 310,
     "metadata": {},
     "output_type": "execute_result"
    }
   ],
   "source": [
    "model.score(X_train, y_train)"
   ]
  },
  {
   "cell_type": "code",
   "execution_count": 311,
   "id": "6891b37c",
   "metadata": {},
   "outputs": [
    {
     "data": {
      "text/plain": [
       "0.5835084033613446"
      ]
     },
     "execution_count": 311,
     "metadata": {},
     "output_type": "execute_result"
    }
   ],
   "source": [
    "model.score(X_test, y_test)"
   ]
  },
  {
   "cell_type": "code",
   "execution_count": 345,
   "id": "ddb7ab2e",
   "metadata": {},
   "outputs": [],
   "source": [
    "enc = OrdinalEncoder()\n",
    "enc.fit(category_df[['location']].fillna(\"unknown\"))\n",
    "loc = pd.DataFrame(enc.transform(category_df[['location']].fillna(\"unknown\")), columns=['location'])"
   ]
  },
  {
   "cell_type": "code",
   "execution_count": 346,
   "id": "e6ea7783",
   "metadata": {},
   "outputs": [],
   "source": [
    "X = pd.concat([loc, pd.get_dummies(category_df.keyword)], axis=1).values\n",
    "y = df.target"
   ]
  },
  {
   "cell_type": "code",
   "execution_count": 347,
   "id": "d2143784",
   "metadata": {},
   "outputs": [],
   "source": [
    "X_train, X_test, y_train, y_test = train_test_split(X, y)"
   ]
  },
  {
   "cell_type": "code",
   "execution_count": 348,
   "id": "1dfbf552",
   "metadata": {},
   "outputs": [
    {
     "data": {
      "text/plain": [
       "LogisticRegression()"
      ]
     },
     "execution_count": 348,
     "metadata": {},
     "output_type": "execute_result"
    }
   ],
   "source": [
    "model.fit(X_train, y_train)"
   ]
  },
  {
   "cell_type": "code",
   "execution_count": 350,
   "id": "6d579413",
   "metadata": {},
   "outputs": [
    {
     "data": {
      "text/plain": [
       "0.7368697478991597"
      ]
     },
     "execution_count": 350,
     "metadata": {},
     "output_type": "execute_result"
    }
   ],
   "source": [
    "model.score(X_test, y_test)"
   ]
  },
  {
   "cell_type": "code",
   "execution_count": 351,
   "id": "10889def",
   "metadata": {},
   "outputs": [
    {
     "name": "stderr",
     "output_type": "stream",
     "text": [
      "/Users/salvatoremercuri/opt/anaconda3/envs/disaster-tweets/lib/python3.7/site-packages/pandas/core/frame.py:5182: SettingWithCopyWarning: \n",
      "A value is trying to be set on a copy of a slice from a DataFrame\n",
      "\n",
      "See the caveats in the documentation: https://pandas.pydata.org/pandas-docs/stable/user_guide/indexing.html#returning-a-view-versus-a-copy\n",
      "  downcast=downcast,\n"
     ]
    }
   ],
   "source": [
    "category_df.fillna(\"unknown\", inplace=True)"
   ]
  },
  {
   "cell_type": "code",
   "execution_count": 354,
   "id": "93cbfa46",
   "metadata": {},
   "outputs": [],
   "source": [
    "X = enc.fit_transform(category_df)"
   ]
  },
  {
   "cell_type": "code",
   "execution_count": 355,
   "id": "692f9355",
   "metadata": {},
   "outputs": [
    {
     "data": {
      "text/plain": [
       "LogisticRegression()"
      ]
     },
     "execution_count": 355,
     "metadata": {},
     "output_type": "execute_result"
    }
   ],
   "source": [
    "X_train, X_test, y_train, y_test = train_test_split(X, y)\n",
    "model.fit(X_train, y_train)"
   ]
  },
  {
   "cell_type": "code",
   "execution_count": 356,
   "id": "995435e2",
   "metadata": {},
   "outputs": [
    {
     "data": {
      "text/plain": [
       "0.5598739495798319"
      ]
     },
     "execution_count": 356,
     "metadata": {},
     "output_type": "execute_result"
    }
   ],
   "source": [
    "model.score(X_test, y_test)"
   ]
  }
 ],
 "metadata": {
  "kernelspec": {
   "display_name": "Python 3 (ipykernel)",
   "language": "python",
   "name": "python3"
  },
  "language_info": {
   "codemirror_mode": {
    "name": "ipython",
    "version": 3
   },
   "file_extension": ".py",
   "mimetype": "text/x-python",
   "name": "python",
   "nbconvert_exporter": "python",
   "pygments_lexer": "ipython3",
   "version": "3.7.1"
  }
 },
 "nbformat": 4,
 "nbformat_minor": 5
}
